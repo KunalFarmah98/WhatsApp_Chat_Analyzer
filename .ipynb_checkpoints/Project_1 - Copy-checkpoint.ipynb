{
 "cells": [
  {
   "cell_type": "code",
   "execution_count": 1,
   "metadata": {
    "deletable": false,
    "edittable": false,
    "unlockable": false
   },
   "outputs": [],
   "source": [
    "import re\n",
    "import pandas as pd\n",
    "from matplotlib import pyplot as plt\n",
    "import operator "
   ]
  },
  {
   "cell_type": "code",
   "execution_count": 3,
   "metadata": {},
   "outputs": [],
   "source": [
    "# defining functions for preprocessing chats data\n",
    "def import_data(file, path = ''):\n",
    "    \"\"\" Import whatsapp data and transform it to a dataframe \"\"\"\n",
    "   \n",
    "    with open(path + file, encoding = 'utf-8') as outfile:\n",
    "        raw_text = outfile.readlines()\n",
    "        messages = {}\n",
    "\n",
    "        for message in raw_text: \n",
    "\n",
    "            # Some messages are not sent by the user, \n",
    "            # but are simply comments and therefore need to be removed\n",
    "            try:\n",
    "                name = message.split(' - ')[1].split(':')[0]\n",
    "            except:\n",
    "                continue\n",
    "\n",
    "            if name in messages:\n",
    "                messages[name].append(message)\n",
    "            else:\n",
    "                messages[name] = [message]\n",
    "\n",
    "    # Convert dictionary to dataframe\n",
    "    df = pd.DataFrame(columns=['Message_Raw', 'User'])\n",
    "\n",
    "    for name in messages.keys():\n",
    "        df = df.append(pd.DataFrame({'Message_Raw': messages[name], 'User': name}))\n",
    "\n",
    "    df.reset_index(inplace=True)\n",
    "\n",
    "    return df\n",
    "\n",
    "def clean_message(row):\n",
    "    \n",
    "    \"\"\" Try to extract name \"\"\"\n",
    "\n",
    "    name = row.User + ': '\n",
    "    \n",
    "    try:\n",
    "        return row.Message_Raw.split(name)[1][:-1]\n",
    "    except:\n",
    "        return row.Message_Raw\n",
    "    \n",
    "\n",
    "def preprocess_data(df):\n",
    "   \n",
    "    \"\"\" Creates column with only message, not date/name etc (Message_Clean).\n",
    "     Creates column with only text message, no smileys etc.(Message_Only_Text) \"\"\"\n",
    " \n",
    "    \n",
    "    # Create column with only message, not date/name etc.\n",
    "    df['Message_Clean'] = df.apply(lambda row: clean_message(row), axis = 1)\n",
    "\n",
    "    # Create column with only text message in lowercase, no emojis, numerals and punctations.\n",
    "    df['Message_Only_Text'] = df.apply(lambda row: re.sub(r'[^a-zA-Z\\' ]+', '', \n",
    "                                                          row.Message_Clean.lower()), \n",
    "                                       axis = 1)\n",
    "    \n",
    "    return df\n",
    "\n",
    "\n",
    "def preprocess_data_ngram(df):\n",
    "   \n",
    "    \"\"\" Creates column with only message, not date/name etc (Message_Clean).\n",
    "     Creates column with only text message, no smileys etc.(Message_Only_Text) \"\"\"\n",
    " \n",
    "    \n",
    "    # Create column with only message, not date/name etc.\n",
    "    df['Message_Clean'] = df.apply(lambda row: clean_message(row), axis = 1)\n",
    "\n",
    "    # Create column with only text message in lowercase, no emojis, numerals and punctations.\n",
    "    df['Message_Only_Text'] = df.apply(lambda row: re.sub(r'[^a-zA-Z\\', ]+', '', \n",
    "                                                          row.Message_Clean.lower()), \n",
    "                                       axis = 1)\n",
    "    \n",
    "    return df\n"
   ]
  },
  {
   "cell_type": "code",
   "execution_count": 4,
   "metadata": {},
   "outputs": [
    {
     "name": "stderr",
     "output_type": "stream",
     "text": [
      "[nltk_data] Downloading package stopwords to C:\\Users\\Kunal\n",
      "[nltk_data]     Farmah\\AppData\\Roaming\\nltk_data...\n",
      "[nltk_data]   Package stopwords is already up-to-date!\n"
     ]
    },
    {
     "data": {
      "text/plain": [
       "True"
      ]
     },
     "execution_count": 4,
     "metadata": {},
     "output_type": "execute_result"
    }
   ],
   "source": [
    "import nltk\n",
    "tokensizer = nltk.RegexpTokenizer(r\"\\w+\")\n",
    "from nltk.corpus import stopwords\n",
    "nltk.download('stopwords')"
   ]
  },
  {
   "cell_type": "code",
   "execution_count": 5,
   "metadata": {},
   "outputs": [],
   "source": [
    "# extra words not to be included in unigram model\n",
    "myStopWords = ['media','omitted','ggwp','gntc',\n",
    "                   'kya','ttyl','kkrh','han','hai','deleted','message',\n",
    "                   'mai','nhi','nii','tum','bye','tha','rha','aur','mai','bhi','kunal','farmah','mea','nhn'\n",
    "                   ,'pagal','bro','mujhe','mene','mera','tera','teri','gya','diya','kiya','fir','abhi','chl','pta',\n",
    "                   'abe','hota','yep','nope','thi''mere','mujhe','mujhse','mine','hua','friend']\n",
    "Stopwords = stopwords.words('English')\n",
    "for word in myStopWords:\n",
    "    Stopwords.append(word)"
   ]
  },
  {
   "cell_type": "code",
   "execution_count": 6,
   "metadata": {},
   "outputs": [],
   "source": [
    "def removeStopwords(df):\n",
    "    \n",
    "    word_tokens_without_stopwords = []\n",
    "    stopwords_removed = []\n",
    "    for words in df['Message_Only_Text']:\n",
    "        for word in words.split():\n",
    "            # word with length>2 is considered a keyword\n",
    "            if len(word)<=2:\n",
    "                continue\n",
    "            # if the token is not in stopwords list, add it to final\n",
    "            # list or add it to removed list\n",
    "            \n",
    "            if word not in Stopwords:\n",
    "                word_tokens_without_stopwords.append(word)\n",
    "            else:\n",
    "                stopwords_removed.append(word)\n",
    "                \n",
    "    return word_tokens_without_stopwords"
   ]
  },
  {
   "cell_type": "code",
   "execution_count": 7,
   "metadata": {},
   "outputs": [],
   "source": [
    "def prepare(df):\n",
    "    wordsList = []\n",
    "    for words in df['Message_Only_Text']:\n",
    "        for word in words.split():\n",
    "            wordsList.append(word)\n",
    "\n",
    "    return wordsList"
   ]
  },
  {
   "cell_type": "code",
   "execution_count": 8,
   "metadata": {},
   "outputs": [],
   "source": [
    "# counting all keywords (unigrams)\n",
    "def countKeyWords(wordslist):\n",
    "    keywords = {}\n",
    "    for word in wordslist:\n",
    "        if word in keywords.keys():\n",
    "            print(word)\n",
    "            val = keywords[word]\n",
    "            val = val+1\n",
    "            keywords[word]=val\n",
    "        else:\n",
    "            keywords[word]=1\n",
    "                \n",
    "    return keywords\n",
    "\n"
   ]
  },
  {
   "cell_type": "code",
   "execution_count": 9,
   "metadata": {},
   "outputs": [],
   "source": [
    "# counting all bigrams \n",
    "def countBigrams(wordslist):\n",
    "    bigrams = {}\n",
    "    n = len(wordslist)\n",
    "    removeList = ['fcomma', 'long int' , 'missed voice' , 'voice call' , 'media' ,'deleted',\n",
    "                  'deleted','this message','http','cbsenic', 'cbseresult','arg','com','attatched', 'onedrive',\n",
    "                  'include', 'bits','disassembler','rotations','differ', \n",
    "                  'voice','cbseresultsnicin','hmsvcf','ra he','ni he','he bhai','pagal','omitted','friend']\n",
    "    for i in range(0,n-1):\n",
    "        bigram = wordslist[i]+' '+wordslist[i+1]\n",
    "        skip = False\n",
    "        for val in removeList:  \n",
    "            if bigram in removeList or operator.contains(bigram,val):\n",
    "                skip=True\n",
    "                break\n",
    "        if skip:\n",
    "            continue\n",
    "        if bigram in bigrams.keys():\n",
    "            print(bigram)\n",
    "            val = bigrams[bigram]\n",
    "            val = val+1\n",
    "            bigrams[bigram]=val\n",
    "        else:\n",
    "            bigrams[bigram]=1\n",
    "                \n",
    "    return bigrams"
   ]
  },
  {
   "cell_type": "code",
   "execution_count": 10,
   "metadata": {},
   "outputs": [],
   "source": [
    "## TRIGRAMS NEEDS A LOT OF EXTRA PROCESSING TO RULE OUT UNNECCESSARY GROUPING\n",
    "## STOPWORD REMOVAL MAKES THE SITUATION WORSE, PUNCTUATIONS REMOVAL IS NOT RECOMMENDED\n",
    "## BUT THEN SPLITTING UP THE SENTENCE BECOMES TRICKY\n",
    "    \n",
    "# counting all trigrams \n",
    "def countTrigrams(wordslist):\n",
    "    trigrams = {}\n",
    "    n = len(wordslist)\n",
    "    removeList = ['fcomma', 'long int' , 'missed voice' , 'voice call' , 'media' ,'deleted',\n",
    "                  'deleted','this message','http','cbsenic', 'cbseresult','arg','com','attatched', 'onedrive',\n",
    "                  'include', 'bits','disassembler','rotations','differ', \n",
    "                  'voice','cbseresultsnicin','hmsvcf','ra he','ni he','he bhai','pagal','omitted'\n",
    "                   'monica mam hmsvcf', 'cbsenic', 'cbseresult','mam hmsvcf file','missed voice call','friend']\n",
    "                    \n",
    "    for i in range(0,n-2):\n",
    "        trigram = wordslist[i]+' '+wordslist[i+1]+' '+wordslist[i+2]\n",
    "        skip = False\n",
    "        for val in removeList:  \n",
    "            if trigram in removeList or operator.contains(trigram,val):\n",
    "                skip=True\n",
    "                break\n",
    "        if skip:\n",
    "            continue\n",
    "        if trigram in trigrams.keys():\n",
    "            print(trigram)\n",
    "            val = trigrams[trigram]\n",
    "            val = val+1\n",
    "            trigrams[trigram]=val\n",
    "        else:\n",
    "            trigrams[trigram]=1\n",
    "                \n",
    "    return trigrams"
   ]
  },
  {
   "cell_type": "code",
   "execution_count": 11,
   "metadata": {},
   "outputs": [],
   "source": [
    "def ohe(keywords,keywords1,keywords2,keywords3,keywords4,keywords5):\n",
    "    OHE = []\n",
    "    for i in range(0,6):\n",
    "        row = []\n",
    "        for key in keywords.keys():\n",
    "            if(i==0):\n",
    "                if(key in keywords1.keys()):\n",
    "                    row.insert(keywords[key],1)\n",
    "                else:\n",
    "                    row.insert(keywords[key],0)\n",
    "            \n",
    "            elif(i==1):\n",
    "                if(key in keywords2.keys()):\n",
    "                    row.insert(keywords[key],1)\n",
    "                else:\n",
    "                    row.insert(keywords[key],0)\n",
    "            \n",
    "            elif(i==2):\n",
    "                if(key in keywords3.keys()):\n",
    "                    row.insert(keywords[key],1)\n",
    "                else:\n",
    "                    row.insert(keywords[key],0)\n",
    "            \n",
    "            elif(i==3):\n",
    "                if(key in keywords4.keys()):\n",
    "                    row.insert(keywords[key],1)\n",
    "                else:\n",
    "                    row.insert(keywords[key],0)\n",
    "            \n",
    "            elif(i==4):\n",
    "                if(key in keywords5.keys()):\n",
    "                    row.insert(keywords[key],1)\n",
    "                else:\n",
    "                    row.insert(keywords[key],0)\n",
    "            \n",
    "        OHE.append(row)\n",
    "        \n",
    "    print(OHE)\n",
    "    return OHE"
   ]
  },
  {
   "cell_type": "code",
   "execution_count": 12,
   "metadata": {},
   "outputs": [],
   "source": [
    "def tf(keywords,keywords1,keywords2,keywords3,keywords4,keywords5): \n",
    "    TF = []\n",
    "    for i in range(0,6):\n",
    "        row = []\n",
    "        for key in keywords.keys():\n",
    "            if(i==0):\n",
    "                if(key in keywords1.keys()):\n",
    "                    row.insert(keywords[key],keywords1[key])\n",
    "                else:\n",
    "                    row.insert(keywords[key],0)\n",
    "            \n",
    "            elif(i==1):\n",
    "                if(key in keywords2.keys()):\n",
    "                    row.insert(keywords[key],keywords2[key])\n",
    "                else:\n",
    "                    row.insert(keywords[key],0)\n",
    "            \n",
    "            elif(i==2):\n",
    "                if(key in keywords3.keys()):\n",
    "                    row.insert(keywords[key],keywords3[key])\n",
    "                else:\n",
    "                    row.insert(keywords[key],0)\n",
    "            \n",
    "            elif(i==3):\n",
    "                if(key in keywords4.keys()):\n",
    "                    row.insert(keywords[key],keywords4[key])\n",
    "                else:\n",
    "                    row.insert(keywords[key],0)\n",
    "            \n",
    "            elif(i==4):\n",
    "                if(key in keywords5.keys()):\n",
    "                    row.insert(keywords[key],keywords5[key])\n",
    "                else:\n",
    "                    row.insert(keywords[key],0)\n",
    "            \n",
    "        TF.append(row)\n",
    "    \n",
    "    print(TF)\n",
    "    return TF\n"
   ]
  },
  {
   "cell_type": "code",
   "execution_count": 13,
   "metadata": {},
   "outputs": [],
   "source": [
    "def tfidf(keywords,keywords1,keywords2,keywords3,keywords4,keywords5,IDF):  \n",
    "    TFIDF = []\n",
    "    for i in range(0,5):\n",
    "        row = []\n",
    "        for key in keywords.keys():\n",
    "            if(i==0):\n",
    "                if(key in keywords1.keys()):\n",
    "                    row.insert(keywords[key],keywords1[key]*IDF[key])\n",
    "                else:\n",
    "                    row.insert(keywords[key],0)\n",
    "            \n",
    "            elif(i==1):\n",
    "                if(key in keywords2.keys()):\n",
    "                    row.insert(keywords[key],keywords2[key]*IDF[key])\n",
    "                else:\n",
    "                    row.insert(keywords[key],0)\n",
    "            \n",
    "            elif(i==2):\n",
    "                if(key in keywords3.keys()):\n",
    "                    row.insert(keywords[key],keywords3[key]*IDF[key])\n",
    "                else:\n",
    "                    row.insert(keywords[key],0)\n",
    "            \n",
    "            elif(i==3):\n",
    "                if(key in keywords4.keys()):\n",
    "                    row.insert(keywords[key],keywords4[key]*IDF[key])\n",
    "                else:\n",
    "                    row.insert(keywords[key],0)\n",
    "            \n",
    "            elif(i==4):\n",
    "                if(key in keywords5.keys()):\n",
    "                    row.insert(keywords[key],keywords5[key]*IDF[key])\n",
    "                else:\n",
    "                    row.insert(keywords[key],0)\n",
    "\n",
    "        TFIDF.append(row)\n",
    "    \n",
    "    print(TFIDF)\n",
    "    return TFIDF\n"
   ]
  },
  {
   "cell_type": "code",
   "execution_count": 14,
   "metadata": {},
   "outputs": [],
   "source": [
    "def storeOHE(OHE,keywords,fname,sorted_keys):\n",
    "    i=1\n",
    "    # storing One Hot Matrix\n",
    "    f = open(fname,\"w\")\n",
    "    f.write('\\t\\t')\n",
    "    \n",
    "    for k in range(0,len(keywords)):\n",
    "        f.write(str(k)+'\\t')\n",
    "    f.write('\\n\\n')\n",
    "    for row in OHE:\n",
    "        f.write('Document '+str(i)+'\\t')\n",
    "        for ele in row:\n",
    "            f.write(str(ele)+'  \\t')\n",
    "        f.write('\\n\\n')\n",
    "        i=i+1\n",
    "        \n",
    "    f.write('\\n\\nKeywords (in order):')\n",
    "    for key in sorted_keys:\n",
    "        f.write(key+', ')\n",
    "            \n",
    "    f.close()\n",
    "    return f"
   ]
  },
  {
   "cell_type": "code",
   "execution_count": 15,
   "metadata": {},
   "outputs": [],
   "source": [
    "def storeTF(TF,keywords,fname,sorted_keys):\n",
    "    # storing TF Matrix\n",
    "    i=1\n",
    "    f = open(fname,\"w\")\n",
    "    f.write('\\t\\t')\n",
    "    \n",
    "    for k in range(0,len(keywords)):\n",
    "        f.write(str(k)+'\\t')\n",
    "    f.write('\\n\\n')\n",
    "    for row in TF:\n",
    "        f.write('Document '+str(i)+'\\t')\n",
    "        for ele in row:\n",
    "            f.write(str(ele)+'  \\t')\n",
    "        f.write('\\n\\n')\n",
    "        i=i+1\n",
    "        \n",
    "    f.write('\\n\\nKeywords (in order):')\n",
    "    for key in sorted_keys:\n",
    "        f.write(key+', ')\n",
    "            \n",
    "    f.close()\n",
    "    return f"
   ]
  },
  {
   "cell_type": "code",
   "execution_count": 16,
   "metadata": {},
   "outputs": [],
   "source": [
    "def storeTFIDF(TFIDF,keywords,fname,sorted_keys):\n",
    "    # storing TF-IDF Matrix\n",
    "    i=1\n",
    "    f = open(fname,\"w\")\n",
    "    f.write('\\t\\t')\n",
    "    \n",
    "    for k in range(0,len(keywords)):\n",
    "        f.write(str(k)+'  \\t')\n",
    "    f.write('\\n\\n')\n",
    "    \n",
    "    for row in TFIDF:\n",
    "        f.write('Document '+str(i)+'  \\t')\n",
    "        for ele in row:\n",
    "            f.write(str(round(ele,3))+' \\t')\n",
    "        f.write('\\n\\n')\n",
    "        i=i+1\n",
    "        \n",
    "    f.write('\\n\\nKeywords (in order):')\n",
    "    for key in sorted_keys:\n",
    "        f.write(key+', ')\n",
    "            \n",
    "    f.close()\n",
    "    return f\n"
   ]
  },
  {
   "cell_type": "code",
   "execution_count": 17,
   "metadata": {},
   "outputs": [],
   "source": [
    "def calcIDF(keywords, keywords1, keywords2, keywords3, keywords4, keywords5):     \n",
    "    # calcualting IDF for each keyword\n",
    "    import math\n",
    "    Nt = 5\n",
    "    IDF = {}\n",
    "    for key in keywords.keys():\n",
    "        Nw=0\n",
    "        if key in keywords1.keys():\n",
    "            Nw = Nw+1\n",
    "        if key in keywords2.keys():\n",
    "            Nw = Nw+1\n",
    "        if key in keywords3.keys():\n",
    "            Nw = Nw+1\n",
    "        if key in keywords4.keys():\n",
    "            Nw = Nw+1\n",
    "        if key in keywords5.keys():\n",
    "            Nw = Nw+1\n",
    "        print(Nt/Nw)\n",
    "        IDF[key]  = (math.log(Nt/Nw))\n",
    "    print(IDF)\n",
    "    return IDF"
   ]
  },
  {
   "cell_type": "code",
   "execution_count": 18,
   "metadata": {},
   "outputs": [],
   "source": [
    "def assignIndex(list1, list2, list3, list4, list5):\n",
    "    # assigning an index to all keywords\n",
    "    i=-1;\n",
    "    keywords = {}\n",
    "    \n",
    "    for (val,count) in list1:\n",
    "        if val not in keywords.keys():\n",
    "            i=i+1;\n",
    "            keywords[val] = i\n",
    "    \n",
    "            \n",
    "    for (val,count) in list2:\n",
    "        if val not in keywords.keys():\n",
    "            i=i+1;\n",
    "            keywords[val] = i\n",
    "            \n",
    "    for (val,count) in list3:\n",
    "        if val not in keywords.keys():\n",
    "            i=i+1;\n",
    "            keywords[val] = i\n",
    "            \n",
    "    for (val,count) in list4:\n",
    "        if val not in keywords.keys():\n",
    "            i=i+1;        \n",
    "            keywords[val] = i\n",
    "            \n",
    "    for (val,count) in list5:\n",
    "        if val not in keywords.keys():\n",
    "            i=i+1;\n",
    "            keywords[val] = i\n",
    "            \n",
    "    return keywords"
   ]
  },
  {
   "cell_type": "code",
   "execution_count": 19,
   "metadata": {},
   "outputs": [],
   "source": [
    "def saveMetric(matrix,outFileName, rowName, colName):\n",
    "    f = open(outFileName,'w+')\n",
    "    f.write(colName+' : \\t')\n",
    "    for i in range (0,5):\n",
    "        f.write(str(i+1)+'\\t\\t\\t')\n",
    "    f.write('\\n')\n",
    "        \n",
    "    for i in range (0,5):\n",
    "        f.write(rowName + str(i+1) +' :\\t')\n",
    "        row = matrix[i]\n",
    "        for j in range (0,5):\n",
    "            if(row[j]==0.0):\n",
    "                f.write(str(row[j])+'\\t\\t\\t')\n",
    "            else:\n",
    "                f.write(str(row[j])+'\\t')\n",
    "        \n",
    "        f.write('\\n')\n",
    "        \n",
    "    f.close()\n",
    "        \n",
    "    return f   "
   ]
  },
  {
   "cell_type": "code",
   "execution_count": 20,
   "metadata": {},
   "outputs": [],
   "source": [
    "import math \n",
    "\n",
    "def magnitude(vector):\n",
    "    s=0\n",
    "    for val in vector:\n",
    "        s = s+(val*val)\n",
    "    return math.sqrt(s)\n",
    "\n",
    "\n",
    "\n",
    "def plot(x,y,xlabel,ylabel,scale,color,width):\n",
    "    plt.bar(x,y,color=color,width=width)\n",
    "    if scale:\n",
    "        #plt.ylim(min(y)-10,max(y)+10)\n",
    "        plt.xticks(rotation = 'vertical')\n",
    "    plt.xlabel(xlabel)\n",
    "    plt.ylabel(ylabel)\n",
    "    plt.show()"
   ]
  },
  {
   "cell_type": "code",
   "execution_count": 21,
   "metadata": {},
   "outputs": [
    {
     "ename": "FileNotFoundError",
     "evalue": "[Errno 2] No such file or directory: 'high_school_chat_1.txt'",
     "output_type": "error",
     "traceback": [
      "\u001b[1;31m---------------------------------------------------------------------------\u001b[0m",
      "\u001b[1;31mFileNotFoundError\u001b[0m                         Traceback (most recent call last)",
      "\u001b[1;32m<ipython-input-21-9cb3bdbab327>\u001b[0m in \u001b[0;36m<module>\u001b[1;34m\u001b[0m\n\u001b[0;32m      1\u001b[0m \u001b[1;34m\"\"\" Pre-processing high school messages \"\"\"\u001b[0m\u001b[1;33m\u001b[0m\u001b[1;33m\u001b[0m\u001b[0m\n\u001b[0;32m      2\u001b[0m \u001b[1;33m\u001b[0m\u001b[0m\n\u001b[1;32m----> 3\u001b[1;33m \u001b[0mhsdf1\u001b[0m \u001b[1;33m=\u001b[0m \u001b[0mimport_data\u001b[0m\u001b[1;33m(\u001b[0m\u001b[1;34m'high_school_chat_1.txt'\u001b[0m\u001b[1;33m)\u001b[0m\u001b[1;33m\u001b[0m\u001b[1;33m\u001b[0m\u001b[0m\n\u001b[0m\u001b[0;32m      4\u001b[0m \u001b[0mhsdf1\u001b[0m \u001b[1;33m=\u001b[0m \u001b[0mpreprocess_data\u001b[0m\u001b[1;33m(\u001b[0m\u001b[0mhsdf1\u001b[0m\u001b[1;33m)\u001b[0m\u001b[1;33m\u001b[0m\u001b[1;33m\u001b[0m\u001b[0m\n\u001b[0;32m      5\u001b[0m \u001b[1;33m\u001b[0m\u001b[0m\n",
      "\u001b[1;32m<ipython-input-3-c13e74809a13>\u001b[0m in \u001b[0;36mimport_data\u001b[1;34m(file, path)\u001b[0m\n\u001b[0;32m      3\u001b[0m     \u001b[1;34m\"\"\" Import whatsapp data and transform it to a dataframe \"\"\"\u001b[0m\u001b[1;33m\u001b[0m\u001b[1;33m\u001b[0m\u001b[0m\n\u001b[0;32m      4\u001b[0m \u001b[1;33m\u001b[0m\u001b[0m\n\u001b[1;32m----> 5\u001b[1;33m     \u001b[1;32mwith\u001b[0m \u001b[0mopen\u001b[0m\u001b[1;33m(\u001b[0m\u001b[0mpath\u001b[0m \u001b[1;33m+\u001b[0m \u001b[0mfile\u001b[0m\u001b[1;33m,\u001b[0m \u001b[0mencoding\u001b[0m \u001b[1;33m=\u001b[0m \u001b[1;34m'utf-8'\u001b[0m\u001b[1;33m)\u001b[0m \u001b[1;32mas\u001b[0m \u001b[0moutfile\u001b[0m\u001b[1;33m:\u001b[0m\u001b[1;33m\u001b[0m\u001b[1;33m\u001b[0m\u001b[0m\n\u001b[0m\u001b[0;32m      6\u001b[0m         \u001b[0mraw_text\u001b[0m \u001b[1;33m=\u001b[0m \u001b[0moutfile\u001b[0m\u001b[1;33m.\u001b[0m\u001b[0mreadlines\u001b[0m\u001b[1;33m(\u001b[0m\u001b[1;33m)\u001b[0m\u001b[1;33m\u001b[0m\u001b[1;33m\u001b[0m\u001b[0m\n\u001b[0;32m      7\u001b[0m         \u001b[0mmessages\u001b[0m \u001b[1;33m=\u001b[0m \u001b[1;33m{\u001b[0m\u001b[1;33m}\u001b[0m\u001b[1;33m\u001b[0m\u001b[1;33m\u001b[0m\u001b[0m\n",
      "\u001b[1;31mFileNotFoundError\u001b[0m: [Errno 2] No such file or directory: 'high_school_chat_1.txt'"
     ]
    }
   ],
   "source": [
    "\"\"\" Pre-processing high school messages \"\"\"\n",
    "\n",
    "hsdf1 = import_data('high_school_chat_1.txt')\n",
    "hsdf1 = preprocess_data(hsdf1)\n",
    "\n",
    "hsdf2 = import_data('high_school_chat_2.txt')\n",
    "hsdf2 = preprocess_data(hsdf2)\n",
    "\n",
    "hsdf3 = import_data('high_school_chat_3.txt')\n",
    "hsdf3 = preprocess_data(hsdf3)\n",
    "\n",
    "hsdf4 = import_data('high_school_chat_4.txt')\n",
    "hsdf4 = preprocess_data(hsdf4)\n",
    "\n",
    "hsdf5 = import_data('high_school_chat_5.txt')\n",
    "hsdf5 = preprocess_data(hsdf5)"
   ]
  },
  {
   "cell_type": "code",
   "execution_count": 22,
   "metadata": {},
   "outputs": [
    {
     "ename": "FileNotFoundError",
     "evalue": "[Errno 2] No such file or directory: 'college_chat_1.txt'",
     "output_type": "error",
     "traceback": [
      "\u001b[1;31m---------------------------------------------------------------------------\u001b[0m",
      "\u001b[1;31mFileNotFoundError\u001b[0m                         Traceback (most recent call last)",
      "\u001b[1;32m<ipython-input-22-9d20254931fa>\u001b[0m in \u001b[0;36m<module>\u001b[1;34m\u001b[0m\n\u001b[0;32m      1\u001b[0m \u001b[1;34m\"\"\" Pre-processing college messages \"\"\"\u001b[0m\u001b[1;33m\u001b[0m\u001b[1;33m\u001b[0m\u001b[0m\n\u001b[0;32m      2\u001b[0m \u001b[1;33m\u001b[0m\u001b[0m\n\u001b[1;32m----> 3\u001b[1;33m \u001b[0mclgdf1\u001b[0m \u001b[1;33m=\u001b[0m \u001b[0mimport_data\u001b[0m\u001b[1;33m(\u001b[0m\u001b[1;34m'college_chat_1.txt'\u001b[0m\u001b[1;33m)\u001b[0m\u001b[1;33m\u001b[0m\u001b[1;33m\u001b[0m\u001b[0m\n\u001b[0m\u001b[0;32m      4\u001b[0m \u001b[0mclgdf1\u001b[0m \u001b[1;33m=\u001b[0m \u001b[0mpreprocess_data\u001b[0m\u001b[1;33m(\u001b[0m\u001b[0mclgdf1\u001b[0m\u001b[1;33m)\u001b[0m\u001b[1;33m\u001b[0m\u001b[1;33m\u001b[0m\u001b[0m\n\u001b[0;32m      5\u001b[0m \u001b[1;33m\u001b[0m\u001b[0m\n",
      "\u001b[1;32m<ipython-input-3-c13e74809a13>\u001b[0m in \u001b[0;36mimport_data\u001b[1;34m(file, path)\u001b[0m\n\u001b[0;32m      3\u001b[0m     \u001b[1;34m\"\"\" Import whatsapp data and transform it to a dataframe \"\"\"\u001b[0m\u001b[1;33m\u001b[0m\u001b[1;33m\u001b[0m\u001b[0m\n\u001b[0;32m      4\u001b[0m \u001b[1;33m\u001b[0m\u001b[0m\n\u001b[1;32m----> 5\u001b[1;33m     \u001b[1;32mwith\u001b[0m \u001b[0mopen\u001b[0m\u001b[1;33m(\u001b[0m\u001b[0mpath\u001b[0m \u001b[1;33m+\u001b[0m \u001b[0mfile\u001b[0m\u001b[1;33m,\u001b[0m \u001b[0mencoding\u001b[0m \u001b[1;33m=\u001b[0m \u001b[1;34m'utf-8'\u001b[0m\u001b[1;33m)\u001b[0m \u001b[1;32mas\u001b[0m \u001b[0moutfile\u001b[0m\u001b[1;33m:\u001b[0m\u001b[1;33m\u001b[0m\u001b[1;33m\u001b[0m\u001b[0m\n\u001b[0m\u001b[0;32m      6\u001b[0m         \u001b[0mraw_text\u001b[0m \u001b[1;33m=\u001b[0m \u001b[0moutfile\u001b[0m\u001b[1;33m.\u001b[0m\u001b[0mreadlines\u001b[0m\u001b[1;33m(\u001b[0m\u001b[1;33m)\u001b[0m\u001b[1;33m\u001b[0m\u001b[1;33m\u001b[0m\u001b[0m\n\u001b[0;32m      7\u001b[0m         \u001b[0mmessages\u001b[0m \u001b[1;33m=\u001b[0m \u001b[1;33m{\u001b[0m\u001b[1;33m}\u001b[0m\u001b[1;33m\u001b[0m\u001b[1;33m\u001b[0m\u001b[0m\n",
      "\u001b[1;31mFileNotFoundError\u001b[0m: [Errno 2] No such file or directory: 'college_chat_1.txt'"
     ]
    }
   ],
   "source": [
    "\"\"\" Pre-processing college messages \"\"\"\n",
    "\n",
    "clgdf1 = import_data('college_chat_1.txt')\n",
    "clgdf1 = preprocess_data(clgdf1)\n",
    "\n",
    "clgdf2 = import_data('college_chat_2.txt')\n",
    "clgdf2 = preprocess_data(clgdf2)\n",
    "\n",
    "clgdf3 = import_data('college_chat_3.txt')\n",
    "clgdf3 = preprocess_data(clgdf3)\n",
    "\n",
    "clgdf4 = import_data('college_chat_4.txt')\n",
    "clgdf4 = preprocess_data(clgdf4)\n",
    "\n",
    "clgdf5 = import_data('college_chat_5.txt')\n",
    "clgdf5 = preprocess_data(clgdf5)"
   ]
  },
  {
   "cell_type": "code",
   "execution_count": 23,
   "metadata": {},
   "outputs": [],
   "source": [
    "## Unigrams"
   ]
  },
  {
   "cell_type": "code",
   "execution_count": 24,
   "metadata": {},
   "outputs": [
    {
     "ename": "NameError",
     "evalue": "name 'hsdf1' is not defined",
     "output_type": "error",
     "traceback": [
      "\u001b[1;31m---------------------------------------------------------------------------\u001b[0m",
      "\u001b[1;31mNameError\u001b[0m                                 Traceback (most recent call last)",
      "\u001b[1;32m<ipython-input-24-754a21373f4e>\u001b[0m in \u001b[0;36m<module>\u001b[1;34m\u001b[0m\n\u001b[1;32m----> 1\u001b[1;33m \u001b[0mwordsHs1\u001b[0m \u001b[1;33m=\u001b[0m \u001b[0mremoveStopwords\u001b[0m\u001b[1;33m(\u001b[0m\u001b[0mhsdf1\u001b[0m\u001b[1;33m)\u001b[0m\u001b[1;33m\u001b[0m\u001b[1;33m\u001b[0m\u001b[0m\n\u001b[0m\u001b[0;32m      2\u001b[0m \u001b[0mwordsHs2\u001b[0m \u001b[1;33m=\u001b[0m \u001b[0mremoveStopwords\u001b[0m\u001b[1;33m(\u001b[0m\u001b[0mhsdf2\u001b[0m\u001b[1;33m)\u001b[0m\u001b[1;33m\u001b[0m\u001b[1;33m\u001b[0m\u001b[0m\n\u001b[0;32m      3\u001b[0m \u001b[0mwordsHs3\u001b[0m \u001b[1;33m=\u001b[0m \u001b[0mremoveStopwords\u001b[0m\u001b[1;33m(\u001b[0m\u001b[0mhsdf3\u001b[0m\u001b[1;33m)\u001b[0m\u001b[1;33m\u001b[0m\u001b[1;33m\u001b[0m\u001b[0m\n\u001b[0;32m      4\u001b[0m \u001b[0mwordsHs4\u001b[0m \u001b[1;33m=\u001b[0m \u001b[0mremoveStopwords\u001b[0m\u001b[1;33m(\u001b[0m\u001b[0mhsdf4\u001b[0m\u001b[1;33m)\u001b[0m\u001b[1;33m\u001b[0m\u001b[1;33m\u001b[0m\u001b[0m\n\u001b[0;32m      5\u001b[0m \u001b[0mwordsHs5\u001b[0m \u001b[1;33m=\u001b[0m \u001b[0mremoveStopwords\u001b[0m\u001b[1;33m(\u001b[0m\u001b[0mhsdf5\u001b[0m\u001b[1;33m)\u001b[0m\u001b[1;33m\u001b[0m\u001b[1;33m\u001b[0m\u001b[0m\n",
      "\u001b[1;31mNameError\u001b[0m: name 'hsdf1' is not defined"
     ]
    }
   ],
   "source": [
    "\"\"\" High School \"\"\"\n",
    "wordsHs1 = removeStopwords(hsdf1)\n",
    "wordsHs2 = removeStopwords(hsdf2)\n",
    "wordsHs3 = removeStopwords(hsdf3)\n",
    "wordsHs4 = removeStopwords(hsdf4)\n",
    "wordsHs5 = removeStopwords(hsdf5)\n",
    "            \n",
    "keywordsHs1=countKeyWords(wordsHs1)\n",
    "keywordsHs2=countKeyWords(wordsHs2)\n",
    "keywordsHs3=countKeyWords(wordsHs3)\n",
    "keywordsHs4=countKeyWords(wordsHs4)\n",
    "keywordsHs5=countKeyWords(wordsHs5)\n",
    "\n",
    "topKHs1=[]\n",
    "topKHs2=[]\n",
    "topKHs3=[]\n",
    "topKHs4=[]\n",
    "topKHs5=[]\n",
    "topKHs6=[]\n",
    "\n",
    "for key in keywordsHs1.keys():\n",
    "    topKHs1.append((key,keywordsHs1[key]))    \n",
    "for key in keywordsHs2.keys():\n",
    "    topKHs2.append((key,keywordsHs2[key]))\n",
    "for key in keywordsHs3.keys():\n",
    "    topKHs3.append((key,keywordsHs3[key]))\n",
    "for key in keywordsHs4.keys():\n",
    "    topKHs4.append((key,keywordsHs4[key]))\n",
    "for key in keywordsHs5.keys():\n",
    "    topKHs5.append((key,keywordsHs5[key]))\n",
    "    \n",
    "# finding top 10 keywords with preferance to larger length keywords in case of a tie\n",
    "\n",
    "topKHs1 = sorted(topKHs1,key=lambda x: (x[1], len(x[0])),reverse=True)    \n",
    "topKHs1 = topKHs1[0:10]\n",
    "\n",
    "topKHs2 = sorted(topKHs2,key=lambda x: (x[1], len(x[0])),reverse=True)    \n",
    "topKHs2 = topKHs2[0:10]\n",
    "\n",
    "topKHs3 = sorted(topKHs3,key=lambda x: (x[1], len(x[0])),reverse=True)    \n",
    "topKHs3= topKHs3[0:10]\n",
    "\n",
    "topKHs4 = sorted(topKHs4,key=lambda x: (x[1], len(x[0])),reverse=True)    \n",
    "topKHs4 = topKHs4[0:10]\n",
    "\n",
    "topKHs5 = sorted(topKHs5,key=lambda x: (x[1], len(x[0])),reverse=True)    \n",
    "topKHs5 = topKHs5[0:10]"
   ]
  },
  {
   "cell_type": "code",
   "execution_count": 27,
   "metadata": {},
   "outputs": [
    {
     "name": "stdout",
     "output_type": "stream",
     "text": [
      "Top 10 Keywords in High School Chat 1 with frequency: []\n",
      "Top 10 Keywords in High School Chat 2 with frequency: []\n",
      "Top 10 Keywords in High School Chat 3 with frequency: []\n",
      "Top 10 Keywords in High School Chat 4 with frequency: []\n",
      "Top 10 Keywords in High School Chat 5 with frequency: []\n"
     ]
    }
   ],
   "source": [
    "print('Top 10 Keywords in High School Chat 1 with frequency: '+str(topKHs1))\n",
    "print('Top 10 Keywords in High School Chat 2 with frequency: '+str(topKHs2))\n",
    "print('Top 10 Keywords in High School Chat 3 with frequency: '+str(topKHs3))\n",
    "print('Top 10 Keywords in High School Chat 4 with frequency: '+str(topKHs4))\n",
    "print('Top 10 Keywords in High School Chat 5 with frequency: '+str(topKHs5))"
   ]
  },
  {
   "cell_type": "code",
   "execution_count": 28,
   "metadata": {},
   "outputs": [
    {
     "data": {
      "image/png": "[encoded data removed]",
      "text/plain": [
       "<Figure size 432x288 with 1 Axes>"
      ]
     },
     "metadata": {
      "needs_background": "light"
     },
     "output_type": "display_data"
    },
    {
     "data": {
      "image/png": "[encoded data removed]",
      "text/plain": [
       "<Figure size 432x288 with 1 Axes>"
      ]
     },
     "metadata": {
      "needs_background": "light"
     },
     "output_type": "display_data"
    },
    {
     "data": {
      "image/png": "[encoded data removed]",
      "text/plain": [
       "<Figure size 432x288 with 1 Axes>"
      ]
     },
     "metadata": {
      "needs_background": "light"
     },
     "output_type": "display_data"
    },
    {
     "data": {
      "image/png": "[encoded data removed]",
      "text/plain": [
       "<Figure size 432x288 with 1 Axes>"
      ]
     },
     "metadata": {
      "needs_background": "light"
     },
     "output_type": "display_data"
    },
    {
     "data": {
      "image/png": "[encoded data removed]",
      "text/plain": [
       "<Figure size 432x288 with 1 Axes>"
      ]
     },
     "metadata": {
      "needs_background": "light"
     },
     "output_type": "display_data"
    }
   ],
   "source": [
    "plot([val[0] for val in topKHs1],[val[1] for val in topKHs1],'High School Chat 1 Keywords','Frequency',False,color='red',width = 0.5)\n",
    "plot([val[0] for val in topKHs2],[val[1] for val in topKHs2],'High School Chat 2 Keywords','Frequency',False,color='blue',width = 0.5)\n",
    "plot([val[0] for val in topKHs3],[val[1] for val in topKHs3],'High School Chat 3 Keywords','Frequency',False,color='orange',width = 0.5)\n",
    "plot([val[0] for val in topKHs4],[val[1] for val in topKHs4],'High School Chat 4 Keywords','Frequency',False,color='green',width = 0.5)\n",
    "plot([val[0] for val in topKHs5],[val[1] for val in topKHs5],'High School Chat 5 Keywords','Frequency',False,color='purple',width = 0.5)"
   ]
  },
  {
   "cell_type": "code",
   "execution_count": 29,
   "metadata": {},
   "outputs": [
    {
     "ename": "NameError",
     "evalue": "name 'keywordsHs1' is not defined",
     "output_type": "error",
     "traceback": [
      "\u001b[1;31m---------------------------------------------------------------------------\u001b[0m",
      "\u001b[1;31mNameError\u001b[0m                                 Traceback (most recent call last)",
      "\u001b[1;32m<ipython-input-29-b19d816e0d6e>\u001b[0m in \u001b[0;36m<module>\u001b[1;34m\u001b[0m\n\u001b[0;32m      3\u001b[0m \u001b[1;33m\u001b[0m\u001b[0m\n\u001b[0;32m      4\u001b[0m \u001b[1;31m# finding IDF vector for the keywords\u001b[0m\u001b[1;33m\u001b[0m\u001b[1;33m\u001b[0m\u001b[1;33m\u001b[0m\u001b[0m\n\u001b[1;32m----> 5\u001b[1;33m \u001b[0mIDF_HS\u001b[0m \u001b[1;33m=\u001b[0m \u001b[0mcalcIDF\u001b[0m\u001b[1;33m(\u001b[0m\u001b[0mkeywordsHS\u001b[0m\u001b[1;33m,\u001b[0m\u001b[0mkeywordsHs1\u001b[0m\u001b[1;33m,\u001b[0m\u001b[0mkeywordsHs2\u001b[0m\u001b[1;33m,\u001b[0m\u001b[0mkeywordsHs3\u001b[0m\u001b[1;33m,\u001b[0m\u001b[0mkeywordsHs4\u001b[0m\u001b[1;33m,\u001b[0m\u001b[0mkeywordsHs5\u001b[0m\u001b[1;33m)\u001b[0m\u001b[1;33m\u001b[0m\u001b[1;33m\u001b[0m\u001b[0m\n\u001b[0m\u001b[0;32m      6\u001b[0m \u001b[1;33m\u001b[0m\u001b[0m\n\u001b[0;32m      7\u001b[0m \u001b[1;31m# one hot encoding\u001b[0m\u001b[1;33m\u001b[0m\u001b[1;33m\u001b[0m\u001b[1;33m\u001b[0m\u001b[0m\n",
      "\u001b[1;31mNameError\u001b[0m: name 'keywordsHs1' is not defined"
     ]
    }
   ],
   "source": [
    "# assigning index to each keywords\n",
    "keywordsHS = assignIndex(topKHs1,topKHs2,topKHs3,topKHs4,topKHs5)\n",
    "\n",
    "# finding IDF vector for the keywords\n",
    "IDF_HS = calcIDF(keywordsHS,keywordsHs1,keywordsHs2,keywordsHs3,keywordsHs4,keywordsHs5)\n",
    "\n",
    "# one hot encoding\n",
    "OHE_HS = ohe(keywordsHS,keywordsHs1,keywordsHs2,keywordsHs3,keywordsHs4,keywordsHs5)\n",
    "# term frequency\n",
    "TF_HS = tf(keywordsHS,keywordsHs1,keywordsHs2,keywordsHs3,keywordsHs4,keywordsHs5)\n",
    "# term frequency, inverse dense frequency\n",
    "TFIDF_HS = tfidf(keywordsHS,keywordsHs1,keywordsHs2,keywordsHs3,keywordsHs4,keywordsHs5,IDF_HS)"
   ]
  },
  {
   "cell_type": "code",
   "execution_count": 30,
   "metadata": {},
   "outputs": [
    {
     "ename": "NameError",
     "evalue": "name 'OHE_HS' is not defined",
     "output_type": "error",
     "traceback": [
      "\u001b[1;31m---------------------------------------------------------------------------\u001b[0m",
      "\u001b[1;31mNameError\u001b[0m                                 Traceback (most recent call last)",
      "\u001b[1;32m<ipython-input-30-3bad0ce1842f>\u001b[0m in \u001b[0;36m<module>\u001b[1;34m\u001b[0m\n\u001b[0;32m      2\u001b[0m \u001b[0msorted_keys_HS\u001b[0m\u001b[1;33m=\u001b[0m\u001b[0mlist\u001b[0m\u001b[1;33m(\u001b[0m\u001b[0mkeywordsHS\u001b[0m\u001b[1;33m)\u001b[0m\u001b[1;33m\u001b[0m\u001b[1;33m\u001b[0m\u001b[0m\n\u001b[0;32m      3\u001b[0m \u001b[1;33m\u001b[0m\u001b[0m\n\u001b[1;32m----> 4\u001b[1;33m \u001b[0mstoreOHE\u001b[0m\u001b[1;33m(\u001b[0m\u001b[0mOHE_HS\u001b[0m\u001b[1;33m,\u001b[0m\u001b[0mkeywordsHS\u001b[0m\u001b[1;33m,\u001b[0m\u001b[1;34m'High_School_OHE.txt'\u001b[0m\u001b[1;33m,\u001b[0m\u001b[0msorted_keys_HS\u001b[0m\u001b[1;33m)\u001b[0m\u001b[1;33m\u001b[0m\u001b[1;33m\u001b[0m\u001b[0m\n\u001b[0m\u001b[0;32m      5\u001b[0m \u001b[0mstoreTF\u001b[0m\u001b[1;33m(\u001b[0m\u001b[0mTF_HS\u001b[0m\u001b[1;33m,\u001b[0m\u001b[0mkeywordsHS\u001b[0m\u001b[1;33m,\u001b[0m\u001b[1;34m'High_School_TF.txt'\u001b[0m\u001b[1;33m,\u001b[0m\u001b[0msorted_keys_HS\u001b[0m\u001b[1;33m)\u001b[0m\u001b[1;33m\u001b[0m\u001b[1;33m\u001b[0m\u001b[0m\n\u001b[0;32m      6\u001b[0m \u001b[0mstoreTFIDF\u001b[0m\u001b[1;33m(\u001b[0m\u001b[0mTFIDF_HS\u001b[0m\u001b[1;33m,\u001b[0m\u001b[0mkeywordsHS\u001b[0m\u001b[1;33m,\u001b[0m\u001b[1;34m'High_School_TFIDF.txt'\u001b[0m\u001b[1;33m,\u001b[0m\u001b[0msorted_keys_HS\u001b[0m\u001b[1;33m)\u001b[0m\u001b[1;33m\u001b[0m\u001b[1;33m\u001b[0m\u001b[0m\n",
      "\u001b[1;31mNameError\u001b[0m: name 'OHE_HS' is not defined"
     ]
    }
   ],
   "source": [
    "# making a list of keys sorted by index\n",
    "sorted_keys_HS=list(keywordsHS)\n",
    "\n",
    "storeOHE(OHE_HS,keywordsHS,'High_School_OHE.txt',sorted_keys_HS)\n",
    "storeTF(TF_HS,keywordsHS,'High_School_TF.txt',sorted_keys_HS)\n",
    "storeTFIDF(TFIDF_HS,keywordsHS,'High_School_TFIDF.txt',sorted_keys_HS)"
   ]
  },
  {
   "cell_type": "code",
   "execution_count": 31,
   "metadata": {},
   "outputs": [
    {
     "name": "stdout",
     "output_type": "stream",
     "text": [
      "\n",
      "OHE_HS Matrix\n"
     ]
    },
    {
     "ename": "NameError",
     "evalue": "name 'OHE_HS' is not defined",
     "output_type": "error",
     "traceback": [
      "\u001b[1;31m---------------------------------------------------------------------------\u001b[0m",
      "\u001b[1;31mNameError\u001b[0m                                 Traceback (most recent call last)",
      "\u001b[1;32m<ipython-input-31-9faaf7deea9a>\u001b[0m in \u001b[0;36m<module>\u001b[1;34m\u001b[0m\n\u001b[0;32m      2\u001b[0m \u001b[1;33m\u001b[0m\u001b[0m\n\u001b[0;32m      3\u001b[0m \u001b[1;31m# printing all 3 matrices\u001b[0m\u001b[1;33m\u001b[0m\u001b[1;33m\u001b[0m\u001b[1;33m\u001b[0m\u001b[0m\n\u001b[1;32m----> 4\u001b[1;33m \u001b[1;32mfor\u001b[0m \u001b[0mrow\u001b[0m \u001b[1;32min\u001b[0m \u001b[0mOHE_HS\u001b[0m\u001b[1;33m:\u001b[0m\u001b[1;33m\u001b[0m\u001b[1;33m\u001b[0m\u001b[0m\n\u001b[0m\u001b[0;32m      5\u001b[0m     \u001b[0mprint\u001b[0m\u001b[1;33m(\u001b[0m\u001b[0mrow\u001b[0m\u001b[1;33m)\u001b[0m\u001b[1;33m\u001b[0m\u001b[1;33m\u001b[0m\u001b[0m\n",
      "\u001b[1;31mNameError\u001b[0m: name 'OHE_HS' is not defined"
     ]
    }
   ],
   "source": [
    "print('\\nOHE_HS Matrix')\n",
    "\n",
    "# printing all 3 matrices\n",
    "for row in OHE_HS:\n",
    "    print(row)"
   ]
  },
  {
   "cell_type": "code",
   "execution_count": 32,
   "metadata": {},
   "outputs": [
    {
     "name": "stdout",
     "output_type": "stream",
     "text": [
      "\n",
      "TF_HS Matrix\n"
     ]
    },
    {
     "ename": "NameError",
     "evalue": "name 'TF_HS' is not defined",
     "output_type": "error",
     "traceback": [
      "\u001b[1;31m---------------------------------------------------------------------------\u001b[0m",
      "\u001b[1;31mNameError\u001b[0m                                 Traceback (most recent call last)",
      "\u001b[1;32m<ipython-input-32-78b076e7b9c9>\u001b[0m in \u001b[0;36m<module>\u001b[1;34m\u001b[0m\n\u001b[0;32m      1\u001b[0m \u001b[0mprint\u001b[0m\u001b[1;33m(\u001b[0m\u001b[1;34m'\\nTF_HS Matrix'\u001b[0m\u001b[1;33m)\u001b[0m\u001b[1;33m\u001b[0m\u001b[1;33m\u001b[0m\u001b[0m\n\u001b[0;32m      2\u001b[0m \u001b[1;33m\u001b[0m\u001b[0m\n\u001b[1;32m----> 3\u001b[1;33m \u001b[1;32mfor\u001b[0m \u001b[0mrow\u001b[0m \u001b[1;32min\u001b[0m \u001b[0mTF_HS\u001b[0m\u001b[1;33m:\u001b[0m\u001b[1;33m\u001b[0m\u001b[1;33m\u001b[0m\u001b[0m\n\u001b[0m\u001b[0;32m      4\u001b[0m     \u001b[0mprint\u001b[0m\u001b[1;33m(\u001b[0m\u001b[0mrow\u001b[0m\u001b[1;33m)\u001b[0m\u001b[1;33m\u001b[0m\u001b[1;33m\u001b[0m\u001b[0m\n",
      "\u001b[1;31mNameError\u001b[0m: name 'TF_HS' is not defined"
     ]
    }
   ],
   "source": [
    "print('\\nTF_HS Matrix')\n",
    "    \n",
    "for row in TF_HS:\n",
    "    print(row)"
   ]
  },
  {
   "cell_type": "code",
   "execution_count": 33,
   "metadata": {},
   "outputs": [
    {
     "name": "stdout",
     "output_type": "stream",
     "text": [
      "\n",
      "TF-IDF_HS Matrix\n"
     ]
    },
    {
     "ename": "NameError",
     "evalue": "name 'TFIDF_HS' is not defined",
     "output_type": "error",
     "traceback": [
      "\u001b[1;31m---------------------------------------------------------------------------\u001b[0m",
      "\u001b[1;31mNameError\u001b[0m                                 Traceback (most recent call last)",
      "\u001b[1;32m<ipython-input-33-de5934d2fc7f>\u001b[0m in \u001b[0;36m<module>\u001b[1;34m\u001b[0m\n\u001b[0;32m      1\u001b[0m \u001b[0mprint\u001b[0m\u001b[1;33m(\u001b[0m\u001b[1;34m'\\nTF-IDF_HS Matrix'\u001b[0m\u001b[1;33m)\u001b[0m\u001b[1;33m\u001b[0m\u001b[1;33m\u001b[0m\u001b[0m\n\u001b[0;32m      2\u001b[0m \u001b[1;33m\u001b[0m\u001b[0m\n\u001b[1;32m----> 3\u001b[1;33m \u001b[1;32mfor\u001b[0m \u001b[0mrow\u001b[0m \u001b[1;32min\u001b[0m \u001b[0mTFIDF_HS\u001b[0m\u001b[1;33m:\u001b[0m\u001b[1;33m\u001b[0m\u001b[1;33m\u001b[0m\u001b[0m\n\u001b[0m\u001b[0;32m      4\u001b[0m     \u001b[0mprint\u001b[0m\u001b[1;33m(\u001b[0m\u001b[1;34m'['\u001b[0m\u001b[1;33m,\u001b[0m\u001b[0mend\u001b[0m\u001b[1;33m=\u001b[0m\u001b[1;34m''\u001b[0m\u001b[1;33m)\u001b[0m\u001b[1;33m\u001b[0m\u001b[1;33m\u001b[0m\u001b[0m\n\u001b[0;32m      5\u001b[0m     \u001b[1;32mfor\u001b[0m \u001b[0mele\u001b[0m \u001b[1;32min\u001b[0m \u001b[0mrow\u001b[0m\u001b[1;33m:\u001b[0m\u001b[1;33m\u001b[0m\u001b[1;33m\u001b[0m\u001b[0m\n",
      "\u001b[1;31mNameError\u001b[0m: name 'TFIDF_HS' is not defined"
     ]
    }
   ],
   "source": [
    "print('\\nTF-IDF_HS Matrix')\n",
    "\n",
    "for row in TFIDF_HS:\n",
    "    print('[',end='')\n",
    "    for ele in row:\n",
    "        print(round(ele,3),end=', ')\n",
    "    print(']')"
   ]
  },
  {
   "cell_type": "code",
   "execution_count": 34,
   "metadata": {},
   "outputs": [
    {
     "ename": "NameError",
     "evalue": "name 'clgdf1' is not defined",
     "output_type": "error",
     "traceback": [
      "\u001b[1;31m---------------------------------------------------------------------------\u001b[0m",
      "\u001b[1;31mNameError\u001b[0m                                 Traceback (most recent call last)",
      "\u001b[1;32m<ipython-input-34-90190af39ef9>\u001b[0m in \u001b[0;36m<module>\u001b[1;34m\u001b[0m\n\u001b[0;32m      1\u001b[0m \u001b[1;34m\"\"\" College \"\"\"\u001b[0m\u001b[1;33m\u001b[0m\u001b[1;33m\u001b[0m\u001b[0m\n\u001b[0;32m      2\u001b[0m \u001b[1;33m\u001b[0m\u001b[0m\n\u001b[1;32m----> 3\u001b[1;33m \u001b[0mwordsClg1\u001b[0m \u001b[1;33m=\u001b[0m \u001b[0mremoveStopwords\u001b[0m\u001b[1;33m(\u001b[0m\u001b[0mclgdf1\u001b[0m\u001b[1;33m)\u001b[0m\u001b[1;33m\u001b[0m\u001b[1;33m\u001b[0m\u001b[0m\n\u001b[0m\u001b[0;32m      4\u001b[0m \u001b[0mwordsClg2\u001b[0m \u001b[1;33m=\u001b[0m \u001b[0mremoveStopwords\u001b[0m\u001b[1;33m(\u001b[0m\u001b[0mclgdf2\u001b[0m\u001b[1;33m)\u001b[0m\u001b[1;33m\u001b[0m\u001b[1;33m\u001b[0m\u001b[0m\n\u001b[0;32m      5\u001b[0m \u001b[0mwordsClg3\u001b[0m \u001b[1;33m=\u001b[0m \u001b[0mremoveStopwords\u001b[0m\u001b[1;33m(\u001b[0m\u001b[0mclgdf3\u001b[0m\u001b[1;33m)\u001b[0m\u001b[1;33m\u001b[0m\u001b[1;33m\u001b[0m\u001b[0m\n",
      "\u001b[1;31mNameError\u001b[0m: name 'clgdf1' is not defined"
     ]
    }
   ],
   "source": [
    "\"\"\" College \"\"\"\n",
    "\n",
    "wordsClg1 = removeStopwords(clgdf1)\n",
    "wordsClg2 = removeStopwords(clgdf2)\n",
    "wordsClg3 = removeStopwords(clgdf3)\n",
    "wordsClg4 = removeStopwords(clgdf4)\n",
    "wordsClg5 = removeStopwords(clgdf5)\n",
    "\n",
    "keywordsClg1=countKeyWords(wordsClg1)\n",
    "keywordsClg2=countKeyWords(wordsClg2)\n",
    "keywordsClg3=countKeyWords(wordsClg3)\n",
    "keywordsClg4=countKeyWords(wordsClg4)\n",
    "keywordsClg5=countKeyWords(wordsClg5)\n",
    "topKClg1=[]\n",
    "topKClg2=[]\n",
    "topKClg3=[]\n",
    "topKClg4=[]\n",
    "topKClg5=[]\n",
    "topKClg6=[]\n",
    "\n",
    "\n",
    "for key in keywordsClg1.keys():\n",
    "    topKClg1.append((key,keywordsClg1[key]))    \n",
    "for key in keywordsClg2.keys():\n",
    "    topKClg2.append((key,keywordsClg2[key]))\n",
    "for key in keywordsClg3.keys():\n",
    "    topKClg3.append((key,keywordsClg3[key]))\n",
    "for key in keywordsClg4.keys():\n",
    "    topKClg4.append((key,keywordsClg4[key]))\n",
    "for key in keywordsClg5.keys():\n",
    "    topKClg5.append((key,keywordsClg5[key]))\n",
    "    \n",
    "# finding top 10 keywords with preferance to larger length keywords in case of a tie\n",
    "\n",
    "topKClg1 = sorted(topKClg1,key=lambda x: (x[1], len(x[0])),reverse=True)    \n",
    "topKClg1= topKClg1[0:10]\n",
    "\n",
    "topKClg2 = sorted(topKClg2,key=lambda x: (x[1], len(x[0])),reverse=True)    \n",
    "topKClg2 = topKClg2[0:10]\n",
    "\n",
    "topKClg3 = sorted(topKClg3,key=lambda x: (x[1], len(x[0])),reverse=True)    \n",
    "topKClg3= topKClg3[0:10]\n",
    "\n",
    "topKClg4 = sorted(topKClg4,key=lambda x: (x[1], len(x[0])),reverse=True)    \n",
    "topKClg4 = topKClg4[0:10]\n",
    "\n",
    "topKClg5 = sorted(topKClg5,key=lambda x: (x[1], len(x[0])),reverse=True)    \n",
    "topKClg5 = topKClg5[0:10]"
   ]
  },
  {
   "cell_type": "code",
   "execution_count": 38,
   "metadata": {},
   "outputs": [
    {
     "name": "stdout",
     "output_type": "stream",
     "text": [
      "Top 10 Keywords in College Chat 1 with frequency: []\n",
      "Top 10 Keywords in College Chat 2 with frequency: []\n",
      "Top 10 Keywords in College Chat 3 with frequency: []\n",
      "Top 10 Keywords in College Chat 4 with frequency: []\n",
      "Top 10 Keywords in College Chat 5 with frequency: []\n"
     ]
    }
   ],
   "source": [
    "print('Top 10 Keywords in College Chat 1 with frequency: '+str(topKClg1))\n",
    "print('Top 10 Keywords in College Chat 2 with frequency: '+str(topKClg2))\n",
    "print('Top 10 Keywords in College Chat 3 with frequency: '+str(topKClg3))\n",
    "print('Top 10 Keywords in College Chat 4 with frequency: '+str(topKClg4))\n",
    "print('Top 10 Keywords in College Chat 5 with frequency: '+str(topKClg5))"
   ]
  },
  {
   "cell_type": "code",
   "execution_count": 39,
   "metadata": {},
   "outputs": [
    {
     "data": {
      "image/png": "[encoded data removed]",
      "text/plain": [
       "<Figure size 432x288 with 1 Axes>"
      ]
     },
     "metadata": {
      "needs_background": "light"
     },
     "output_type": "display_data"
    },
    {
     "data": {
      "image/png": "[encoded data removed]",
      "text/plain": [
       "<Figure size 432x288 with 1 Axes>"
      ]
     },
     "metadata": {
      "needs_background": "light"
     },
     "output_type": "display_data"
    },
    {
     "data": {
      "image/png": "[encoded data removed]",
      "text/plain": [
       "<Figure size 432x288 with 1 Axes>"
      ]
     },
     "metadata": {
      "needs_background": "light"
     },
     "output_type": "display_data"
    },
    {
     "data": {
      "image/png": "[encoded data removed]",
      "text/plain": [
       "<Figure size 432x288 with 1 Axes>"
      ]
     },
     "metadata": {
      "needs_background": "light"
     },
     "output_type": "display_data"
    },
    {
     "data": {
      "image/png": "[encoded data removed]",
      "text/plain": [
       "<Figure size 432x288 with 1 Axes>"
      ]
     },
     "metadata": {
      "needs_background": "light"
     },
     "output_type": "display_data"
    }
   ],
   "source": [
    "\"\"\"  ..................... Plotting Unigram Keywords ...................................... \"\"\"\n",
    "\n",
    "plot([val[0] for val in topKClg1],[val[1] for val in topKClg1],'College Chat 1 Keywords','Frequency',False,color='red',width = 0.5)\n",
    "plot([val[0] for val in topKClg2],[val[1] for val in topKClg2],'College Chat 2 Keywords','Frequency',False,color='blue',width = 0.5)\n",
    "plot([val[0] for val in topKClg3],[val[1] for val in topKClg3],'College Chat 3 Keywords','Frequency',False,color='orange',width = 0.5)\n",
    "plot([val[0] for val in topKClg4],[val[1] for val in topKClg4],'College Chat 4 Keywords','Frequency',False,color='green',width = 0.5)\n",
    "plot([val[0] for val in topKClg5],[val[1] for val in topKClg5],'College Chat 5 Keywords','Frequency',False,color='purple',width = 0.5)"
   ]
  },
  {
   "cell_type": "code",
   "execution_count": 40,
   "metadata": {},
   "outputs": [
    {
     "ename": "NameError",
     "evalue": "name 'keywordsClg1' is not defined",
     "output_type": "error",
     "traceback": [
      "\u001b[1;31m---------------------------------------------------------------------------\u001b[0m",
      "\u001b[1;31mNameError\u001b[0m                                 Traceback (most recent call last)",
      "\u001b[1;32m<ipython-input-40-827041d36f11>\u001b[0m in \u001b[0;36m<module>\u001b[1;34m\u001b[0m\n\u001b[0;32m      2\u001b[0m \u001b[0mkeywordsClg\u001b[0m \u001b[1;33m=\u001b[0m \u001b[0massignIndex\u001b[0m\u001b[1;33m(\u001b[0m\u001b[0mtopKClg1\u001b[0m\u001b[1;33m,\u001b[0m \u001b[0mtopKClg2\u001b[0m\u001b[1;33m,\u001b[0m \u001b[0mtopKClg3\u001b[0m\u001b[1;33m,\u001b[0m \u001b[0mtopKClg4\u001b[0m\u001b[1;33m,\u001b[0m \u001b[0mtopKClg5\u001b[0m\u001b[1;33m)\u001b[0m\u001b[1;33m\u001b[0m\u001b[1;33m\u001b[0m\u001b[0m\n\u001b[0;32m      3\u001b[0m \u001b[1;31m# calcualting IDF for each keyword\u001b[0m\u001b[1;33m\u001b[0m\u001b[1;33m\u001b[0m\u001b[1;33m\u001b[0m\u001b[0m\n\u001b[1;32m----> 4\u001b[1;33m \u001b[0mIDF_CLG\u001b[0m \u001b[1;33m=\u001b[0m \u001b[0mcalcIDF\u001b[0m\u001b[1;33m(\u001b[0m\u001b[0mkeywordsClg\u001b[0m\u001b[1;33m,\u001b[0m\u001b[0mkeywordsClg1\u001b[0m\u001b[1;33m,\u001b[0m\u001b[0mkeywordsClg2\u001b[0m\u001b[1;33m,\u001b[0m\u001b[0mkeywordsClg3\u001b[0m\u001b[1;33m,\u001b[0m\u001b[0mkeywordsClg4\u001b[0m\u001b[1;33m,\u001b[0m\u001b[0mkeywordsClg5\u001b[0m\u001b[1;33m)\u001b[0m\u001b[1;33m\u001b[0m\u001b[1;33m\u001b[0m\u001b[0m\n\u001b[0m\u001b[0;32m      5\u001b[0m \u001b[1;33m\u001b[0m\u001b[0m\n\u001b[0;32m      6\u001b[0m \u001b[1;31m# one hot encoding\u001b[0m\u001b[1;33m\u001b[0m\u001b[1;33m\u001b[0m\u001b[1;33m\u001b[0m\u001b[0m\n",
      "\u001b[1;31mNameError\u001b[0m: name 'keywordsClg1' is not defined"
     ]
    }
   ],
   "source": [
    "# assigning an index to all keywords\n",
    "keywordsClg = assignIndex(topKClg1, topKClg2, topKClg3, topKClg4, topKClg5)\n",
    "# calcualting IDF for each keyword\n",
    "IDF_CLG = calcIDF(keywordsClg,keywordsClg1,keywordsClg2,keywordsClg3,keywordsClg4,keywordsClg5)\n",
    "\n",
    "# one hot encoding\n",
    "OHE_CLG = ohe(keywordsClg,keywordsClg1,keywordsClg2,keywordsClg3,keywordsClg4,keywordsClg5)\n",
    "# term frequency\n",
    "TF_CLG = tf(keywordsClg,keywordsClg1,keywordsClg2,keywordsClg3,keywordsClg4,keywordsClg5)\n",
    "# term frequency, inverse dense frequency\n",
    "TFIDF_CLG = tfidf(keywordsClg,keywordsClg1,keywordsClg2,keywordsClg3,keywordsClg4,keywordsClg5,IDF_CLG)"
   ]
  },
  {
   "cell_type": "code",
   "execution_count": 41,
   "metadata": {},
   "outputs": [
    {
     "ename": "NameError",
     "evalue": "name 'OHE_CLG' is not defined",
     "output_type": "error",
     "traceback": [
      "\u001b[1;31m---------------------------------------------------------------------------\u001b[0m",
      "\u001b[1;31mNameError\u001b[0m                                 Traceback (most recent call last)",
      "\u001b[1;32m<ipython-input-41-24c6ead37f51>\u001b[0m in \u001b[0;36m<module>\u001b[1;34m\u001b[0m\n\u001b[0;32m      2\u001b[0m \u001b[0msorted_keys_CLG\u001b[0m\u001b[1;33m=\u001b[0m\u001b[0mlist\u001b[0m\u001b[1;33m(\u001b[0m\u001b[0mkeywordsClg\u001b[0m\u001b[1;33m)\u001b[0m\u001b[1;33m\u001b[0m\u001b[1;33m\u001b[0m\u001b[0m\n\u001b[0;32m      3\u001b[0m \u001b[1;33m\u001b[0m\u001b[0m\n\u001b[1;32m----> 4\u001b[1;33m \u001b[0mstoreOHE\u001b[0m\u001b[1;33m(\u001b[0m\u001b[0mOHE_CLG\u001b[0m\u001b[1;33m,\u001b[0m\u001b[0mkeywordsHS\u001b[0m\u001b[1;33m,\u001b[0m\u001b[1;34m'College_OHE.txt'\u001b[0m\u001b[1;33m,\u001b[0m\u001b[0msorted_keys_CLG\u001b[0m\u001b[1;33m)\u001b[0m\u001b[1;33m\u001b[0m\u001b[1;33m\u001b[0m\u001b[0m\n\u001b[0m\u001b[0;32m      5\u001b[0m \u001b[0mstoreTF\u001b[0m\u001b[1;33m(\u001b[0m\u001b[0mTF_CLG\u001b[0m\u001b[1;33m,\u001b[0m\u001b[0mkeywordsHS\u001b[0m\u001b[1;33m,\u001b[0m\u001b[1;34m'College_TF.txt'\u001b[0m\u001b[1;33m,\u001b[0m\u001b[0msorted_keys_CLG\u001b[0m\u001b[1;33m)\u001b[0m\u001b[1;33m\u001b[0m\u001b[1;33m\u001b[0m\u001b[0m\n\u001b[0;32m      6\u001b[0m \u001b[0mstoreTFIDF\u001b[0m\u001b[1;33m(\u001b[0m\u001b[0mTFIDF_CLG\u001b[0m\u001b[1;33m,\u001b[0m\u001b[0mkeywordsHS\u001b[0m\u001b[1;33m,\u001b[0m\u001b[1;34m'College_TFIDF.txt'\u001b[0m\u001b[1;33m,\u001b[0m\u001b[0msorted_keys_CLG\u001b[0m\u001b[1;33m)\u001b[0m\u001b[1;33m\u001b[0m\u001b[1;33m\u001b[0m\u001b[0m\n",
      "\u001b[1;31mNameError\u001b[0m: name 'OHE_CLG' is not defined"
     ]
    }
   ],
   "source": [
    "# making a list of keys sorted by index\n",
    "sorted_keys_CLG=list(keywordsClg)\n",
    "\n",
    "storeOHE(OHE_CLG,keywordsHS,'College_OHE.txt',sorted_keys_CLG)\n",
    "storeTF(TF_CLG,keywordsHS,'College_TF.txt',sorted_keys_CLG)\n",
    "storeTFIDF(TFIDF_CLG,keywordsHS,'College_TFIDF.txt',sorted_keys_CLG)"
   ]
  },
  {
   "cell_type": "code",
   "execution_count": 42,
   "metadata": {},
   "outputs": [
    {
     "name": "stdout",
     "output_type": "stream",
     "text": [
      "\n",
      "OHE_CLG Matrix\n"
     ]
    },
    {
     "ename": "NameError",
     "evalue": "name 'OHE_CLG' is not defined",
     "output_type": "error",
     "traceback": [
      "\u001b[1;31m---------------------------------------------------------------------------\u001b[0m",
      "\u001b[1;31mNameError\u001b[0m                                 Traceback (most recent call last)",
      "\u001b[1;32m<ipython-input-42-edf9d57bee92>\u001b[0m in \u001b[0;36m<module>\u001b[1;34m\u001b[0m\n\u001b[0;32m      2\u001b[0m \u001b[1;33m\u001b[0m\u001b[0m\n\u001b[0;32m      3\u001b[0m \u001b[1;31m# printing all 3 matrices\u001b[0m\u001b[1;33m\u001b[0m\u001b[1;33m\u001b[0m\u001b[1;33m\u001b[0m\u001b[0m\n\u001b[1;32m----> 4\u001b[1;33m \u001b[1;32mfor\u001b[0m \u001b[0mrow\u001b[0m \u001b[1;32min\u001b[0m \u001b[0mOHE_CLG\u001b[0m\u001b[1;33m:\u001b[0m\u001b[1;33m\u001b[0m\u001b[1;33m\u001b[0m\u001b[0m\n\u001b[0m\u001b[0;32m      5\u001b[0m     \u001b[0mprint\u001b[0m\u001b[1;33m(\u001b[0m\u001b[0mrow\u001b[0m\u001b[1;33m)\u001b[0m\u001b[1;33m\u001b[0m\u001b[1;33m\u001b[0m\u001b[0m\n",
      "\u001b[1;31mNameError\u001b[0m: name 'OHE_CLG' is not defined"
     ]
    }
   ],
   "source": [
    "print('\\nOHE_CLG Matrix')\n",
    "\n",
    "# printing all 3 matrices\n",
    "for row in OHE_CLG:\n",
    "    print(row)"
   ]
  },
  {
   "cell_type": "code",
   "execution_count": 43,
   "metadata": {},
   "outputs": [
    {
     "name": "stdout",
     "output_type": "stream",
     "text": [
      "\n",
      "TF_CLG Matrix\n"
     ]
    },
    {
     "ename": "NameError",
     "evalue": "name 'TF_CLG' is not defined",
     "output_type": "error",
     "traceback": [
      "\u001b[1;31m---------------------------------------------------------------------------\u001b[0m",
      "\u001b[1;31mNameError\u001b[0m                                 Traceback (most recent call last)",
      "\u001b[1;32m<ipython-input-43-e1b771bcbcff>\u001b[0m in \u001b[0;36m<module>\u001b[1;34m\u001b[0m\n\u001b[0;32m      1\u001b[0m \u001b[0mprint\u001b[0m\u001b[1;33m(\u001b[0m\u001b[1;34m'\\nTF_CLG Matrix'\u001b[0m\u001b[1;33m)\u001b[0m\u001b[1;33m\u001b[0m\u001b[1;33m\u001b[0m\u001b[0m\n\u001b[0;32m      2\u001b[0m \u001b[1;33m\u001b[0m\u001b[0m\n\u001b[1;32m----> 3\u001b[1;33m \u001b[1;32mfor\u001b[0m \u001b[0mrow\u001b[0m \u001b[1;32min\u001b[0m \u001b[0mTF_CLG\u001b[0m\u001b[1;33m:\u001b[0m\u001b[1;33m\u001b[0m\u001b[1;33m\u001b[0m\u001b[0m\n\u001b[0m\u001b[0;32m      4\u001b[0m     \u001b[0mprint\u001b[0m\u001b[1;33m(\u001b[0m\u001b[0mrow\u001b[0m\u001b[1;33m)\u001b[0m\u001b[1;33m\u001b[0m\u001b[1;33m\u001b[0m\u001b[0m\n",
      "\u001b[1;31mNameError\u001b[0m: name 'TF_CLG' is not defined"
     ]
    }
   ],
   "source": [
    "print('\\nTF_CLG Matrix')\n",
    "    \n",
    "for row in TF_CLG:\n",
    "    print(row)\n"
   ]
  },
  {
   "cell_type": "code",
   "execution_count": 44,
   "metadata": {},
   "outputs": [
    {
     "name": "stdout",
     "output_type": "stream",
     "text": [
      "\n",
      "TF-IDF_CLG Matrix\n"
     ]
    },
    {
     "ename": "NameError",
     "evalue": "name 'TFIDF_CLG' is not defined",
     "output_type": "error",
     "traceback": [
      "\u001b[1;31m---------------------------------------------------------------------------\u001b[0m",
      "\u001b[1;31mNameError\u001b[0m                                 Traceback (most recent call last)",
      "\u001b[1;32m<ipython-input-44-55872339cdf4>\u001b[0m in \u001b[0;36m<module>\u001b[1;34m\u001b[0m\n\u001b[0;32m      1\u001b[0m \u001b[0mprint\u001b[0m\u001b[1;33m(\u001b[0m\u001b[1;34m'\\nTF-IDF_CLG Matrix'\u001b[0m\u001b[1;33m)\u001b[0m\u001b[1;33m\u001b[0m\u001b[1;33m\u001b[0m\u001b[0m\n\u001b[0;32m      2\u001b[0m \u001b[1;33m\u001b[0m\u001b[0m\n\u001b[1;32m----> 3\u001b[1;33m \u001b[1;32mfor\u001b[0m \u001b[0mrow\u001b[0m \u001b[1;32min\u001b[0m \u001b[0mTFIDF_CLG\u001b[0m\u001b[1;33m:\u001b[0m\u001b[1;33m\u001b[0m\u001b[1;33m\u001b[0m\u001b[0m\n\u001b[0m\u001b[0;32m      4\u001b[0m     \u001b[0mprint\u001b[0m\u001b[1;33m(\u001b[0m\u001b[1;34m'['\u001b[0m\u001b[1;33m,\u001b[0m\u001b[0mend\u001b[0m\u001b[1;33m=\u001b[0m\u001b[1;34m''\u001b[0m\u001b[1;33m)\u001b[0m\u001b[1;33m\u001b[0m\u001b[1;33m\u001b[0m\u001b[0m\n\u001b[0;32m      5\u001b[0m     \u001b[1;32mfor\u001b[0m \u001b[0mele\u001b[0m \u001b[1;32min\u001b[0m \u001b[0mrow\u001b[0m\u001b[1;33m:\u001b[0m\u001b[1;33m\u001b[0m\u001b[1;33m\u001b[0m\u001b[0m\n",
      "\u001b[1;31mNameError\u001b[0m: name 'TFIDF_CLG' is not defined"
     ]
    }
   ],
   "source": [
    "print('\\nTF-IDF_CLG Matrix')\n",
    "\n",
    "for row in TFIDF_CLG:\n",
    "    print('[',end='')\n",
    "    for ele in row:\n",
    "        print(round(ele,3),end=', ')\n",
    "    print(']')"
   ]
  },
  {
   "cell_type": "code",
   "execution_count": 45,
   "metadata": {},
   "outputs": [
    {
     "ename": "NameError",
     "evalue": "name 'TFIDF_HS' is not defined",
     "output_type": "error",
     "traceback": [
      "\u001b[1;31m---------------------------------------------------------------------------\u001b[0m",
      "\u001b[1;31mNameError\u001b[0m                                 Traceback (most recent call last)",
      "\u001b[1;32m<ipython-input-45-48c1e47a9a56>\u001b[0m in \u001b[0;36m<module>\u001b[1;34m\u001b[0m\n\u001b[0;32m      4\u001b[0m \u001b[1;33m\u001b[0m\u001b[0m\n\u001b[0;32m      5\u001b[0m \u001b[1;33m\u001b[0m\u001b[0m\n\u001b[1;32m----> 6\u001b[1;33m \u001b[0mtrain\u001b[0m \u001b[1;33m=\u001b[0m \u001b[0mTFIDF_HS\u001b[0m\u001b[1;33m\u001b[0m\u001b[1;33m\u001b[0m\u001b[0m\n\u001b[0m\u001b[0;32m      7\u001b[0m \u001b[0mtest\u001b[0m \u001b[1;33m=\u001b[0m \u001b[0mTFIDF_CLG\u001b[0m\u001b[1;33m\u001b[0m\u001b[1;33m\u001b[0m\u001b[0m\n\u001b[0;32m      8\u001b[0m \u001b[0ml1\u001b[0m \u001b[1;33m=\u001b[0m \u001b[0mlen\u001b[0m\u001b[1;33m(\u001b[0m\u001b[0mtest\u001b[0m\u001b[1;33m[\u001b[0m\u001b[1;36m0\u001b[0m\u001b[1;33m]\u001b[0m\u001b[1;33m)\u001b[0m\u001b[1;33m\u001b[0m\u001b[1;33m\u001b[0m\u001b[0m\n",
      "\u001b[1;31mNameError\u001b[0m: name 'TFIDF_HS' is not defined"
     ]
    }
   ],
   "source": [
    "\"\"\" Cosine Similarity in High School and College Keywords in BOW \"\"\"\n",
    "\n",
    "\"\"\" Hs vs CLG \"\"\"\n",
    "\n",
    "\n",
    "train = TFIDF_HS\n",
    "test = TFIDF_CLG\n",
    "l1 = len(test[0])\n",
    "l2 = len(train[0])\n",
    "# managed different lenghts according to this article\n",
    "# https://stackoverflow.com/questions/3121217/cosine-similarity-of-vectors-of-different-lengths\n",
    "l = min(l1,l2)\n",
    "\n",
    "\n",
    "# finding cosine similarity\n",
    "similarity = []\n",
    "for i in range(0,5):\n",
    "    print('Test IDF Vector is :'+str(test[i]) )\n",
    "    testmag = magnitude(test[i])\n",
    "    cosines = []\n",
    "    for j in range (0,5):\n",
    "        trainmag = magnitude(train[j])\n",
    "        s=0\n",
    "        for k in range(0,l):\n",
    "           s+=(test[i][k]*train[j][k]) \n",
    "        cosine = s/(trainmag*testmag)\n",
    "        cosines.append(cosine)\n",
    "        print('Cosine similarity of College_Chat_{} with High_School_Chat_{} is '.format(i+1,j+1)+str(cosine))\n",
    "    similarity.append(cosines)"
   ]
  },
  {
   "cell_type": "code",
   "execution_count": 46,
   "metadata": {},
   "outputs": [
    {
     "ename": "NameError",
     "evalue": "name 'similarity' is not defined",
     "output_type": "error",
     "traceback": [
      "\u001b[1;31m---------------------------------------------------------------------------\u001b[0m",
      "\u001b[1;31mNameError\u001b[0m                                 Traceback (most recent call last)",
      "\u001b[1;32m<ipython-input-46-66459e3ba8e3>\u001b[0m in \u001b[0;36m<module>\u001b[1;34m\u001b[0m\n\u001b[0;32m      1\u001b[0m \u001b[1;31m# saving the cosine matrix\u001b[0m\u001b[1;33m\u001b[0m\u001b[1;33m\u001b[0m\u001b[1;33m\u001b[0m\u001b[0m\n\u001b[1;32m----> 2\u001b[1;33m \u001b[0msaveMetric\u001b[0m\u001b[1;33m(\u001b[0m\u001b[0msimilarity\u001b[0m\u001b[1;33m,\u001b[0m \u001b[1;34m'Cosine_Similarity_Unigram_Matrix.txt'\u001b[0m \u001b[1;33m,\u001b[0m\u001b[1;34m'Collge Chat '\u001b[0m\u001b[1;33m,\u001b[0m\u001b[1;34m'High School Chat '\u001b[0m\u001b[1;33m)\u001b[0m\u001b[1;33m\u001b[0m\u001b[1;33m\u001b[0m\u001b[0m\n\u001b[0m\u001b[0;32m      3\u001b[0m \u001b[1;33m\u001b[0m\u001b[0m\n\u001b[0;32m      4\u001b[0m \u001b[1;33m\u001b[0m\u001b[0m\n\u001b[0;32m      5\u001b[0m \u001b[1;31m# finding closest documents\u001b[0m\u001b[1;33m\u001b[0m\u001b[1;33m\u001b[0m\u001b[1;33m\u001b[0m\u001b[0m\n",
      "\u001b[1;31mNameError\u001b[0m: name 'similarity' is not defined"
     ]
    }
   ],
   "source": [
    "# saving the cosine matrix\n",
    "saveMetric(similarity, 'Cosine_Similarity_Unigram_Matrix.txt' ,'Collge Chat ','High School Chat ')\n",
    "    \n",
    "\n",
    "# finding closest documents \n",
    "maxval = 0\n",
    "hs=0\n",
    "clg=0\n",
    "for i in range (0,5):\n",
    "    row = similarity[i]\n",
    "    print('College Chat {} :'.format(i+1))\n",
    "    for j in range (0,5):\n",
    "        print(row[j],end=' ')\n",
    "        if row[j]>maxval:\n",
    "            maxval = row[j]\n",
    "            hs = j\n",
    "            clg = i\n",
    "    print()\n",
    "\n",
    "f = open('Cosine_Similarity_Unigram_Matrix.txt','a')\n",
    "f.write('\\n\\n')\n",
    "print('The College Chat Document - {} is closest to the High School Chat Document - {} with a cosine similarity of {}'.\n",
    "      format(clg+1,hs+1,maxval),file=f)\n",
    "f.close()"
   ]
  },
  {
   "cell_type": "code",
   "execution_count": 47,
   "metadata": {},
   "outputs": [
    {
     "ename": "NameError",
     "evalue": "name 'similarity' is not defined",
     "output_type": "error",
     "traceback": [
      "\u001b[1;31m---------------------------------------------------------------------------\u001b[0m",
      "\u001b[1;31mNameError\u001b[0m                                 Traceback (most recent call last)",
      "\u001b[1;32m<ipython-input-47-90161db95665>\u001b[0m in \u001b[0;36m<module>\u001b[1;34m\u001b[0m\n\u001b[0;32m      1\u001b[0m \u001b[1;31m# plotting cosine similarities\u001b[0m\u001b[1;33m\u001b[0m\u001b[1;33m\u001b[0m\u001b[1;33m\u001b[0m\u001b[0m\n\u001b[0;32m      2\u001b[0m \u001b[1;33m\u001b[0m\u001b[0m\n\u001b[1;32m----> 3\u001b[1;33m \u001b[0mplot\u001b[0m\u001b[1;33m(\u001b[0m\u001b[1;33m[\u001b[0m\u001b[1;36m1\u001b[0m\u001b[1;33m,\u001b[0m\u001b[1;36m2\u001b[0m\u001b[1;33m,\u001b[0m\u001b[1;36m3\u001b[0m\u001b[1;33m,\u001b[0m\u001b[1;36m4\u001b[0m\u001b[1;33m,\u001b[0m\u001b[1;36m5\u001b[0m\u001b[1;33m]\u001b[0m\u001b[1;33m,\u001b[0m\u001b[0msimilarity\u001b[0m\u001b[1;33m[\u001b[0m\u001b[1;36m0\u001b[0m\u001b[1;33m]\u001b[0m\u001b[1;33m,\u001b[0m\u001b[1;34m'High School Chats'\u001b[0m\u001b[1;33m,\u001b[0m\u001b[1;34m'Unigram Cosine Similarity with College Chat Document 1'\u001b[0m\u001b[1;33m,\u001b[0m\u001b[1;32mFalse\u001b[0m\u001b[1;33m,\u001b[0m\u001b[1;34m'red'\u001b[0m\u001b[1;33m,\u001b[0m\u001b[1;36m0.5\u001b[0m\u001b[1;33m)\u001b[0m\u001b[1;33m\u001b[0m\u001b[1;33m\u001b[0m\u001b[0m\n\u001b[0m\u001b[0;32m      4\u001b[0m \u001b[0mplot\u001b[0m\u001b[1;33m(\u001b[0m\u001b[1;33m[\u001b[0m\u001b[1;36m1\u001b[0m\u001b[1;33m,\u001b[0m\u001b[1;36m2\u001b[0m\u001b[1;33m,\u001b[0m\u001b[1;36m3\u001b[0m\u001b[1;33m,\u001b[0m\u001b[1;36m4\u001b[0m\u001b[1;33m,\u001b[0m\u001b[1;36m5\u001b[0m\u001b[1;33m]\u001b[0m\u001b[1;33m,\u001b[0m\u001b[0msimilarity\u001b[0m\u001b[1;33m[\u001b[0m\u001b[1;36m1\u001b[0m\u001b[1;33m]\u001b[0m\u001b[1;33m,\u001b[0m\u001b[1;34m'High School Chats'\u001b[0m\u001b[1;33m,\u001b[0m\u001b[1;34m'Unigram Cosine Similarity with College Chat Document 2'\u001b[0m\u001b[1;33m,\u001b[0m\u001b[1;32mFalse\u001b[0m\u001b[1;33m,\u001b[0m\u001b[1;34m'red'\u001b[0m\u001b[1;33m,\u001b[0m\u001b[1;36m0.5\u001b[0m\u001b[1;33m)\u001b[0m\u001b[1;33m\u001b[0m\u001b[1;33m\u001b[0m\u001b[0m\n\u001b[0;32m      5\u001b[0m \u001b[0mplot\u001b[0m\u001b[1;33m(\u001b[0m\u001b[1;33m[\u001b[0m\u001b[1;36m1\u001b[0m\u001b[1;33m,\u001b[0m\u001b[1;36m2\u001b[0m\u001b[1;33m,\u001b[0m\u001b[1;36m3\u001b[0m\u001b[1;33m,\u001b[0m\u001b[1;36m4\u001b[0m\u001b[1;33m,\u001b[0m\u001b[1;36m5\u001b[0m\u001b[1;33m]\u001b[0m\u001b[1;33m,\u001b[0m\u001b[0msimilarity\u001b[0m\u001b[1;33m[\u001b[0m\u001b[1;36m2\u001b[0m\u001b[1;33m]\u001b[0m\u001b[1;33m,\u001b[0m\u001b[1;34m'High School Chats'\u001b[0m\u001b[1;33m,\u001b[0m\u001b[1;34m'Unigram Cosine Similarity with College Chat Document 3'\u001b[0m\u001b[1;33m,\u001b[0m\u001b[1;32mFalse\u001b[0m\u001b[1;33m,\u001b[0m\u001b[1;34m'red'\u001b[0m\u001b[1;33m,\u001b[0m\u001b[1;36m0.5\u001b[0m\u001b[1;33m)\u001b[0m\u001b[1;33m\u001b[0m\u001b[1;33m\u001b[0m\u001b[0m\n",
      "\u001b[1;31mNameError\u001b[0m: name 'similarity' is not defined"
     ]
    }
   ],
   "source": [
    "# plotting cosine similarities\n",
    "\n",
    "plot([1,2,3,4,5],similarity[0],'High School Chats','Unigram Cosine Similarity with College Chat Document 1',False,'red',0.5)\n",
    "plot([1,2,3,4,5],similarity[1],'High School Chats','Unigram Cosine Similarity with College Chat Document 2',False,'red',0.5)\n",
    "plot([1,2,3,4,5],similarity[2],'High School Chats','Unigram Cosine Similarity with College Chat Document 3',False,'red',0.5)\n",
    "plot([1,2,3,4,5],similarity[3],'High School Chats','Unigram Cosine Similarity with College Chat Document 4',False,'red',0.5)\n",
    "plot([1,2,3,4,5],similarity[4],'High School Chats','Unigram Cosine Similarity with College Chat Document 5',False,'red',0.5)"
   ]
  },
  {
   "cell_type": "code",
   "execution_count": 48,
   "metadata": {},
   "outputs": [
    {
     "ename": "NameError",
     "evalue": "name 'TFIDF_CLG' is not defined",
     "output_type": "error",
     "traceback": [
      "\u001b[1;31m---------------------------------------------------------------------------\u001b[0m",
      "\u001b[1;31mNameError\u001b[0m                                 Traceback (most recent call last)",
      "\u001b[1;32m<ipython-input-48-7d82c11a1501>\u001b[0m in \u001b[0;36m<module>\u001b[1;34m\u001b[0m\n\u001b[0;32m      1\u001b[0m \u001b[1;34m\"\"\" Verifying our result by doing reverse \"\"\"\u001b[0m\u001b[1;33m\u001b[0m\u001b[1;33m\u001b[0m\u001b[0m\n\u001b[0;32m      2\u001b[0m \u001b[1;34m\"\"\" CLG vs HS \"\"\"\u001b[0m\u001b[1;33m\u001b[0m\u001b[1;33m\u001b[0m\u001b[0m\n\u001b[1;32m----> 3\u001b[1;33m \u001b[0mtrain\u001b[0m \u001b[1;33m=\u001b[0m \u001b[0mTFIDF_CLG\u001b[0m\u001b[1;33m\u001b[0m\u001b[1;33m\u001b[0m\u001b[0m\n\u001b[0m\u001b[0;32m      4\u001b[0m \u001b[0mtest\u001b[0m \u001b[1;33m=\u001b[0m \u001b[0mTFIDF_HS\u001b[0m\u001b[1;33m\u001b[0m\u001b[1;33m\u001b[0m\u001b[0m\n\u001b[0;32m      5\u001b[0m \u001b[0ml1\u001b[0m \u001b[1;33m=\u001b[0m \u001b[0mlen\u001b[0m\u001b[1;33m(\u001b[0m\u001b[0mtest\u001b[0m\u001b[1;33m[\u001b[0m\u001b[1;36m0\u001b[0m\u001b[1;33m]\u001b[0m\u001b[1;33m)\u001b[0m\u001b[1;33m\u001b[0m\u001b[1;33m\u001b[0m\u001b[0m\n",
      "\u001b[1;31mNameError\u001b[0m: name 'TFIDF_CLG' is not defined"
     ]
    }
   ],
   "source": [
    "\"\"\" Verifying our result by doing reverse \"\"\"\n",
    "\"\"\" CLG vs HS \"\"\"\n",
    "train = TFIDF_CLG\n",
    "test = TFIDF_HS\n",
    "l1 = len(test[0])\n",
    "l2 = len(train[0])\n",
    "l = min(l1,l2)\n",
    "\n",
    "similarity = []\n",
    "for i in range(0,5):\n",
    "    print('Test IDF Vector is :'+str(test[i]) )\n",
    "    testmag = magnitude(test[i])\n",
    "    cosines = []\n",
    "    for j in range (0,5):\n",
    "        trainmag = magnitude(train[j])\n",
    "        s=0\n",
    "        for k in range(0,l):\n",
    "           s+=(test[i][k]*train[j][k])\n",
    "           \n",
    "        cosine = s/(trainmag*testmag)\n",
    "        cosines.append(cosine)\n",
    "        print('Cosine similarity of High_School_Chat{} with College_Chat_{} is '.format(i+1,j+1)+str(cosine))\n",
    "    similarity.append(cosines)\n",
    "    \n",
    "\n",
    "\n",
    "\n",
    "maxval = 0\n",
    "hs=0\n",
    "clg=0\n",
    "    \n",
    "for i in range (0,5):\n",
    "    row = similarity[i]\n",
    "    print('High School Chat {} :'.format(i+1))\n",
    "    for j in range (0,5):\n",
    "        print(row[j],end=' ')\n",
    "        if row[j]>maxval:\n",
    "            maxval = row[j]\n",
    "            hs = i\n",
    "            clg = j\n",
    "    print()\n",
    "    \n",
    "\n",
    "print('The High School Chat Document - {} is closest to the College Chat Document- {} with a cosine similarity of {}'.\n",
    "      format(hs+1,clg+1,maxval))"
   ]
  },
  {
   "cell_type": "code",
   "execution_count": 49,
   "metadata": {},
   "outputs": [
    {
     "ename": "NameError",
     "evalue": "name 'TFIDF_HS' is not defined",
     "output_type": "error",
     "traceback": [
      "\u001b[1;31m---------------------------------------------------------------------------\u001b[0m",
      "\u001b[1;31mNameError\u001b[0m                                 Traceback (most recent call last)",
      "\u001b[1;32m<ipython-input-49-d6af8f374331>\u001b[0m in \u001b[0;36m<module>\u001b[1;34m\u001b[0m\n\u001b[0;32m      2\u001b[0m \u001b[1;34m\"\"\" HS Vs CLG \"\"\"\u001b[0m\u001b[1;33m\u001b[0m\u001b[1;33m\u001b[0m\u001b[0m\n\u001b[0;32m      3\u001b[0m \u001b[1;33m\u001b[0m\u001b[0m\n\u001b[1;32m----> 4\u001b[1;33m \u001b[0mtrain\u001b[0m \u001b[1;33m=\u001b[0m \u001b[0mTFIDF_HS\u001b[0m\u001b[1;33m\u001b[0m\u001b[1;33m\u001b[0m\u001b[0m\n\u001b[0m\u001b[0;32m      5\u001b[0m \u001b[0mtest\u001b[0m \u001b[1;33m=\u001b[0m \u001b[0mTFIDF_CLG\u001b[0m\u001b[1;33m\u001b[0m\u001b[1;33m\u001b[0m\u001b[0m\n\u001b[0;32m      6\u001b[0m \u001b[0ml1\u001b[0m \u001b[1;33m=\u001b[0m \u001b[0mlen\u001b[0m\u001b[1;33m(\u001b[0m\u001b[0mtest\u001b[0m\u001b[1;33m[\u001b[0m\u001b[1;36m0\u001b[0m\u001b[1;33m]\u001b[0m\u001b[1;33m)\u001b[0m\u001b[1;33m\u001b[0m\u001b[1;33m\u001b[0m\u001b[0m\n",
      "\u001b[1;31mNameError\u001b[0m: name 'TFIDF_HS' is not defined"
     ]
    }
   ],
   "source": [
    "\"\"\" Manhattan Distance \"\"\"\n",
    "\"\"\" HS Vs CLG \"\"\"\n",
    "\n",
    "train = TFIDF_HS\n",
    "test = TFIDF_CLG\n",
    "l1 = len(test[0])\n",
    "l2 = len(train[0])\n",
    "l = min(l1,l2)\n",
    "\n",
    "# finding the manhattan distance\n",
    "manhattan = []\n",
    "for i in range(0,5):\n",
    "    print('Test IDF Vector is :'+str(test[i]) )\n",
    "    distance = []\n",
    "    for j in range (0,5):\n",
    "        s=0\n",
    "        # difference till common length\n",
    "        for k in range(0,l):\n",
    "           s+=(abs(test[i][k]-train[j][k]))\n",
    "        # the remaining elements\n",
    "        if(l1>l2):\n",
    "            for k in range(l,l2):\n",
    "                s+=test[i][k]\n",
    "        elif(l2>l1):\n",
    "             for k in range(l,l1):\n",
    "                s+=train[j][k]\n",
    "            \n",
    "                   \n",
    "        distance.append(s)\n",
    "            \n",
    "        print('Manhattan Distance of College_Chat_{} with High_School_Chat_{} is '.format(i+1,j+1)+str(s))\n",
    "        \n",
    "    manhattan.append(distance)"
   ]
  },
  {
   "cell_type": "code",
   "execution_count": 50,
   "metadata": {},
   "outputs": [
    {
     "ename": "NameError",
     "evalue": "name 'manhattan' is not defined",
     "output_type": "error",
     "traceback": [
      "\u001b[1;31m---------------------------------------------------------------------------\u001b[0m",
      "\u001b[1;31mNameError\u001b[0m                                 Traceback (most recent call last)",
      "\u001b[1;32m<ipython-input-50-0916040e5fac>\u001b[0m in \u001b[0;36m<module>\u001b[1;34m\u001b[0m\n\u001b[0;32m      1\u001b[0m \u001b[1;31m# saving the manhattan matrix\u001b[0m\u001b[1;33m\u001b[0m\u001b[1;33m\u001b[0m\u001b[1;33m\u001b[0m\u001b[0m\n\u001b[1;32m----> 2\u001b[1;33m \u001b[0msaveMetric\u001b[0m\u001b[1;33m(\u001b[0m\u001b[0mmanhattan\u001b[0m\u001b[1;33m,\u001b[0m \u001b[1;34m'Manhattan_Distance_Unigram_Matrix.txt'\u001b[0m \u001b[1;33m,\u001b[0m\u001b[1;34m'Collge Chat '\u001b[0m\u001b[1;33m,\u001b[0m\u001b[1;34m'High School Chat '\u001b[0m\u001b[1;33m)\u001b[0m\u001b[1;33m\u001b[0m\u001b[1;33m\u001b[0m\u001b[0m\n\u001b[0m\u001b[0;32m      3\u001b[0m \u001b[1;31m# plotting manhattan distance\u001b[0m\u001b[1;33m\u001b[0m\u001b[1;33m\u001b[0m\u001b[1;33m\u001b[0m\u001b[0m\n\u001b[0;32m      4\u001b[0m \u001b[0mplot\u001b[0m\u001b[1;33m(\u001b[0m\u001b[1;33m[\u001b[0m\u001b[1;36m1\u001b[0m\u001b[1;33m,\u001b[0m\u001b[1;36m2\u001b[0m\u001b[1;33m,\u001b[0m\u001b[1;36m3\u001b[0m\u001b[1;33m,\u001b[0m\u001b[1;36m4\u001b[0m\u001b[1;33m,\u001b[0m\u001b[1;36m5\u001b[0m\u001b[1;33m]\u001b[0m\u001b[1;33m,\u001b[0m\u001b[0mmanhattan\u001b[0m\u001b[1;33m[\u001b[0m\u001b[1;36m0\u001b[0m\u001b[1;33m]\u001b[0m\u001b[1;33m,\u001b[0m\u001b[1;34m'High School Chats'\u001b[0m\u001b[1;33m,\u001b[0m\u001b[1;34m'Unigram Manhattan Distance from College Chat Document 1'\u001b[0m\u001b[1;33m,\u001b[0m\u001b[1;32mFalse\u001b[0m\u001b[1;33m,\u001b[0m\u001b[1;34m'red'\u001b[0m\u001b[1;33m,\u001b[0m\u001b[1;36m0.5\u001b[0m\u001b[1;33m)\u001b[0m\u001b[1;33m\u001b[0m\u001b[1;33m\u001b[0m\u001b[0m\n\u001b[0;32m      5\u001b[0m \u001b[0mplot\u001b[0m\u001b[1;33m(\u001b[0m\u001b[1;33m[\u001b[0m\u001b[1;36m1\u001b[0m\u001b[1;33m,\u001b[0m\u001b[1;36m2\u001b[0m\u001b[1;33m,\u001b[0m\u001b[1;36m3\u001b[0m\u001b[1;33m,\u001b[0m\u001b[1;36m4\u001b[0m\u001b[1;33m,\u001b[0m\u001b[1;36m5\u001b[0m\u001b[1;33m]\u001b[0m\u001b[1;33m,\u001b[0m\u001b[0mmanhattan\u001b[0m\u001b[1;33m[\u001b[0m\u001b[1;36m1\u001b[0m\u001b[1;33m]\u001b[0m\u001b[1;33m,\u001b[0m\u001b[1;34m'High School Chats'\u001b[0m\u001b[1;33m,\u001b[0m\u001b[1;34m'Unigram Manhattan Distance from College Chat Document 2'\u001b[0m\u001b[1;33m,\u001b[0m\u001b[1;32mFalse\u001b[0m\u001b[1;33m,\u001b[0m\u001b[1;34m'red'\u001b[0m\u001b[1;33m,\u001b[0m\u001b[1;36m0.5\u001b[0m\u001b[1;33m)\u001b[0m\u001b[1;33m\u001b[0m\u001b[1;33m\u001b[0m\u001b[0m\n",
      "\u001b[1;31mNameError\u001b[0m: name 'manhattan' is not defined"
     ]
    }
   ],
   "source": [
    "# saving the manhattan matrix\n",
    "saveMetric(manhattan, 'Manhattan_Distance_Unigram_Matrix.txt' ,'Collge Chat ','High School Chat ')\n",
    "# plotting manhattan distance\n",
    "plot([1,2,3,4,5],manhattan[0],'High School Chats','Unigram Manhattan Distance from College Chat Document 1',False,'red',0.5)\n",
    "plot([1,2,3,4,5],manhattan[1],'High School Chats','Unigram Manhattan Distance from College Chat Document 2',False,'red',0.5)\n",
    "plot([1,2,3,4,5],manhattan[2],'High School Chats','Unigram Manhattan Distance from College Chat Document 3',False,'red',0.5)\n",
    "plot([1,2,3,4,5],manhattan[3],'High School Chats','Unigram Manhattan Distance from College Chat Document 4',False,'red',0.5)\n",
    "plot([1,2,3,4,5],manhattan[4],'High School Chats','Unigram Manhattan Distance from College Chat Document 5',False,'red',0.5)"
   ]
  },
  {
   "cell_type": "code",
   "execution_count": 51,
   "metadata": {},
   "outputs": [
    {
     "ename": "NameError",
     "evalue": "name 'manhattan' is not defined",
     "output_type": "error",
     "traceback": [
      "\u001b[1;31m---------------------------------------------------------------------------\u001b[0m",
      "\u001b[1;31mNameError\u001b[0m                                 Traceback (most recent call last)",
      "\u001b[1;32m<ipython-input-51-c448c3ef79bc>\u001b[0m in \u001b[0;36m<module>\u001b[1;34m\u001b[0m\n\u001b[0;32m      3\u001b[0m \u001b[0mclg\u001b[0m\u001b[1;33m=\u001b[0m\u001b[1;36m0\u001b[0m\u001b[1;33m\u001b[0m\u001b[1;33m\u001b[0m\u001b[0m\n\u001b[0;32m      4\u001b[0m \u001b[1;32mfor\u001b[0m \u001b[0mi\u001b[0m \u001b[1;32min\u001b[0m \u001b[0mrange\u001b[0m \u001b[1;33m(\u001b[0m\u001b[1;36m0\u001b[0m\u001b[1;33m,\u001b[0m\u001b[1;36m5\u001b[0m\u001b[1;33m)\u001b[0m\u001b[1;33m:\u001b[0m\u001b[1;33m\u001b[0m\u001b[1;33m\u001b[0m\u001b[0m\n\u001b[1;32m----> 5\u001b[1;33m     \u001b[0mrow\u001b[0m \u001b[1;33m=\u001b[0m \u001b[0mmanhattan\u001b[0m\u001b[1;33m[\u001b[0m\u001b[0mi\u001b[0m\u001b[1;33m]\u001b[0m\u001b[1;33m\u001b[0m\u001b[1;33m\u001b[0m\u001b[0m\n\u001b[0m\u001b[0;32m      6\u001b[0m     \u001b[0mprint\u001b[0m\u001b[1;33m(\u001b[0m\u001b[1;34m'College Chat {} :'\u001b[0m\u001b[1;33m.\u001b[0m\u001b[0mformat\u001b[0m\u001b[1;33m(\u001b[0m\u001b[0mi\u001b[0m\u001b[1;33m+\u001b[0m\u001b[1;36m1\u001b[0m\u001b[1;33m)\u001b[0m\u001b[1;33m)\u001b[0m\u001b[1;33m\u001b[0m\u001b[1;33m\u001b[0m\u001b[0m\n\u001b[0;32m      7\u001b[0m     \u001b[1;32mfor\u001b[0m \u001b[0mj\u001b[0m \u001b[1;32min\u001b[0m \u001b[0mrange\u001b[0m \u001b[1;33m(\u001b[0m\u001b[1;36m0\u001b[0m\u001b[1;33m,\u001b[0m\u001b[1;36m5\u001b[0m\u001b[1;33m)\u001b[0m\u001b[1;33m:\u001b[0m\u001b[1;33m\u001b[0m\u001b[1;33m\u001b[0m\u001b[0m\n",
      "\u001b[1;31mNameError\u001b[0m: name 'manhattan' is not defined"
     ]
    }
   ],
   "source": [
    "maxval = 0\n",
    "hs=0\n",
    "clg=0\n",
    "for i in range (0,5):\n",
    "    row = manhattan[i]\n",
    "    print('College Chat {} :'.format(i+1))\n",
    "    for j in range (0,5):\n",
    "        print(row[j],end=' ')\n",
    "        if row[j]>maxval:\n",
    "            maxval = row[j]\n",
    "            hs = j\n",
    "            clg = i\n",
    "    print()\n",
    "\n",
    "f = open('Manhattan_Distance_Unigram_Matrix.txt','a')\n",
    "f.write('\\n\\n')\n",
    "print('The College Chat Document - {} is farthest to the High School Chat Document - {} with a manhattan distance of {}'.\n",
    "      format(clg+1,hs+1,maxval),file=f)\n",
    "f.close()"
   ]
  },
  {
   "cell_type": "code",
   "execution_count": 52,
   "metadata": {},
   "outputs": [
    {
     "ename": "NameError",
     "evalue": "name 'TFIDF_CLG' is not defined",
     "output_type": "error",
     "traceback": [
      "\u001b[1;31m---------------------------------------------------------------------------\u001b[0m",
      "\u001b[1;31mNameError\u001b[0m                                 Traceback (most recent call last)",
      "\u001b[1;32m<ipython-input-52-7a71ec0867fe>\u001b[0m in \u001b[0;36m<module>\u001b[1;34m\u001b[0m\n\u001b[0;32m      2\u001b[0m \u001b[1;34m\"\"\" CLG Vs Hs \"\"\"\u001b[0m\u001b[1;33m\u001b[0m\u001b[1;33m\u001b[0m\u001b[0m\n\u001b[0;32m      3\u001b[0m \u001b[1;33m\u001b[0m\u001b[0m\n\u001b[1;32m----> 4\u001b[1;33m \u001b[0mtrain\u001b[0m \u001b[1;33m=\u001b[0m \u001b[0mTFIDF_CLG\u001b[0m\u001b[1;33m\u001b[0m\u001b[1;33m\u001b[0m\u001b[0m\n\u001b[0m\u001b[0;32m      5\u001b[0m \u001b[0mtest\u001b[0m \u001b[1;33m=\u001b[0m \u001b[0mTFIDF_HS\u001b[0m\u001b[1;33m\u001b[0m\u001b[1;33m\u001b[0m\u001b[0m\n\u001b[0;32m      6\u001b[0m \u001b[0ml1\u001b[0m \u001b[1;33m=\u001b[0m \u001b[0mlen\u001b[0m\u001b[1;33m(\u001b[0m\u001b[0mtest\u001b[0m\u001b[1;33m[\u001b[0m\u001b[1;36m0\u001b[0m\u001b[1;33m]\u001b[0m\u001b[1;33m)\u001b[0m\u001b[1;33m\u001b[0m\u001b[1;33m\u001b[0m\u001b[0m\n",
      "\u001b[1;31mNameError\u001b[0m: name 'TFIDF_CLG' is not defined"
     ]
    }
   ],
   "source": [
    "\"\"\" Verifying the Result \"\"\"\n",
    "\"\"\" CLG Vs Hs \"\"\"\n",
    "\n",
    "train = TFIDF_CLG\n",
    "test = TFIDF_HS\n",
    "l1 = len(test[0])\n",
    "l2 = len(train[0])\n",
    "l = min(l1,l2)\n",
    "\n",
    "manhattan = []\n",
    "for i in range(0,5):\n",
    "    print('Test IDF Vector is :'+str(test[i]) )\n",
    "    distance = []\n",
    "    for j in range (0,5):\n",
    "        s=0\n",
    "        # difference till common length\n",
    "        for k in range(0,l):\n",
    "           s+=(abs(test[i][k]-train[j][k]))\n",
    "        # the remaining elements\n",
    "        if(l1>l2):\n",
    "            for k in range(l,l2):\n",
    "                s+=test[i][k]\n",
    "        elif(l2>l1):\n",
    "             for k in range(l,l1):\n",
    "                s+=train[j][k]\n",
    "            \n",
    "                   \n",
    "        distance.append(s)\n",
    "            \n",
    "        print('Manhattan Distance of High_School_Chat_{} with College_Chat_{} is '.format(i+1,j+1)+str(s))\n",
    "        \n",
    "    manhattan.append(distance)\n",
    "    \n",
    "    \n",
    "maxval = 0\n",
    "hs=0\n",
    "clg=0\n",
    "for i in range (0,5):\n",
    "    row = manhattan[i]\n",
    "    print('High School Chat {} :'.format(i+1))\n",
    "    for j in range (0,5):\n",
    "        print(row[j],end=' ')\n",
    "        if row[j]>maxval:\n",
    "            maxval = row[j]\n",
    "            hs = i\n",
    "            clg = j\n",
    "    print()\n",
    "\n",
    "print('The High School Chat Document - {} is farthest to the College Chat Document - {} with a manhattan distance of {}'.\n",
    "      format(hs+1,clg+1,maxval))"
   ]
  },
  {
   "cell_type": "code",
   "execution_count": 53,
   "metadata": {},
   "outputs": [],
   "source": [
    "## Bigrams"
   ]
  },
  {
   "cell_type": "code",
   "execution_count": 54,
   "metadata": {},
   "outputs": [
    {
     "ename": "FileNotFoundError",
     "evalue": "[Errno 2] No such file or directory: 'high_school_chat_1.txt'",
     "output_type": "error",
     "traceback": [
      "\u001b[1;31m---------------------------------------------------------------------------\u001b[0m",
      "\u001b[1;31mFileNotFoundError\u001b[0m                         Traceback (most recent call last)",
      "\u001b[1;32m<ipython-input-54-ce9b996bd4ad>\u001b[0m in \u001b[0;36m<module>\u001b[1;34m\u001b[0m\n\u001b[0;32m      1\u001b[0m \u001b[1;34m\"\"\" Pre-processing high school messages \"\"\"\u001b[0m\u001b[1;33m\u001b[0m\u001b[1;33m\u001b[0m\u001b[0m\n\u001b[0;32m      2\u001b[0m \u001b[1;33m\u001b[0m\u001b[0m\n\u001b[1;32m----> 3\u001b[1;33m \u001b[0mhsdf1\u001b[0m \u001b[1;33m=\u001b[0m \u001b[0mimport_data\u001b[0m\u001b[1;33m(\u001b[0m\u001b[1;34m'high_school_chat_1.txt'\u001b[0m\u001b[1;33m)\u001b[0m\u001b[1;33m\u001b[0m\u001b[1;33m\u001b[0m\u001b[0m\n\u001b[0m\u001b[0;32m      4\u001b[0m \u001b[0mhsdf1\u001b[0m \u001b[1;33m=\u001b[0m \u001b[0mpreprocess_data_ngram\u001b[0m\u001b[1;33m(\u001b[0m\u001b[0mhsdf1\u001b[0m\u001b[1;33m)\u001b[0m\u001b[1;33m\u001b[0m\u001b[1;33m\u001b[0m\u001b[0m\n\u001b[0;32m      5\u001b[0m \u001b[1;33m\u001b[0m\u001b[0m\n",
      "\u001b[1;32m<ipython-input-3-c13e74809a13>\u001b[0m in \u001b[0;36mimport_data\u001b[1;34m(file, path)\u001b[0m\n\u001b[0;32m      3\u001b[0m     \u001b[1;34m\"\"\" Import whatsapp data and transform it to a dataframe \"\"\"\u001b[0m\u001b[1;33m\u001b[0m\u001b[1;33m\u001b[0m\u001b[0m\n\u001b[0;32m      4\u001b[0m \u001b[1;33m\u001b[0m\u001b[0m\n\u001b[1;32m----> 5\u001b[1;33m     \u001b[1;32mwith\u001b[0m \u001b[0mopen\u001b[0m\u001b[1;33m(\u001b[0m\u001b[0mpath\u001b[0m \u001b[1;33m+\u001b[0m \u001b[0mfile\u001b[0m\u001b[1;33m,\u001b[0m \u001b[0mencoding\u001b[0m \u001b[1;33m=\u001b[0m \u001b[1;34m'utf-8'\u001b[0m\u001b[1;33m)\u001b[0m \u001b[1;32mas\u001b[0m \u001b[0moutfile\u001b[0m\u001b[1;33m:\u001b[0m\u001b[1;33m\u001b[0m\u001b[1;33m\u001b[0m\u001b[0m\n\u001b[0m\u001b[0;32m      6\u001b[0m         \u001b[0mraw_text\u001b[0m \u001b[1;33m=\u001b[0m \u001b[0moutfile\u001b[0m\u001b[1;33m.\u001b[0m\u001b[0mreadlines\u001b[0m\u001b[1;33m(\u001b[0m\u001b[1;33m)\u001b[0m\u001b[1;33m\u001b[0m\u001b[1;33m\u001b[0m\u001b[0m\n\u001b[0;32m      7\u001b[0m         \u001b[0mmessages\u001b[0m \u001b[1;33m=\u001b[0m \u001b[1;33m{\u001b[0m\u001b[1;33m}\u001b[0m\u001b[1;33m\u001b[0m\u001b[1;33m\u001b[0m\u001b[0m\n",
      "\u001b[1;31mFileNotFoundError\u001b[0m: [Errno 2] No such file or directory: 'high_school_chat_1.txt'"
     ]
    }
   ],
   "source": [
    "\n",
    "\"\"\" Pre-processing high school messages \"\"\"\n",
    "\n",
    "hsdf1 = import_data('high_school_chat_1.txt')\n",
    "hsdf1 = preprocess_data_ngram(hsdf1)\n",
    "\n",
    "hsdf2 = import_data('high_school_chat_2.txt')\n",
    "hsdf2 = preprocess_data_ngram(hsdf2)\n",
    "\n",
    "hsdf3 = import_data('high_school_chat_3.txt')\n",
    "hsdf3 = preprocess_data_ngram(hsdf3)\n",
    "\n",
    "hsdf4 = import_data('high_school_chat_4.txt')\n",
    "hsdf4 = preprocess_data_ngram(hsdf4)\n",
    "\n",
    "hsdf5 = import_data('high_school_chat_5.txt')\n",
    "hsdf5 = preprocess_data_ngram(hsdf5)"
   ]
  },
  {
   "cell_type": "code",
   "execution_count": 55,
   "metadata": {},
   "outputs": [
    {
     "ename": "FileNotFoundError",
     "evalue": "[Errno 2] No such file or directory: 'college_chat_1.txt'",
     "output_type": "error",
     "traceback": [
      "\u001b[1;31m---------------------------------------------------------------------------\u001b[0m",
      "\u001b[1;31mFileNotFoundError\u001b[0m                         Traceback (most recent call last)",
      "\u001b[1;32m<ipython-input-55-a5356edd454b>\u001b[0m in \u001b[0;36m<module>\u001b[1;34m\u001b[0m\n\u001b[0;32m      1\u001b[0m \u001b[1;34m\"\"\" Pre-processing college messages \"\"\"\u001b[0m\u001b[1;33m\u001b[0m\u001b[1;33m\u001b[0m\u001b[0m\n\u001b[0;32m      2\u001b[0m \u001b[1;33m\u001b[0m\u001b[0m\n\u001b[1;32m----> 3\u001b[1;33m \u001b[0mclgdf1\u001b[0m \u001b[1;33m=\u001b[0m \u001b[0mimport_data\u001b[0m\u001b[1;33m(\u001b[0m\u001b[1;34m'college_chat_1.txt'\u001b[0m\u001b[1;33m)\u001b[0m\u001b[1;33m\u001b[0m\u001b[1;33m\u001b[0m\u001b[0m\n\u001b[0m\u001b[0;32m      4\u001b[0m \u001b[0mclgdf1\u001b[0m \u001b[1;33m=\u001b[0m \u001b[0mpreprocess_data_ngram\u001b[0m\u001b[1;33m(\u001b[0m\u001b[0mclgdf1\u001b[0m\u001b[1;33m)\u001b[0m\u001b[1;33m\u001b[0m\u001b[1;33m\u001b[0m\u001b[0m\n\u001b[0;32m      5\u001b[0m \u001b[1;33m\u001b[0m\u001b[0m\n",
      "\u001b[1;32m<ipython-input-3-c13e74809a13>\u001b[0m in \u001b[0;36mimport_data\u001b[1;34m(file, path)\u001b[0m\n\u001b[0;32m      3\u001b[0m     \u001b[1;34m\"\"\" Import whatsapp data and transform it to a dataframe \"\"\"\u001b[0m\u001b[1;33m\u001b[0m\u001b[1;33m\u001b[0m\u001b[0m\n\u001b[0;32m      4\u001b[0m \u001b[1;33m\u001b[0m\u001b[0m\n\u001b[1;32m----> 5\u001b[1;33m     \u001b[1;32mwith\u001b[0m \u001b[0mopen\u001b[0m\u001b[1;33m(\u001b[0m\u001b[0mpath\u001b[0m \u001b[1;33m+\u001b[0m \u001b[0mfile\u001b[0m\u001b[1;33m,\u001b[0m \u001b[0mencoding\u001b[0m \u001b[1;33m=\u001b[0m \u001b[1;34m'utf-8'\u001b[0m\u001b[1;33m)\u001b[0m \u001b[1;32mas\u001b[0m \u001b[0moutfile\u001b[0m\u001b[1;33m:\u001b[0m\u001b[1;33m\u001b[0m\u001b[1;33m\u001b[0m\u001b[0m\n\u001b[0m\u001b[0;32m      6\u001b[0m         \u001b[0mraw_text\u001b[0m \u001b[1;33m=\u001b[0m \u001b[0moutfile\u001b[0m\u001b[1;33m.\u001b[0m\u001b[0mreadlines\u001b[0m\u001b[1;33m(\u001b[0m\u001b[1;33m)\u001b[0m\u001b[1;33m\u001b[0m\u001b[1;33m\u001b[0m\u001b[0m\n\u001b[0;32m      7\u001b[0m         \u001b[0mmessages\u001b[0m \u001b[1;33m=\u001b[0m \u001b[1;33m{\u001b[0m\u001b[1;33m}\u001b[0m\u001b[1;33m\u001b[0m\u001b[1;33m\u001b[0m\u001b[0m\n",
      "\u001b[1;31mFileNotFoundError\u001b[0m: [Errno 2] No such file or directory: 'college_chat_1.txt'"
     ]
    }
   ],
   "source": [
    "\"\"\" Pre-processing college messages \"\"\"\n",
    "\n",
    "clgdf1 = import_data('college_chat_1.txt')\n",
    "clgdf1 = preprocess_data_ngram(clgdf1)\n",
    "\n",
    "clgdf2 = import_data('college_chat_2.txt')\n",
    "clgdf2 = preprocess_data_ngram(clgdf2)\n",
    "\n",
    "clgdf3 = import_data('college_chat_3.txt')\n",
    "clgdf3 = preprocess_data_ngram(clgdf3)\n",
    "\n",
    "clgdf4 = import_data('college_chat_4.txt')\n",
    "clgdf4 = preprocess_data_ngram(clgdf4)\n",
    "\n",
    "clgdf5 = import_data('college_chat_5.txt')\n",
    "clgdf5 = preprocess_data_ngram(clgdf5)"
   ]
  },
  {
   "cell_type": "code",
   "execution_count": 56,
   "metadata": {},
   "outputs": [
    {
     "ename": "NameError",
     "evalue": "name 'hsdf1' is not defined",
     "output_type": "error",
     "traceback": [
      "\u001b[1;31m---------------------------------------------------------------------------\u001b[0m",
      "\u001b[1;31mNameError\u001b[0m                                 Traceback (most recent call last)",
      "\u001b[1;32m<ipython-input-56-795d09d30843>\u001b[0m in \u001b[0;36m<module>\u001b[1;34m\u001b[0m\n\u001b[1;32m----> 1\u001b[1;33m \u001b[0mbigramsHs1\u001b[0m \u001b[1;33m=\u001b[0m \u001b[0mprepare\u001b[0m\u001b[1;33m(\u001b[0m\u001b[0mhsdf1\u001b[0m\u001b[1;33m)\u001b[0m\u001b[1;33m\u001b[0m\u001b[1;33m\u001b[0m\u001b[0m\n\u001b[0m\u001b[0;32m      2\u001b[0m \u001b[0mbigramsHs2\u001b[0m \u001b[1;33m=\u001b[0m \u001b[0mprepare\u001b[0m\u001b[1;33m(\u001b[0m\u001b[0mhsdf2\u001b[0m\u001b[1;33m)\u001b[0m\u001b[1;33m\u001b[0m\u001b[1;33m\u001b[0m\u001b[0m\n\u001b[0;32m      3\u001b[0m \u001b[0mbigramsHs3\u001b[0m \u001b[1;33m=\u001b[0m \u001b[0mprepare\u001b[0m\u001b[1;33m(\u001b[0m\u001b[0mhsdf3\u001b[0m\u001b[1;33m)\u001b[0m\u001b[1;33m\u001b[0m\u001b[1;33m\u001b[0m\u001b[0m\n\u001b[0;32m      4\u001b[0m \u001b[0mbigramsHs4\u001b[0m \u001b[1;33m=\u001b[0m \u001b[0mprepare\u001b[0m\u001b[1;33m(\u001b[0m\u001b[0mhsdf4\u001b[0m\u001b[1;33m)\u001b[0m\u001b[1;33m\u001b[0m\u001b[1;33m\u001b[0m\u001b[0m\n\u001b[0;32m      5\u001b[0m \u001b[0mbigramsHs5\u001b[0m \u001b[1;33m=\u001b[0m \u001b[0mprepare\u001b[0m\u001b[1;33m(\u001b[0m\u001b[0mhsdf5\u001b[0m\u001b[1;33m)\u001b[0m\u001b[1;33m\u001b[0m\u001b[1;33m\u001b[0m\u001b[0m\n",
      "\u001b[1;31mNameError\u001b[0m: name 'hsdf1' is not defined"
     ]
    }
   ],
   "source": [
    "bigramsHs1 = prepare(hsdf1)\n",
    "bigramsHs2 = prepare(hsdf2)\n",
    "bigramsHs3 = prepare(hsdf3)\n",
    "bigramsHs4 = prepare(hsdf4)\n",
    "bigramsHs5 = prepare(hsdf5)\n",
    "\n",
    "bigramsHs1=countBigrams(bigramsHs1)\n",
    "bigramsHs2=countBigrams(bigramsHs2)\n",
    "bigramsHs3=countBigrams(bigramsHs3)\n",
    "bigramsHs4=countBigrams(bigramsHs4)\n",
    "bigramsHs5=countBigrams(bigramsHs5)\n",
    "topBHs1=[]\n",
    "topBHs2=[]\n",
    "topBHs3=[]\n",
    "topBHs4=[]\n",
    "topBHs5=[]\n",
    "\n",
    "\n",
    "for key in bigramsHs1.keys():\n",
    "    topBHs1.append((key,bigramsHs1[key]))    \n",
    "for key in bigramsHs2.keys():\n",
    "    topBHs2.append((key,bigramsHs2[key]))\n",
    "for key in bigramsHs3.keys():\n",
    "    topBHs3.append((key,bigramsHs3[key]))\n",
    "for key in bigramsHs4.keys():\n",
    "    topBHs4.append((key,bigramsHs4[key]))\n",
    "for key in bigramsHs5.keys():\n",
    "    topBHs5.append((key,bigramsHs5[key]))\n",
    "\n",
    "\n",
    "# finding top 10 keywords with preferance to larger length keywords in case of a tie\n",
    "\n",
    "topBHs1 = sorted(topBHs1,key=lambda x: (x[1], len(x[0])),reverse=True)    \n",
    "topBHs1= topBHs1[0:10]\n",
    "\n",
    "topBHs2 = sorted(topBHs2,key=lambda x: (x[1], len(x[0])),reverse=True)    \n",
    "topBHs2 = topBHs2[0:10]\n",
    "\n",
    "topBHs3 = sorted(topBHs3,key=lambda x: (x[1], len(x[0])),reverse=True)    \n",
    "topBHs3= topBHs3[0:10]\n",
    "\n",
    "topBHs4 = sorted(topBHs4,key=lambda x: (x[1], len(x[0])),reverse=True)    \n",
    "topBHs4 = topBHs4[0:10]\n",
    "\n",
    "topBHs5 = sorted(topBHs5,key=lambda x: (x[1], len(x[0])),reverse=True)    \n",
    "topBHs5 = topBHs5[0:10]"
   ]
  },
  {
   "cell_type": "code",
   "execution_count": 58,
   "metadata": {},
   "outputs": [
    {
     "name": "stdout",
     "output_type": "stream",
     "text": [
      "Top 10 Bigrams in High School Chat 1 with frequency: []\n",
      "Top 10 Bigrams in High School Chat 2 with frequency: []\n",
      "Top 10 Bigrams in High School Chat 3 with frequency: []\n",
      "Top 10 Bigrams in High School Chat 4 with frequency: []\n",
      "Top 10 Bigrams in High School Chat 5 with frequency: []\n"
     ]
    }
   ],
   "source": [
    "print('Top 10 Bigrams in High School Chat 1 with frequency: '+str(topBHs1))\n",
    "print('Top 10 Bigrams in High School Chat 2 with frequency: '+str(topBHs2))\n",
    "print('Top 10 Bigrams in High School Chat 3 with frequency: '+str(topBHs3))\n",
    "print('Top 10 Bigrams in High School Chat 4 with frequency: '+str(topBHs4))\n",
    "print('Top 10 Bigrams in High School Chat 5 with frequency: '+str(topBHs5))"
   ]
  },
  {
   "cell_type": "code",
   "execution_count": 59,
   "metadata": {},
   "outputs": [
    {
     "data": {
      "image/png": "[encoded data removed]",
      "text/plain": [
       "<Figure size 432x288 with 1 Axes>"
      ]
     },
     "metadata": {
      "needs_background": "light"
     },
     "output_type": "display_data"
    },
    {
     "data": {
      "image/png": "[encoded data removed]",
      "text/plain": [
       "<Figure size 432x288 with 1 Axes>"
      ]
     },
     "metadata": {
      "needs_background": "light"
     },
     "output_type": "display_data"
    },
    {
     "data": {
      "image/png": "[encoded data removed]",
      "text/plain": [
       "<Figure size 432x288 with 1 Axes>"
      ]
     },
     "metadata": {
      "needs_background": "light"
     },
     "output_type": "display_data"
    },
    {
     "data": {
      "image/png": "[encoded data removed]",
      "text/plain": [
       "<Figure size 432x288 with 1 Axes>"
      ]
     },
     "metadata": {
      "needs_background": "light"
     },
     "output_type": "display_data"
    },
    {
     "data": {
      "image/png": "[encoded data removed]",
      "text/plain": [
       "<Figure size 432x288 with 1 Axes>"
      ]
     },
     "metadata": {
      "needs_background": "light"
     },
     "output_type": "display_data"
    }
   ],
   "source": [
    "plot([val[0] for val in topBHs1],[val[1] for val in topBHs1],'High School Chat 1 Bigrams','Frequency',True,color='red',width = 0.5)\n",
    "plot([val[0] for val in topBHs2],[val[1] for val in topBHs2],'High School Chat 2 Bigrams','Frequency',True,color='blue',width = 0.5)\n",
    "plot([val[0] for val in topBHs3],[val[1] for val in topBHs3],'High School Chat 3 Bigrams','Frequency',True,color='orange',width = 0.5)\n",
    "plot([val[0] for val in topBHs4],[val[1] for val in topBHs4],'High School Chat 4 Bigrams','Frequency',True,color='green',width = 0.5)\n",
    "plot([val[0] for val in topBHs5],[val[1] for val in topBHs5],'High School Chat 5 Bigrams','Frequency',True,color='purple',width = 0.5)"
   ]
  },
  {
   "cell_type": "code",
   "execution_count": 60,
   "metadata": {},
   "outputs": [
    {
     "ename": "NameError",
     "evalue": "name 'bigramsHs1' is not defined",
     "output_type": "error",
     "traceback": [
      "\u001b[1;31m---------------------------------------------------------------------------\u001b[0m",
      "\u001b[1;31mNameError\u001b[0m                                 Traceback (most recent call last)",
      "\u001b[1;32m<ipython-input-60-6f852e0ebb64>\u001b[0m in \u001b[0;36m<module>\u001b[1;34m\u001b[0m\n\u001b[0;32m      2\u001b[0m \u001b[0mbigramsHs\u001b[0m \u001b[1;33m=\u001b[0m \u001b[0massignIndex\u001b[0m\u001b[1;33m(\u001b[0m\u001b[0mtopBHs1\u001b[0m\u001b[1;33m,\u001b[0m \u001b[0mtopBHs2\u001b[0m\u001b[1;33m,\u001b[0m \u001b[0mtopBHs3\u001b[0m\u001b[1;33m,\u001b[0m \u001b[0mtopBHs4\u001b[0m\u001b[1;33m,\u001b[0m \u001b[0mtopBHs5\u001b[0m\u001b[1;33m)\u001b[0m\u001b[1;33m\u001b[0m\u001b[1;33m\u001b[0m\u001b[0m\n\u001b[0;32m      3\u001b[0m \u001b[1;31m# calculating IDF\u001b[0m\u001b[1;33m\u001b[0m\u001b[1;33m\u001b[0m\u001b[1;33m\u001b[0m\u001b[0m\n\u001b[1;32m----> 4\u001b[1;33m \u001b[0mIDF_HS_Bigram\u001b[0m \u001b[1;33m=\u001b[0m\u001b[0mcalcIDF\u001b[0m\u001b[1;33m(\u001b[0m\u001b[0mbigramsHs\u001b[0m\u001b[1;33m,\u001b[0m \u001b[0mbigramsHs1\u001b[0m\u001b[1;33m,\u001b[0m \u001b[0mbigramsHs2\u001b[0m\u001b[1;33m,\u001b[0m \u001b[0mbigramsHs3\u001b[0m\u001b[1;33m,\u001b[0m \u001b[0mbigramsHs4\u001b[0m\u001b[1;33m,\u001b[0m \u001b[0mbigramsHs5\u001b[0m\u001b[1;33m)\u001b[0m\u001b[1;33m\u001b[0m\u001b[1;33m\u001b[0m\u001b[0m\n\u001b[0m\u001b[0;32m      5\u001b[0m \u001b[1;33m\u001b[0m\u001b[0m\n\u001b[0;32m      6\u001b[0m \u001b[1;31m# one hot encoding\u001b[0m\u001b[1;33m\u001b[0m\u001b[1;33m\u001b[0m\u001b[1;33m\u001b[0m\u001b[0m\n",
      "\u001b[1;31mNameError\u001b[0m: name 'bigramsHs1' is not defined"
     ]
    }
   ],
   "source": [
    "# assigning an index to all keywords\n",
    "bigramsHs = assignIndex(topBHs1, topBHs2, topBHs3, topBHs4, topBHs5)\n",
    "# calculating IDF        \n",
    "IDF_HS_Bigram =calcIDF(bigramsHs, bigramsHs1, bigramsHs2, bigramsHs3, bigramsHs4, bigramsHs5)\n",
    "\n",
    "# one hot encoding\n",
    "OHE_HS_Bigram = ohe(bigramsHs,bigramsHs1,bigramsHs2,bigramsHs3,bigramsHs4,bigramsHs5)\n",
    "# term frequency\n",
    "TF_HS_Bigram = tf(bigramsHs,bigramsHs1,bigramsHs2,bigramsHs3,bigramsHs4,bigramsHs5)\n",
    "# term frequency, inverse dense frequency\n",
    "TFIDF_HS_Bigram = tfidf(bigramsHs,bigramsHs1,bigramsHs2,bigramsHs3,bigramsHs4,bigramsHs5,IDF_HS_Bigram)"
   ]
  },
  {
   "cell_type": "code",
   "execution_count": 61,
   "metadata": {},
   "outputs": [
    {
     "ename": "NameError",
     "evalue": "name 'OHE_HS_Bigram' is not defined",
     "output_type": "error",
     "traceback": [
      "\u001b[1;31m---------------------------------------------------------------------------\u001b[0m",
      "\u001b[1;31mNameError\u001b[0m                                 Traceback (most recent call last)",
      "\u001b[1;32m<ipython-input-61-f07939d97f50>\u001b[0m in \u001b[0;36m<module>\u001b[1;34m\u001b[0m\n\u001b[0;32m      2\u001b[0m \u001b[0msorted_keys_HS_bigram\u001b[0m\u001b[1;33m=\u001b[0m\u001b[0mlist\u001b[0m\u001b[1;33m(\u001b[0m\u001b[0mbigramsHs\u001b[0m\u001b[1;33m)\u001b[0m\u001b[1;33m\u001b[0m\u001b[1;33m\u001b[0m\u001b[0m\n\u001b[0;32m      3\u001b[0m \u001b[1;33m\u001b[0m\u001b[0m\n\u001b[1;32m----> 4\u001b[1;33m \u001b[0mstoreOHE\u001b[0m\u001b[1;33m(\u001b[0m\u001b[0mOHE_HS_Bigram\u001b[0m\u001b[1;33m,\u001b[0m\u001b[0mbigramsHs\u001b[0m\u001b[1;33m,\u001b[0m\u001b[1;34m'High_School_OHE_Bigram.txt'\u001b[0m\u001b[1;33m,\u001b[0m\u001b[0msorted_keys_HS_bigram\u001b[0m\u001b[1;33m)\u001b[0m\u001b[1;33m\u001b[0m\u001b[1;33m\u001b[0m\u001b[0m\n\u001b[0m\u001b[0;32m      5\u001b[0m \u001b[0mstoreTF\u001b[0m\u001b[1;33m(\u001b[0m\u001b[0mTF_HS_Bigram\u001b[0m\u001b[1;33m,\u001b[0m\u001b[0mbigramsHs\u001b[0m\u001b[1;33m,\u001b[0m\u001b[1;34m'High_School_TF_Bigram.txt'\u001b[0m\u001b[1;33m,\u001b[0m\u001b[0msorted_keys_HS_bigram\u001b[0m\u001b[1;33m)\u001b[0m\u001b[1;33m\u001b[0m\u001b[1;33m\u001b[0m\u001b[0m\n\u001b[0;32m      6\u001b[0m \u001b[0mstoreTFIDF\u001b[0m\u001b[1;33m(\u001b[0m\u001b[0mTFIDF_HS_Bigram\u001b[0m\u001b[1;33m,\u001b[0m\u001b[0mbigramsHs\u001b[0m\u001b[1;33m,\u001b[0m\u001b[1;34m'High_School_TFIDF_Bigram.txt'\u001b[0m\u001b[1;33m,\u001b[0m\u001b[0msorted_keys_HS_bigram\u001b[0m\u001b[1;33m)\u001b[0m\u001b[1;33m\u001b[0m\u001b[1;33m\u001b[0m\u001b[0m\n",
      "\u001b[1;31mNameError\u001b[0m: name 'OHE_HS_Bigram' is not defined"
     ]
    }
   ],
   "source": [
    "# making a list of keys sorted by index\n",
    "sorted_keys_HS_bigram=list(bigramsHs)\n",
    "\n",
    "storeOHE(OHE_HS_Bigram,bigramsHs,'High_School_OHE_Bigram.txt',sorted_keys_HS_bigram)\n",
    "storeTF(TF_HS_Bigram,bigramsHs,'High_School_TF_Bigram.txt',sorted_keys_HS_bigram)\n",
    "storeTFIDF(TFIDF_HS_Bigram,bigramsHs,'High_School_TFIDF_Bigram.txt',sorted_keys_HS_bigram)\n"
   ]
  },
  {
   "cell_type": "code",
   "execution_count": 62,
   "metadata": {},
   "outputs": [
    {
     "name": "stdout",
     "output_type": "stream",
     "text": [
      "\n",
      "OHE_HS Bigram Matrix\n"
     ]
    },
    {
     "ename": "NameError",
     "evalue": "name 'OHE_HS_Bigram' is not defined",
     "output_type": "error",
     "traceback": [
      "\u001b[1;31m---------------------------------------------------------------------------\u001b[0m",
      "\u001b[1;31mNameError\u001b[0m                                 Traceback (most recent call last)",
      "\u001b[1;32m<ipython-input-62-1f56cc1339ce>\u001b[0m in \u001b[0;36m<module>\u001b[1;34m\u001b[0m\n\u001b[0;32m      2\u001b[0m \u001b[1;33m\u001b[0m\u001b[0m\n\u001b[0;32m      3\u001b[0m \u001b[1;31m# printing all 3 matrices\u001b[0m\u001b[1;33m\u001b[0m\u001b[1;33m\u001b[0m\u001b[1;33m\u001b[0m\u001b[0m\n\u001b[1;32m----> 4\u001b[1;33m \u001b[1;32mfor\u001b[0m \u001b[0mrow\u001b[0m \u001b[1;32min\u001b[0m \u001b[0mOHE_HS_Bigram\u001b[0m\u001b[1;33m:\u001b[0m\u001b[1;33m\u001b[0m\u001b[1;33m\u001b[0m\u001b[0m\n\u001b[0m\u001b[0;32m      5\u001b[0m     \u001b[0mprint\u001b[0m\u001b[1;33m(\u001b[0m\u001b[0mrow\u001b[0m\u001b[1;33m)\u001b[0m\u001b[1;33m\u001b[0m\u001b[1;33m\u001b[0m\u001b[0m\n",
      "\u001b[1;31mNameError\u001b[0m: name 'OHE_HS_Bigram' is not defined"
     ]
    }
   ],
   "source": [
    "print('\\nOHE_HS Bigram Matrix')\n",
    "\n",
    "# printing all 3 matrices\n",
    "for row in OHE_HS_Bigram:\n",
    "    print(row)"
   ]
  },
  {
   "cell_type": "code",
   "execution_count": 63,
   "metadata": {},
   "outputs": [
    {
     "name": "stdout",
     "output_type": "stream",
     "text": [
      "\n",
      "TF_HS Bigram Matrix\n"
     ]
    },
    {
     "ename": "NameError",
     "evalue": "name 'TF_HS_Bigram' is not defined",
     "output_type": "error",
     "traceback": [
      "\u001b[1;31m---------------------------------------------------------------------------\u001b[0m",
      "\u001b[1;31mNameError\u001b[0m                                 Traceback (most recent call last)",
      "\u001b[1;32m<ipython-input-63-55384972fa25>\u001b[0m in \u001b[0;36m<module>\u001b[1;34m\u001b[0m\n\u001b[0;32m      1\u001b[0m \u001b[0mprint\u001b[0m\u001b[1;33m(\u001b[0m\u001b[1;34m'\\nTF_HS Bigram Matrix'\u001b[0m\u001b[1;33m)\u001b[0m\u001b[1;33m\u001b[0m\u001b[1;33m\u001b[0m\u001b[0m\n\u001b[0;32m      2\u001b[0m \u001b[1;33m\u001b[0m\u001b[0m\n\u001b[1;32m----> 3\u001b[1;33m \u001b[1;32mfor\u001b[0m \u001b[0mrow\u001b[0m \u001b[1;32min\u001b[0m \u001b[0mTF_HS_Bigram\u001b[0m\u001b[1;33m:\u001b[0m\u001b[1;33m\u001b[0m\u001b[1;33m\u001b[0m\u001b[0m\n\u001b[0m\u001b[0;32m      4\u001b[0m     \u001b[0mprint\u001b[0m\u001b[1;33m(\u001b[0m\u001b[0mrow\u001b[0m\u001b[1;33m)\u001b[0m\u001b[1;33m\u001b[0m\u001b[1;33m\u001b[0m\u001b[0m\n",
      "\u001b[1;31mNameError\u001b[0m: name 'TF_HS_Bigram' is not defined"
     ]
    }
   ],
   "source": [
    "print('\\nTF_HS Bigram Matrix')\n",
    "    \n",
    "for row in TF_HS_Bigram:\n",
    "    print(row)"
   ]
  },
  {
   "cell_type": "code",
   "execution_count": 64,
   "metadata": {},
   "outputs": [
    {
     "name": "stdout",
     "output_type": "stream",
     "text": [
      "\n",
      "TF-IDF_HS Bigram Matrix\n"
     ]
    },
    {
     "ename": "NameError",
     "evalue": "name 'TFIDF_HS_Bigram' is not defined",
     "output_type": "error",
     "traceback": [
      "\u001b[1;31m---------------------------------------------------------------------------\u001b[0m",
      "\u001b[1;31mNameError\u001b[0m                                 Traceback (most recent call last)",
      "\u001b[1;32m<ipython-input-64-bf85542e1cde>\u001b[0m in \u001b[0;36m<module>\u001b[1;34m\u001b[0m\n\u001b[0;32m      1\u001b[0m \u001b[0mprint\u001b[0m\u001b[1;33m(\u001b[0m\u001b[1;34m'\\nTF-IDF_HS Bigram Matrix'\u001b[0m\u001b[1;33m)\u001b[0m\u001b[1;33m\u001b[0m\u001b[1;33m\u001b[0m\u001b[0m\n\u001b[0;32m      2\u001b[0m \u001b[1;33m\u001b[0m\u001b[0m\n\u001b[1;32m----> 3\u001b[1;33m \u001b[1;32mfor\u001b[0m \u001b[0mrow\u001b[0m \u001b[1;32min\u001b[0m \u001b[0mTFIDF_HS_Bigram\u001b[0m\u001b[1;33m:\u001b[0m\u001b[1;33m\u001b[0m\u001b[1;33m\u001b[0m\u001b[0m\n\u001b[0m\u001b[0;32m      4\u001b[0m     \u001b[0mprint\u001b[0m\u001b[1;33m(\u001b[0m\u001b[1;34m'['\u001b[0m\u001b[1;33m,\u001b[0m\u001b[0mend\u001b[0m\u001b[1;33m=\u001b[0m\u001b[1;34m''\u001b[0m\u001b[1;33m)\u001b[0m\u001b[1;33m\u001b[0m\u001b[1;33m\u001b[0m\u001b[0m\n\u001b[0;32m      5\u001b[0m     \u001b[1;32mfor\u001b[0m \u001b[0mele\u001b[0m \u001b[1;32min\u001b[0m \u001b[0mrow\u001b[0m\u001b[1;33m:\u001b[0m\u001b[1;33m\u001b[0m\u001b[1;33m\u001b[0m\u001b[0m\n",
      "\u001b[1;31mNameError\u001b[0m: name 'TFIDF_HS_Bigram' is not defined"
     ]
    }
   ],
   "source": [
    "print('\\nTF-IDF_HS Bigram Matrix')\n",
    "\n",
    "for row in TFIDF_HS_Bigram:\n",
    "    print('[',end='')\n",
    "    for ele in row:\n",
    "        print(round(ele,3),end=', ')\n",
    "    print(']')\n",
    "    "
   ]
  },
  {
   "cell_type": "code",
   "execution_count": 65,
   "metadata": {},
   "outputs": [
    {
     "ename": "NameError",
     "evalue": "name 'clgdf1' is not defined",
     "output_type": "error",
     "traceback": [
      "\u001b[1;31m---------------------------------------------------------------------------\u001b[0m",
      "\u001b[1;31mNameError\u001b[0m                                 Traceback (most recent call last)",
      "\u001b[1;32m<ipython-input-65-e859a0a5ec4c>\u001b[0m in \u001b[0;36m<module>\u001b[1;34m\u001b[0m\n\u001b[0;32m      2\u001b[0m \u001b[1;33m\u001b[0m\u001b[0m\n\u001b[0;32m      3\u001b[0m \u001b[1;33m\u001b[0m\u001b[0m\n\u001b[1;32m----> 4\u001b[1;33m \u001b[0mbigramsClg1\u001b[0m \u001b[1;33m=\u001b[0m \u001b[0mprepare\u001b[0m\u001b[1;33m(\u001b[0m\u001b[0mclgdf1\u001b[0m\u001b[1;33m)\u001b[0m\u001b[1;33m\u001b[0m\u001b[1;33m\u001b[0m\u001b[0m\n\u001b[0m\u001b[0;32m      5\u001b[0m \u001b[0mbigramsClg2\u001b[0m \u001b[1;33m=\u001b[0m \u001b[0mprepare\u001b[0m\u001b[1;33m(\u001b[0m\u001b[0mclgdf2\u001b[0m\u001b[1;33m)\u001b[0m\u001b[1;33m\u001b[0m\u001b[1;33m\u001b[0m\u001b[0m\n\u001b[0;32m      6\u001b[0m \u001b[0mbigramsClg3\u001b[0m \u001b[1;33m=\u001b[0m \u001b[0mprepare\u001b[0m\u001b[1;33m(\u001b[0m\u001b[0mclgdf3\u001b[0m\u001b[1;33m)\u001b[0m\u001b[1;33m\u001b[0m\u001b[1;33m\u001b[0m\u001b[0m\n",
      "\u001b[1;31mNameError\u001b[0m: name 'clgdf1' is not defined"
     ]
    }
   ],
   "source": [
    "\"\"\" College \"\"\"\n",
    "\n",
    "bigramsClg1 = prepare(clgdf1)\n",
    "bigramsClg2 = prepare(clgdf2)\n",
    "bigramsClg3 = prepare(clgdf3)\n",
    "bigramsClg4 = prepare(clgdf4)\n",
    "bigramsClg5 = prepare(clgdf5)\n",
    "\n",
    "bigramsClg1=countBigrams(bigramsClg1)\n",
    "bigramsClg2=countBigrams(bigramsClg2)\n",
    "bigramsClg3=countBigrams(bigramsClg3)\n",
    "bigramsClg4=countBigrams(bigramsClg4)\n",
    "bigramsClg5=countBigrams(bigramsClg5)\n",
    "\n",
    "topBClg1=[]\n",
    "topBClg2=[]\n",
    "topBClg3=[]\n",
    "topBClg4=[]\n",
    "topBClg5=[]\n",
    "topBClg6=[]\n",
    "\n",
    "\n",
    "for key in bigramsClg1.keys():\n",
    "    topBClg1.append((key,bigramsClg1[key]))    \n",
    "for key in bigramsClg2.keys():\n",
    "    topBClg2.append((key,bigramsClg2[key]))\n",
    "for key in bigramsClg3.keys():\n",
    "    topBClg3.append((key,bigramsClg3[key]))\n",
    "for key in bigramsClg4.keys():\n",
    "    topBClg4.append((key,bigramsClg4[key]))\n",
    "for key in bigramsClg5.keys():\n",
    "    topBClg5.append((key,bigramsClg5[key]))\n",
    "\n",
    "\n",
    "# finding top 10 keywords with preferance to larger length keywords in case of a tie\n",
    "\n",
    "topBClg1 = sorted(topBClg1,key=lambda x: (x[1], len(x[0])),reverse=True)    \n",
    "topBClg1= topBClg1[0:10]\n",
    "\n",
    "topBClg2 = sorted(topBClg2,key=lambda x: (x[1], len(x[0])),reverse=True)    \n",
    "topBClg2 = topBClg2[0:10]\n",
    "\n",
    "topBClg3 = sorted(topBClg3,key=lambda x: (x[1], len(x[0])),reverse=True)    \n",
    "topBClg3= topBClg3[0:10]\n",
    "\n",
    "topBClg4 = sorted(topBClg4,key=lambda x: (x[1], len(x[0])),reverse=True)    \n",
    "topBClg4 = topBClg4[0:10]\n",
    "\n",
    "topBClg5 = sorted(topBClg5,key=lambda x: (x[1], len(x[0])),reverse=True)    \n",
    "topBClg5 = topBClg5[0:10]\n"
   ]
  },
  {
   "cell_type": "code",
   "execution_count": 67,
   "metadata": {},
   "outputs": [
    {
     "name": "stdout",
     "output_type": "stream",
     "text": [
      "Top 10 Bigrams in College Chat 1 with frequency: []\n",
      "Top 10 Bigrams in College Chat 2 with frequency: []\n",
      "Top 10 Bigrams in College Chat 3 with frequency: []\n",
      "Top 10 Bigrams in College Chat 4 with frequency: []\n",
      "Top 10 Bigrams in College Chat 5 with frequency: []\n"
     ]
    }
   ],
   "source": [
    "print('Top 10 Bigrams in College Chat 1 with frequency: '+str(topBClg1))\n",
    "print('Top 10 Bigrams in College Chat 2 with frequency: '+str(topBClg2))\n",
    "print('Top 10 Bigrams in College Chat 3 with frequency: '+str(topBClg3))\n",
    "print('Top 10 Bigrams in College Chat 4 with frequency: '+str(topBClg4))\n",
    "print('Top 10 Bigrams in College Chat 5 with frequency: '+str(topBClg5))\n"
   ]
  },
  {
   "cell_type": "code",
   "execution_count": 68,
   "metadata": {},
   "outputs": [
    {
     "data": {
      "image/png": "[encoded data removed]",
      "text/plain": [
       "<Figure size 432x288 with 1 Axes>"
      ]
     },
     "metadata": {
      "needs_background": "light"
     },
     "output_type": "display_data"
    },
    {
     "data": {
      "image/png": "[encoded data removed]",
      "text/plain": [
       "<Figure size 432x288 with 1 Axes>"
      ]
     },
     "metadata": {
      "needs_background": "light"
     },
     "output_type": "display_data"
    },
    {
     "data": {
      "image/png": "[encoded data removed]",
      "text/plain": [
       "<Figure size 432x288 with 1 Axes>"
      ]
     },
     "metadata": {
      "needs_background": "light"
     },
     "output_type": "display_data"
    },
    {
     "data": {
      "image/png": "[encoded data removed]",
      "text/plain": [
       "<Figure size 432x288 with 1 Axes>"
      ]
     },
     "metadata": {
      "needs_background": "light"
     },
     "output_type": "display_data"
    },
    {
     "data": {
      "image/png": "[encoded data removed]",
      "text/plain": [
       "<Figure size 432x288 with 1 Axes>"
      ]
     },
     "metadata": {
      "needs_background": "light"
     },
     "output_type": "display_data"
    }
   ],
   "source": [
    "plot([val[0] for val in topBClg1],[val[1] for val in topBClg1],'College Chat 1 Bigrams','Frequency',True,color='red',width = 0.5)\n",
    "plot([val[0] for val in topBClg2],[val[1] for val in topBClg2],'College Chat 2 Bigrams','Frequency',True,color='blue',width = 0.5)\n",
    "plot([val[0] for val in topBClg3],[val[1] for val in topBClg3],'College Chat 3 Bigrams','Frequency',True,color='orange',width = 0.5)\n",
    "plot([val[0] for val in topBClg4],[val[1] for val in topBClg4],'College Chat 4 Bigrams','Frequency',True,color='green',width = 0.5)\n",
    "plot([val[0] for val in topBClg5],[val[1] for val in topBClg5],'College Chat 5 Bigrams','Frequency',True,color='purple',width = 0.5)"
   ]
  },
  {
   "cell_type": "code",
   "execution_count": 69,
   "metadata": {},
   "outputs": [
    {
     "ename": "NameError",
     "evalue": "name 'bigramsClg1' is not defined",
     "output_type": "error",
     "traceback": [
      "\u001b[1;31m---------------------------------------------------------------------------\u001b[0m",
      "\u001b[1;31mNameError\u001b[0m                                 Traceback (most recent call last)",
      "\u001b[1;32m<ipython-input-69-ed1ce14e8c17>\u001b[0m in \u001b[0;36m<module>\u001b[1;34m\u001b[0m\n\u001b[0;32m      7\u001b[0m \u001b[1;31m# calculating IDF for each bigram\u001b[0m\u001b[1;33m\u001b[0m\u001b[1;33m\u001b[0m\u001b[1;33m\u001b[0m\u001b[0m\n\u001b[0;32m      8\u001b[0m \u001b[1;33m\u001b[0m\u001b[0m\n\u001b[1;32m----> 9\u001b[1;33m \u001b[0mIDF_CLG_Bigram\u001b[0m \u001b[1;33m=\u001b[0m \u001b[0mcalcIDF\u001b[0m\u001b[1;33m(\u001b[0m\u001b[0mbigramsClg\u001b[0m\u001b[1;33m,\u001b[0m\u001b[0mbigramsClg1\u001b[0m\u001b[1;33m,\u001b[0m\u001b[0mbigramsClg2\u001b[0m\u001b[1;33m,\u001b[0m\u001b[0mbigramsClg3\u001b[0m\u001b[1;33m,\u001b[0m\u001b[0mbigramsClg4\u001b[0m\u001b[1;33m,\u001b[0m\u001b[0mbigramsClg5\u001b[0m\u001b[1;33m)\u001b[0m\u001b[1;33m\u001b[0m\u001b[1;33m\u001b[0m\u001b[0m\n\u001b[0m\u001b[0;32m     10\u001b[0m \u001b[1;33m\u001b[0m\u001b[0m\n\u001b[0;32m     11\u001b[0m \u001b[1;31m# one hot encoding\u001b[0m\u001b[1;33m\u001b[0m\u001b[1;33m\u001b[0m\u001b[1;33m\u001b[0m\u001b[0m\n",
      "\u001b[1;31mNameError\u001b[0m: name 'bigramsClg1' is not defined"
     ]
    }
   ],
   "source": [
    "# assigning an index to all keywords\n",
    "\n",
    "bigramsClg = assignIndex(topBClg1,topBClg2,topBClg3,topBClg4,topBClg5)\n",
    "        \n",
    "\n",
    "        \n",
    "# calculating IDF for each bigram\n",
    "\n",
    "IDF_CLG_Bigram = calcIDF(bigramsClg,bigramsClg1,bigramsClg2,bigramsClg3,bigramsClg4,bigramsClg5)\n",
    "\n",
    "# one hot encoding\n",
    "OHE_CLG_Bigram = ohe(bigramsClg,bigramsClg1,bigramsClg2,bigramsClg3,bigramsClg4,bigramsClg5)\n",
    "# term frequency\n",
    "TF_CLG_Bigram = tf(bigramsClg,bigramsClg1,bigramsClg2,bigramsClg3,bigramsClg4,bigramsClg5)\n",
    "# term frequency, inverse dense frequency\n",
    "TFIDF_CLG_Bigram = tfidf(bigramsClg,bigramsClg1,bigramsClg2,bigramsClg3,bigramsClg4,bigramsClg5,IDF_CLG_Bigram)"
   ]
  },
  {
   "cell_type": "code",
   "execution_count": 70,
   "metadata": {},
   "outputs": [
    {
     "ename": "NameError",
     "evalue": "name 'OHE_CLG_Bigram' is not defined",
     "output_type": "error",
     "traceback": [
      "\u001b[1;31m---------------------------------------------------------------------------\u001b[0m",
      "\u001b[1;31mNameError\u001b[0m                                 Traceback (most recent call last)",
      "\u001b[1;32m<ipython-input-70-78c3f8472504>\u001b[0m in \u001b[0;36m<module>\u001b[1;34m\u001b[0m\n\u001b[0;32m      2\u001b[0m \u001b[0msorted_keys_CLG_bigram\u001b[0m\u001b[1;33m=\u001b[0m\u001b[0mlist\u001b[0m\u001b[1;33m(\u001b[0m\u001b[0mbigramsClg\u001b[0m\u001b[1;33m)\u001b[0m\u001b[1;33m\u001b[0m\u001b[1;33m\u001b[0m\u001b[0m\n\u001b[0;32m      3\u001b[0m \u001b[1;33m\u001b[0m\u001b[0m\n\u001b[1;32m----> 4\u001b[1;33m \u001b[0mstoreOHE\u001b[0m\u001b[1;33m(\u001b[0m\u001b[0mOHE_CLG_Bigram\u001b[0m\u001b[1;33m,\u001b[0m\u001b[0mbigramsClg\u001b[0m\u001b[1;33m,\u001b[0m\u001b[1;34m'College_OHE_Bigram.txt'\u001b[0m\u001b[1;33m,\u001b[0m\u001b[0msorted_keys_CLG_bigram\u001b[0m\u001b[1;33m)\u001b[0m\u001b[1;33m\u001b[0m\u001b[1;33m\u001b[0m\u001b[0m\n\u001b[0m\u001b[0;32m      5\u001b[0m \u001b[0mstoreTF\u001b[0m\u001b[1;33m(\u001b[0m\u001b[0mTF_CLG_Bigram\u001b[0m\u001b[1;33m,\u001b[0m\u001b[0mbigramsClg\u001b[0m\u001b[1;33m,\u001b[0m\u001b[1;34m'College_TF_Bigram.txt'\u001b[0m\u001b[1;33m,\u001b[0m\u001b[0msorted_keys_CLG_bigram\u001b[0m\u001b[1;33m)\u001b[0m\u001b[1;33m\u001b[0m\u001b[1;33m\u001b[0m\u001b[0m\n\u001b[0;32m      6\u001b[0m \u001b[0mstoreTFIDF\u001b[0m\u001b[1;33m(\u001b[0m\u001b[0mTFIDF_CLG_Bigram\u001b[0m\u001b[1;33m,\u001b[0m\u001b[0mbigramsClg\u001b[0m\u001b[1;33m,\u001b[0m\u001b[1;34m'College_TFIDF_Bigram.txt'\u001b[0m\u001b[1;33m,\u001b[0m\u001b[0msorted_keys_CLG_bigram\u001b[0m\u001b[1;33m)\u001b[0m\u001b[1;33m\u001b[0m\u001b[1;33m\u001b[0m\u001b[0m\n",
      "\u001b[1;31mNameError\u001b[0m: name 'OHE_CLG_Bigram' is not defined"
     ]
    }
   ],
   "source": [
    "# making a list of keys sorted by index\n",
    "sorted_keys_CLG_bigram=list(bigramsClg)\n",
    "\n",
    "storeOHE(OHE_CLG_Bigram,bigramsClg,'College_OHE_Bigram.txt',sorted_keys_CLG_bigram)\n",
    "storeTF(TF_CLG_Bigram,bigramsClg,'College_TF_Bigram.txt',sorted_keys_CLG_bigram)\n",
    "storeTFIDF(TFIDF_CLG_Bigram,bigramsClg,'College_TFIDF_Bigram.txt',sorted_keys_CLG_bigram)\n"
   ]
  },
  {
   "cell_type": "code",
   "execution_count": 71,
   "metadata": {},
   "outputs": [
    {
     "name": "stdout",
     "output_type": "stream",
     "text": [
      "\n",
      "OHE_CLG Bigram Matrix\n"
     ]
    },
    {
     "ename": "NameError",
     "evalue": "name 'OHE_CLG_Bigram' is not defined",
     "output_type": "error",
     "traceback": [
      "\u001b[1;31m---------------------------------------------------------------------------\u001b[0m",
      "\u001b[1;31mNameError\u001b[0m                                 Traceback (most recent call last)",
      "\u001b[1;32m<ipython-input-71-34e606247eb2>\u001b[0m in \u001b[0;36m<module>\u001b[1;34m\u001b[0m\n\u001b[0;32m      2\u001b[0m \u001b[1;33m\u001b[0m\u001b[0m\n\u001b[0;32m      3\u001b[0m \u001b[1;31m# printing all 3 matrices\u001b[0m\u001b[1;33m\u001b[0m\u001b[1;33m\u001b[0m\u001b[1;33m\u001b[0m\u001b[0m\n\u001b[1;32m----> 4\u001b[1;33m \u001b[1;32mfor\u001b[0m \u001b[0mrow\u001b[0m \u001b[1;32min\u001b[0m \u001b[0mOHE_CLG_Bigram\u001b[0m\u001b[1;33m:\u001b[0m\u001b[1;33m\u001b[0m\u001b[1;33m\u001b[0m\u001b[0m\n\u001b[0m\u001b[0;32m      5\u001b[0m     \u001b[0mprint\u001b[0m\u001b[1;33m(\u001b[0m\u001b[0mrow\u001b[0m\u001b[1;33m)\u001b[0m\u001b[1;33m\u001b[0m\u001b[1;33m\u001b[0m\u001b[0m\n\u001b[0;32m      6\u001b[0m \u001b[1;33m\u001b[0m\u001b[0m\n",
      "\u001b[1;31mNameError\u001b[0m: name 'OHE_CLG_Bigram' is not defined"
     ]
    }
   ],
   "source": [
    "print('\\nOHE_CLG Bigram Matrix')\n",
    "\n",
    "# printing all 3 matrices\n",
    "for row in OHE_CLG_Bigram:\n",
    "    print(row)\n",
    "    "
   ]
  },
  {
   "cell_type": "code",
   "execution_count": 72,
   "metadata": {},
   "outputs": [
    {
     "name": "stdout",
     "output_type": "stream",
     "text": [
      "\n",
      "TF_CLG Bigram Matrix\n"
     ]
    },
    {
     "ename": "NameError",
     "evalue": "name 'TF_CLG_Bigram' is not defined",
     "output_type": "error",
     "traceback": [
      "\u001b[1;31m---------------------------------------------------------------------------\u001b[0m",
      "\u001b[1;31mNameError\u001b[0m                                 Traceback (most recent call last)",
      "\u001b[1;32m<ipython-input-72-d9abf2c1f4b6>\u001b[0m in \u001b[0;36m<module>\u001b[1;34m\u001b[0m\n\u001b[0;32m      1\u001b[0m \u001b[0mprint\u001b[0m\u001b[1;33m(\u001b[0m\u001b[1;34m'\\nTF_CLG Bigram Matrix'\u001b[0m\u001b[1;33m)\u001b[0m\u001b[1;33m\u001b[0m\u001b[1;33m\u001b[0m\u001b[0m\n\u001b[0;32m      2\u001b[0m \u001b[1;33m\u001b[0m\u001b[0m\n\u001b[1;32m----> 3\u001b[1;33m \u001b[1;32mfor\u001b[0m \u001b[0mrow\u001b[0m \u001b[1;32min\u001b[0m \u001b[0mTF_CLG_Bigram\u001b[0m\u001b[1;33m:\u001b[0m\u001b[1;33m\u001b[0m\u001b[1;33m\u001b[0m\u001b[0m\n\u001b[0m\u001b[0;32m      4\u001b[0m     \u001b[0mprint\u001b[0m\u001b[1;33m(\u001b[0m\u001b[0mrow\u001b[0m\u001b[1;33m)\u001b[0m\u001b[1;33m\u001b[0m\u001b[1;33m\u001b[0m\u001b[0m\n",
      "\u001b[1;31mNameError\u001b[0m: name 'TF_CLG_Bigram' is not defined"
     ]
    }
   ],
   "source": [
    "print('\\nTF_CLG Bigram Matrix')\n",
    "    \n",
    "for row in TF_CLG_Bigram:\n",
    "    print(row)"
   ]
  },
  {
   "cell_type": "code",
   "execution_count": 73,
   "metadata": {},
   "outputs": [
    {
     "name": "stdout",
     "output_type": "stream",
     "text": [
      "\n",
      "TF-IDF_CLG Bigram Matrix\n"
     ]
    },
    {
     "ename": "NameError",
     "evalue": "name 'TFIDF_CLG_Bigram' is not defined",
     "output_type": "error",
     "traceback": [
      "\u001b[1;31m---------------------------------------------------------------------------\u001b[0m",
      "\u001b[1;31mNameError\u001b[0m                                 Traceback (most recent call last)",
      "\u001b[1;32m<ipython-input-73-1d1422457af4>\u001b[0m in \u001b[0;36m<module>\u001b[1;34m\u001b[0m\n\u001b[0;32m      1\u001b[0m \u001b[0mprint\u001b[0m\u001b[1;33m(\u001b[0m\u001b[1;34m'\\nTF-IDF_CLG Bigram Matrix'\u001b[0m\u001b[1;33m)\u001b[0m\u001b[1;33m\u001b[0m\u001b[1;33m\u001b[0m\u001b[0m\n\u001b[0;32m      2\u001b[0m \u001b[1;33m\u001b[0m\u001b[0m\n\u001b[1;32m----> 3\u001b[1;33m \u001b[1;32mfor\u001b[0m \u001b[0mrow\u001b[0m \u001b[1;32min\u001b[0m \u001b[0mTFIDF_CLG_Bigram\u001b[0m\u001b[1;33m:\u001b[0m\u001b[1;33m\u001b[0m\u001b[1;33m\u001b[0m\u001b[0m\n\u001b[0m\u001b[0;32m      4\u001b[0m     \u001b[0mprint\u001b[0m\u001b[1;33m(\u001b[0m\u001b[1;34m'['\u001b[0m\u001b[1;33m,\u001b[0m\u001b[0mend\u001b[0m\u001b[1;33m=\u001b[0m\u001b[1;34m''\u001b[0m\u001b[1;33m)\u001b[0m\u001b[1;33m\u001b[0m\u001b[1;33m\u001b[0m\u001b[0m\n\u001b[0;32m      5\u001b[0m     \u001b[1;32mfor\u001b[0m \u001b[0mele\u001b[0m \u001b[1;32min\u001b[0m \u001b[0mrow\u001b[0m\u001b[1;33m:\u001b[0m\u001b[1;33m\u001b[0m\u001b[1;33m\u001b[0m\u001b[0m\n",
      "\u001b[1;31mNameError\u001b[0m: name 'TFIDF_CLG_Bigram' is not defined"
     ]
    }
   ],
   "source": [
    "print('\\nTF-IDF_CLG Bigram Matrix')\n",
    "\n",
    "for row in TFIDF_CLG_Bigram:\n",
    "    print('[',end='')\n",
    "    for ele in row:\n",
    "        print(round(ele,3),end=', ')\n",
    "    print(']')"
   ]
  },
  {
   "cell_type": "code",
   "execution_count": 74,
   "metadata": {},
   "outputs": [
    {
     "ename": "NameError",
     "evalue": "name 'TFIDF_HS_Bigram' is not defined",
     "output_type": "error",
     "traceback": [
      "\u001b[1;31m---------------------------------------------------------------------------\u001b[0m",
      "\u001b[1;31mNameError\u001b[0m                                 Traceback (most recent call last)",
      "\u001b[1;32m<ipython-input-74-e6f62208454f>\u001b[0m in \u001b[0;36m<module>\u001b[1;34m\u001b[0m\n\u001b[0;32m      4\u001b[0m \u001b[1;33m\u001b[0m\u001b[0m\n\u001b[0;32m      5\u001b[0m \u001b[1;33m\u001b[0m\u001b[0m\n\u001b[1;32m----> 6\u001b[1;33m \u001b[0mtrain\u001b[0m \u001b[1;33m=\u001b[0m \u001b[0mTFIDF_HS_Bigram\u001b[0m\u001b[1;33m\u001b[0m\u001b[1;33m\u001b[0m\u001b[0m\n\u001b[0m\u001b[0;32m      7\u001b[0m \u001b[0mtest\u001b[0m \u001b[1;33m=\u001b[0m \u001b[0mTFIDF_CLG_Bigram\u001b[0m\u001b[1;33m\u001b[0m\u001b[1;33m\u001b[0m\u001b[0m\n\u001b[0;32m      8\u001b[0m \u001b[0ml1\u001b[0m \u001b[1;33m=\u001b[0m \u001b[0mlen\u001b[0m\u001b[1;33m(\u001b[0m\u001b[0mtest\u001b[0m\u001b[1;33m[\u001b[0m\u001b[1;36m0\u001b[0m\u001b[1;33m]\u001b[0m\u001b[1;33m)\u001b[0m\u001b[1;33m\u001b[0m\u001b[1;33m\u001b[0m\u001b[0m\n",
      "\u001b[1;31mNameError\u001b[0m: name 'TFIDF_HS_Bigram' is not defined"
     ]
    }
   ],
   "source": [
    "\"\"\" Cosine Similarity in High School and College Keywords in BOP \"\"\"\n",
    "\n",
    "\"\"\" Hs vs CLG \"\"\"\n",
    "\n",
    "\n",
    "train = TFIDF_HS_Bigram\n",
    "test = TFIDF_CLG_Bigram\n",
    "l1 = len(test[0])\n",
    "l2 = len(train[0])\n",
    "# managed different lenghts according to this article\n",
    "# https://stackoverflow.com/questions/3121217/cosine-similarity-of-vectors-of-different-lengths\n",
    "l = min(l1,l2)\n",
    "\n",
    "similarity = []\n",
    "for i in range(0,5):\n",
    "    print('Test IDF Vector is :'+str(test[i]) )\n",
    "    testmag = magnitude(test[i])\n",
    "    cosines = []\n",
    "    for j in range (0,5):\n",
    "        trainmag = magnitude(train[j])\n",
    "        s=0\n",
    "        for k in range(0,l):\n",
    "           s+=(test[i][k]*train[j][k])\n",
    "           \n",
    "        cosine = s/(trainmag*testmag)\n",
    "        \n",
    "        cosines.append(cosine)\n",
    "            \n",
    "        print('Cosine similarity of College_Chat_{} with High_School_Chat_{} is '.format(i+1,j+1)+str(cosine))\n",
    "        \n",
    "    similarity.append(cosines)"
   ]
  },
  {
   "cell_type": "code",
   "execution_count": 75,
   "metadata": {},
   "outputs": [
    {
     "ename": "NameError",
     "evalue": "name 'similarity' is not defined",
     "output_type": "error",
     "traceback": [
      "\u001b[1;31m---------------------------------------------------------------------------\u001b[0m",
      "\u001b[1;31mNameError\u001b[0m                                 Traceback (most recent call last)",
      "\u001b[1;32m<ipython-input-75-2ca2ab4330d6>\u001b[0m in \u001b[0;36m<module>\u001b[1;34m\u001b[0m\n\u001b[1;32m----> 1\u001b[1;33m \u001b[0msaveMetric\u001b[0m\u001b[1;33m(\u001b[0m\u001b[0msimilarity\u001b[0m\u001b[1;33m,\u001b[0m \u001b[1;34m'Cosine_Similarity_Bigram_Matrix.txt'\u001b[0m \u001b[1;33m,\u001b[0m\u001b[1;34m'Collge Chat '\u001b[0m\u001b[1;33m,\u001b[0m\u001b[1;34m'High School Chat '\u001b[0m\u001b[1;33m)\u001b[0m\u001b[1;33m\u001b[0m\u001b[1;33m\u001b[0m\u001b[0m\n\u001b[0m\u001b[0;32m      2\u001b[0m \u001b[1;33m\u001b[0m\u001b[0m\n\u001b[0;32m      3\u001b[0m \u001b[1;31m# plotting cosine similarities\u001b[0m\u001b[1;33m\u001b[0m\u001b[1;33m\u001b[0m\u001b[1;33m\u001b[0m\u001b[0m\n\u001b[0;32m      4\u001b[0m \u001b[1;33m\u001b[0m\u001b[0m\n\u001b[0;32m      5\u001b[0m \u001b[0mplot\u001b[0m\u001b[1;33m(\u001b[0m\u001b[1;33m[\u001b[0m\u001b[1;36m1\u001b[0m\u001b[1;33m,\u001b[0m\u001b[1;36m2\u001b[0m\u001b[1;33m,\u001b[0m\u001b[1;36m3\u001b[0m\u001b[1;33m,\u001b[0m\u001b[1;36m4\u001b[0m\u001b[1;33m,\u001b[0m\u001b[1;36m5\u001b[0m\u001b[1;33m]\u001b[0m\u001b[1;33m,\u001b[0m\u001b[0msimilarity\u001b[0m\u001b[1;33m[\u001b[0m\u001b[1;36m0\u001b[0m\u001b[1;33m]\u001b[0m\u001b[1;33m,\u001b[0m\u001b[1;34m'High School Chats'\u001b[0m\u001b[1;33m,\u001b[0m\u001b[1;34m'Bigram Cosine Similarity with College Chat Document 1'\u001b[0m\u001b[1;33m,\u001b[0m\u001b[1;32mFalse\u001b[0m\u001b[1;33m,\u001b[0m\u001b[1;34m'green'\u001b[0m\u001b[1;33m,\u001b[0m\u001b[1;36m0.5\u001b[0m\u001b[1;33m)\u001b[0m\u001b[1;33m\u001b[0m\u001b[1;33m\u001b[0m\u001b[0m\n",
      "\u001b[1;31mNameError\u001b[0m: name 'similarity' is not defined"
     ]
    }
   ],
   "source": [
    "saveMetric(similarity, 'Cosine_Similarity_Bigram_Matrix.txt' ,'Collge Chat ','High School Chat ')\n",
    "\n",
    "# plotting cosine similarities\n",
    "\n",
    "plot([1,2,3,4,5],similarity[0],'High School Chats','Bigram Cosine Similarity with College Chat Document 1',False,'green',0.5)\n",
    "plot([1,2,3,4,5],similarity[1],'High School Chats','Bigram Cosine Similarity with College Chat Document 2',False,'green',0.5)\n",
    "plot([1,2,3,4,5],similarity[2],'High School Chats','Bigram Cosine Similarity with College Chat Document 3',False,'green',0.5)\n",
    "plot([1,2,3,4,5],similarity[3],'High School Chats','Bigram Cosine Similarity with College Chat Document 4',False,'green',0.5)\n",
    "plot([1,2,3,4,5],similarity[4],'High School Chats','Bigram Cosine Similarity with College Chat Document 5',False,'green',0.5)\n"
   ]
  },
  {
   "cell_type": "code",
   "execution_count": 76,
   "metadata": {},
   "outputs": [
    {
     "ename": "NameError",
     "evalue": "name 'similarity' is not defined",
     "output_type": "error",
     "traceback": [
      "\u001b[1;31m---------------------------------------------------------------------------\u001b[0m",
      "\u001b[1;31mNameError\u001b[0m                                 Traceback (most recent call last)",
      "\u001b[1;32m<ipython-input-76-0663bd79db1f>\u001b[0m in \u001b[0;36m<module>\u001b[1;34m\u001b[0m\n\u001b[0;32m      3\u001b[0m \u001b[0mclg\u001b[0m\u001b[1;33m=\u001b[0m\u001b[1;36m0\u001b[0m\u001b[1;33m\u001b[0m\u001b[1;33m\u001b[0m\u001b[0m\n\u001b[0;32m      4\u001b[0m \u001b[1;32mfor\u001b[0m \u001b[0mi\u001b[0m \u001b[1;32min\u001b[0m \u001b[0mrange\u001b[0m \u001b[1;33m(\u001b[0m\u001b[1;36m0\u001b[0m\u001b[1;33m,\u001b[0m\u001b[1;36m5\u001b[0m\u001b[1;33m)\u001b[0m\u001b[1;33m:\u001b[0m\u001b[1;33m\u001b[0m\u001b[1;33m\u001b[0m\u001b[0m\n\u001b[1;32m----> 5\u001b[1;33m     \u001b[0mrow\u001b[0m \u001b[1;33m=\u001b[0m \u001b[0msimilarity\u001b[0m\u001b[1;33m[\u001b[0m\u001b[0mi\u001b[0m\u001b[1;33m]\u001b[0m\u001b[1;33m\u001b[0m\u001b[1;33m\u001b[0m\u001b[0m\n\u001b[0m\u001b[0;32m      6\u001b[0m     \u001b[0mprint\u001b[0m\u001b[1;33m(\u001b[0m\u001b[1;34m'College Chat {} :'\u001b[0m\u001b[1;33m.\u001b[0m\u001b[0mformat\u001b[0m\u001b[1;33m(\u001b[0m\u001b[0mi\u001b[0m\u001b[1;33m+\u001b[0m\u001b[1;36m1\u001b[0m\u001b[1;33m)\u001b[0m\u001b[1;33m)\u001b[0m\u001b[1;33m\u001b[0m\u001b[1;33m\u001b[0m\u001b[0m\n\u001b[0;32m      7\u001b[0m     \u001b[1;32mfor\u001b[0m \u001b[0mj\u001b[0m \u001b[1;32min\u001b[0m \u001b[0mrange\u001b[0m \u001b[1;33m(\u001b[0m\u001b[1;36m0\u001b[0m\u001b[1;33m,\u001b[0m\u001b[1;36m5\u001b[0m\u001b[1;33m)\u001b[0m\u001b[1;33m:\u001b[0m\u001b[1;33m\u001b[0m\u001b[1;33m\u001b[0m\u001b[0m\n",
      "\u001b[1;31mNameError\u001b[0m: name 'similarity' is not defined"
     ]
    }
   ],
   "source": [
    "maxval = 0\n",
    "hs=0\n",
    "clg=0\n",
    "for i in range (0,5):\n",
    "    row = similarity[i]\n",
    "    print('College Chat {} :'.format(i+1))\n",
    "    for j in range (0,5):\n",
    "        print(row[j],end=' ')\n",
    "        if row[j]>maxval:\n",
    "            maxval = row[j]\n",
    "            hs = j\n",
    "            clg = i\n",
    "    print()\n",
    "\n",
    "f = open('Cosine_Similarity_Bigram_Matrix.txt','a')\n",
    "f.write('\\n\\n')\n",
    "\n",
    "print('The College Chat Document - {} is closest to the High School Chat Document - {} with a cosine similarity of {}'.\n",
    "      format(clg+1,hs+1,maxval),file = f)\n",
    "f.close()\n"
   ]
  },
  {
   "cell_type": "code",
   "execution_count": 77,
   "metadata": {},
   "outputs": [
    {
     "ename": "NameError",
     "evalue": "name 'TFIDF_CLG_Bigram' is not defined",
     "output_type": "error",
     "traceback": [
      "\u001b[1;31m---------------------------------------------------------------------------\u001b[0m",
      "\u001b[1;31mNameError\u001b[0m                                 Traceback (most recent call last)",
      "\u001b[1;32m<ipython-input-77-794c475de282>\u001b[0m in \u001b[0;36m<module>\u001b[1;34m\u001b[0m\n\u001b[0;32m      1\u001b[0m \u001b[1;34m\"\"\" Verifying our result by doing reverse \"\"\"\u001b[0m\u001b[1;33m\u001b[0m\u001b[1;33m\u001b[0m\u001b[0m\n\u001b[0;32m      2\u001b[0m \u001b[1;34m\"\"\" CLG vs HS \"\"\"\u001b[0m\u001b[1;33m\u001b[0m\u001b[1;33m\u001b[0m\u001b[0m\n\u001b[1;32m----> 3\u001b[1;33m \u001b[0mtrain\u001b[0m \u001b[1;33m=\u001b[0m \u001b[0mTFIDF_CLG_Bigram\u001b[0m\u001b[1;33m\u001b[0m\u001b[1;33m\u001b[0m\u001b[0m\n\u001b[0m\u001b[0;32m      4\u001b[0m \u001b[0mtest\u001b[0m \u001b[1;33m=\u001b[0m \u001b[0mTFIDF_HS_Bigram\u001b[0m\u001b[1;33m\u001b[0m\u001b[1;33m\u001b[0m\u001b[0m\n\u001b[0;32m      5\u001b[0m \u001b[0ml1\u001b[0m \u001b[1;33m=\u001b[0m \u001b[0mlen\u001b[0m\u001b[1;33m(\u001b[0m\u001b[0mtest\u001b[0m\u001b[1;33m[\u001b[0m\u001b[1;36m0\u001b[0m\u001b[1;33m]\u001b[0m\u001b[1;33m)\u001b[0m\u001b[1;33m\u001b[0m\u001b[1;33m\u001b[0m\u001b[0m\n",
      "\u001b[1;31mNameError\u001b[0m: name 'TFIDF_CLG_Bigram' is not defined"
     ]
    }
   ],
   "source": [
    "\"\"\" Verifying our result by doing reverse \"\"\"\n",
    "\"\"\" CLG vs HS \"\"\"\n",
    "train = TFIDF_CLG_Bigram\n",
    "test = TFIDF_HS_Bigram\n",
    "l1 = len(test[0])\n",
    "l2 = len(train[0])\n",
    "l = min(l1,l2)\n",
    "\n",
    "similarity = []\n",
    "for i in range(0,5):\n",
    "    print('Test IDF Vector is :'+str(test[i]) )\n",
    "    testmag = magnitude(test[i])\n",
    "    cosines = []\n",
    "    for j in range (0,5):\n",
    "        trainmag = magnitude(train[j])\n",
    "        s=0\n",
    "        for k in range(0,l):\n",
    "           s+=(test[i][k]*train[j][k])\n",
    "           \n",
    "        cosine = s/(trainmag*testmag)\n",
    "        cosines.append(cosine)\n",
    "        print('Cosine similarity of High_School_Chat{} with College_Chat_{} is '.format(i+1,j+1)+str(cosine))\n",
    "    similarity.append(cosines)\n",
    "    \n",
    "\n",
    "maxval = 0\n",
    "hs=0\n",
    "clg=0\n",
    "    \n",
    "for i in range (0,5):\n",
    "    row = similarity[i]\n",
    "    print('High School Chat {} :'.format(i+1))\n",
    "    for j in range (0,5):\n",
    "        print(row[j],end=' ')\n",
    "        if row[j]>maxval:\n",
    "            maxval = row[j]\n",
    "            hs = i\n",
    "            clg = j\n",
    "    print()\n",
    "    \n",
    "\n",
    "print('The High School Chat Document - {} is closest to the College Chat Document- {} with a cosine similarity of {}'.\n",
    "      format(hs+1,clg+1,maxval))"
   ]
  },
  {
   "cell_type": "code",
   "execution_count": 78,
   "metadata": {},
   "outputs": [
    {
     "ename": "NameError",
     "evalue": "name 'TFIDF_HS_Bigram' is not defined",
     "output_type": "error",
     "traceback": [
      "\u001b[1;31m---------------------------------------------------------------------------\u001b[0m",
      "\u001b[1;31mNameError\u001b[0m                                 Traceback (most recent call last)",
      "\u001b[1;32m<ipython-input-78-62ad7cd23714>\u001b[0m in \u001b[0;36m<module>\u001b[1;34m\u001b[0m\n\u001b[0;32m      2\u001b[0m \u001b[1;34m\"\"\" HS Vs CLG \"\"\"\u001b[0m\u001b[1;33m\u001b[0m\u001b[1;33m\u001b[0m\u001b[0m\n\u001b[0;32m      3\u001b[0m \u001b[1;33m\u001b[0m\u001b[0m\n\u001b[1;32m----> 4\u001b[1;33m \u001b[0mtrain\u001b[0m \u001b[1;33m=\u001b[0m \u001b[0mTFIDF_HS_Bigram\u001b[0m\u001b[1;33m\u001b[0m\u001b[1;33m\u001b[0m\u001b[0m\n\u001b[0m\u001b[0;32m      5\u001b[0m \u001b[0mtest\u001b[0m \u001b[1;33m=\u001b[0m \u001b[0mTFIDF_CLG_Bigram\u001b[0m\u001b[1;33m\u001b[0m\u001b[1;33m\u001b[0m\u001b[0m\n\u001b[0;32m      6\u001b[0m \u001b[0ml1\u001b[0m \u001b[1;33m=\u001b[0m \u001b[0mlen\u001b[0m\u001b[1;33m(\u001b[0m\u001b[0mtest\u001b[0m\u001b[1;33m[\u001b[0m\u001b[1;36m0\u001b[0m\u001b[1;33m]\u001b[0m\u001b[1;33m)\u001b[0m\u001b[1;33m\u001b[0m\u001b[1;33m\u001b[0m\u001b[0m\n",
      "\u001b[1;31mNameError\u001b[0m: name 'TFIDF_HS_Bigram' is not defined"
     ]
    }
   ],
   "source": [
    "\"\"\" Manhattan Distance \"\"\"\n",
    "\"\"\" HS Vs CLG \"\"\"\n",
    "\n",
    "train = TFIDF_HS_Bigram\n",
    "test = TFIDF_CLG_Bigram\n",
    "l1 = len(test[0])\n",
    "l2 = len(train[0])\n",
    "l = min(l1,l2)\n",
    "\n",
    "manhattan = []\n",
    "for i in range(0,5):\n",
    "    print('Test IDF Vector is :'+str(test[i]) )\n",
    "    distance = []\n",
    "    for j in range (0,5):\n",
    "        s=0\n",
    "        # difference till common length\n",
    "        for k in range(0,l):\n",
    "           s+=(abs(test[i][k]-train[j][k]))\n",
    "        # the remaining elements\n",
    "        if(l1>l2):\n",
    "            for k in range(l,l2):\n",
    "                s+=test[i][k]\n",
    "        elif(l2>l1):\n",
    "             for k in range(l,l1):\n",
    "                s+=train[j][k]\n",
    "            \n",
    "                   \n",
    "        distance.append(s)\n",
    "            \n",
    "        print('Manhattan Distance of College_Chat_{} with High_School_Chat_{} is '.format(i+1,j+1)+str(s))\n",
    "        \n",
    "    manhattan.append(distance)"
   ]
  },
  {
   "cell_type": "code",
   "execution_count": 79,
   "metadata": {},
   "outputs": [
    {
     "ename": "NameError",
     "evalue": "name 'manhattan' is not defined",
     "output_type": "error",
     "traceback": [
      "\u001b[1;31m---------------------------------------------------------------------------\u001b[0m",
      "\u001b[1;31mNameError\u001b[0m                                 Traceback (most recent call last)",
      "\u001b[1;32m<ipython-input-79-7883a85698cf>\u001b[0m in \u001b[0;36m<module>\u001b[1;34m\u001b[0m\n\u001b[1;32m----> 1\u001b[1;33m \u001b[0msaveMetric\u001b[0m\u001b[1;33m(\u001b[0m\u001b[0mmanhattan\u001b[0m\u001b[1;33m,\u001b[0m \u001b[1;34m'Manhattan_Distance_Bigram_Matrix.txt'\u001b[0m \u001b[1;33m,\u001b[0m\u001b[1;34m'Collge Chat '\u001b[0m\u001b[1;33m,\u001b[0m\u001b[1;34m'High School Chat '\u001b[0m\u001b[1;33m)\u001b[0m\u001b[1;33m\u001b[0m\u001b[1;33m\u001b[0m\u001b[0m\n\u001b[0m\u001b[0;32m      2\u001b[0m \u001b[1;33m\u001b[0m\u001b[0m\n\u001b[0;32m      3\u001b[0m \u001b[1;31m# plotting manhattan distance\u001b[0m\u001b[1;33m\u001b[0m\u001b[1;33m\u001b[0m\u001b[1;33m\u001b[0m\u001b[0m\n\u001b[0;32m      4\u001b[0m \u001b[0mplot\u001b[0m\u001b[1;33m(\u001b[0m\u001b[1;33m[\u001b[0m\u001b[1;36m1\u001b[0m\u001b[1;33m,\u001b[0m\u001b[1;36m2\u001b[0m\u001b[1;33m,\u001b[0m\u001b[1;36m3\u001b[0m\u001b[1;33m,\u001b[0m\u001b[1;36m4\u001b[0m\u001b[1;33m,\u001b[0m\u001b[1;36m5\u001b[0m\u001b[1;33m]\u001b[0m\u001b[1;33m,\u001b[0m\u001b[0mmanhattan\u001b[0m\u001b[1;33m[\u001b[0m\u001b[1;36m0\u001b[0m\u001b[1;33m]\u001b[0m\u001b[1;33m,\u001b[0m\u001b[1;34m'High School Chats'\u001b[0m\u001b[1;33m,\u001b[0m\u001b[1;34m'Bigram Manhattan Distance from College Chat Document 1'\u001b[0m\u001b[1;33m,\u001b[0m\u001b[1;32mFalse\u001b[0m\u001b[1;33m,\u001b[0m\u001b[1;34m'green'\u001b[0m\u001b[1;33m,\u001b[0m\u001b[1;36m0.5\u001b[0m\u001b[1;33m)\u001b[0m\u001b[1;33m\u001b[0m\u001b[1;33m\u001b[0m\u001b[0m\n\u001b[0;32m      5\u001b[0m \u001b[0mplot\u001b[0m\u001b[1;33m(\u001b[0m\u001b[1;33m[\u001b[0m\u001b[1;36m1\u001b[0m\u001b[1;33m,\u001b[0m\u001b[1;36m2\u001b[0m\u001b[1;33m,\u001b[0m\u001b[1;36m3\u001b[0m\u001b[1;33m,\u001b[0m\u001b[1;36m4\u001b[0m\u001b[1;33m,\u001b[0m\u001b[1;36m5\u001b[0m\u001b[1;33m]\u001b[0m\u001b[1;33m,\u001b[0m\u001b[0mmanhattan\u001b[0m\u001b[1;33m[\u001b[0m\u001b[1;36m1\u001b[0m\u001b[1;33m]\u001b[0m\u001b[1;33m,\u001b[0m\u001b[1;34m'High School Chats'\u001b[0m\u001b[1;33m,\u001b[0m\u001b[1;34m'Bigram Manhattan Distance from College Chat Document 2'\u001b[0m\u001b[1;33m,\u001b[0m\u001b[1;32mFalse\u001b[0m\u001b[1;33m,\u001b[0m\u001b[1;34m'green'\u001b[0m\u001b[1;33m,\u001b[0m\u001b[1;36m0.5\u001b[0m\u001b[1;33m)\u001b[0m\u001b[1;33m\u001b[0m\u001b[1;33m\u001b[0m\u001b[0m\n",
      "\u001b[1;31mNameError\u001b[0m: name 'manhattan' is not defined"
     ]
    }
   ],
   "source": [
    "saveMetric(manhattan, 'Manhattan_Distance_Bigram_Matrix.txt' ,'Collge Chat ','High School Chat ')\n",
    "\n",
    "# plotting manhattan distance\n",
    "plot([1,2,3,4,5],manhattan[0],'High School Chats','Bigram Manhattan Distance from College Chat Document 1',False,'green',0.5)\n",
    "plot([1,2,3,4,5],manhattan[1],'High School Chats','Bigram Manhattan Distance from College Chat Document 2',False,'green',0.5)\n",
    "plot([1,2,3,4,5],manhattan[2],'High School Chats','Bigram Manhattan Distance from College Chat Document 3',False,'green',0.5)\n",
    "plot([1,2,3,4,5],manhattan[3],'High School Chats','Bigram Manhattan Distance from College Chat Document 4',False,'green',0.5)\n",
    "plot([1,2,3,4,5],manhattan[4],'High School Chats','Bigram Manhattan Distance from College Chat Document 5',False,'green',0.5)"
   ]
  },
  {
   "cell_type": "code",
   "execution_count": 80,
   "metadata": {},
   "outputs": [
    {
     "ename": "NameError",
     "evalue": "name 'manhattan' is not defined",
     "output_type": "error",
     "traceback": [
      "\u001b[1;31m---------------------------------------------------------------------------\u001b[0m",
      "\u001b[1;31mNameError\u001b[0m                                 Traceback (most recent call last)",
      "\u001b[1;32m<ipython-input-80-e9229a2750cd>\u001b[0m in \u001b[0;36m<module>\u001b[1;34m\u001b[0m\n\u001b[0;32m      3\u001b[0m \u001b[0mclg\u001b[0m\u001b[1;33m=\u001b[0m\u001b[1;36m0\u001b[0m\u001b[1;33m\u001b[0m\u001b[1;33m\u001b[0m\u001b[0m\n\u001b[0;32m      4\u001b[0m \u001b[1;32mfor\u001b[0m \u001b[0mi\u001b[0m \u001b[1;32min\u001b[0m \u001b[0mrange\u001b[0m \u001b[1;33m(\u001b[0m\u001b[1;36m0\u001b[0m\u001b[1;33m,\u001b[0m\u001b[1;36m5\u001b[0m\u001b[1;33m)\u001b[0m\u001b[1;33m:\u001b[0m\u001b[1;33m\u001b[0m\u001b[1;33m\u001b[0m\u001b[0m\n\u001b[1;32m----> 5\u001b[1;33m     \u001b[0mrow\u001b[0m \u001b[1;33m=\u001b[0m \u001b[0mmanhattan\u001b[0m\u001b[1;33m[\u001b[0m\u001b[0mi\u001b[0m\u001b[1;33m]\u001b[0m\u001b[1;33m\u001b[0m\u001b[1;33m\u001b[0m\u001b[0m\n\u001b[0m\u001b[0;32m      6\u001b[0m     \u001b[0mprint\u001b[0m\u001b[1;33m(\u001b[0m\u001b[1;34m'College Chat {} :'\u001b[0m\u001b[1;33m.\u001b[0m\u001b[0mformat\u001b[0m\u001b[1;33m(\u001b[0m\u001b[0mi\u001b[0m\u001b[1;33m+\u001b[0m\u001b[1;36m1\u001b[0m\u001b[1;33m)\u001b[0m\u001b[1;33m)\u001b[0m\u001b[1;33m\u001b[0m\u001b[1;33m\u001b[0m\u001b[0m\n\u001b[0;32m      7\u001b[0m     \u001b[1;32mfor\u001b[0m \u001b[0mj\u001b[0m \u001b[1;32min\u001b[0m \u001b[0mrange\u001b[0m \u001b[1;33m(\u001b[0m\u001b[1;36m0\u001b[0m\u001b[1;33m,\u001b[0m\u001b[1;36m5\u001b[0m\u001b[1;33m)\u001b[0m\u001b[1;33m:\u001b[0m\u001b[1;33m\u001b[0m\u001b[1;33m\u001b[0m\u001b[0m\n",
      "\u001b[1;31mNameError\u001b[0m: name 'manhattan' is not defined"
     ]
    }
   ],
   "source": [
    "maxval = 0\n",
    "hs=0\n",
    "clg=0\n",
    "for i in range (0,5):\n",
    "    row = manhattan[i]\n",
    "    print('College Chat {} :'.format(i+1))\n",
    "    for j in range (0,5):\n",
    "        print(row[j],end=' ')\n",
    "        if row[j]>maxval:\n",
    "            maxval = row[j]\n",
    "            hs = j\n",
    "            clg = i\n",
    "    print()\n",
    "f = open('Manhattan_Distance_Bigram_Matrix.txt','a')\n",
    "f.write('\\n\\n')\n",
    "\n",
    "print('The College Chat Document - {} is farthest to the High School Chat Document - {} with a manhattan distance of {}'.\n",
    "      format(clg+1,hs+1,maxval),file = f)\n",
    "f.close()"
   ]
  },
  {
   "cell_type": "code",
   "execution_count": 81,
   "metadata": {},
   "outputs": [
    {
     "ename": "NameError",
     "evalue": "name 'TFIDF_CLG_Bigram' is not defined",
     "output_type": "error",
     "traceback": [
      "\u001b[1;31m---------------------------------------------------------------------------\u001b[0m",
      "\u001b[1;31mNameError\u001b[0m                                 Traceback (most recent call last)",
      "\u001b[1;32m<ipython-input-81-5f773d730a7c>\u001b[0m in \u001b[0;36m<module>\u001b[1;34m\u001b[0m\n\u001b[0;32m      2\u001b[0m \u001b[1;34m\"\"\" CLG Vs Hs \"\"\"\u001b[0m\u001b[1;33m\u001b[0m\u001b[1;33m\u001b[0m\u001b[0m\n\u001b[0;32m      3\u001b[0m \u001b[1;33m\u001b[0m\u001b[0m\n\u001b[1;32m----> 4\u001b[1;33m \u001b[0mtrain\u001b[0m \u001b[1;33m=\u001b[0m \u001b[0mTFIDF_CLG_Bigram\u001b[0m\u001b[1;33m\u001b[0m\u001b[1;33m\u001b[0m\u001b[0m\n\u001b[0m\u001b[0;32m      5\u001b[0m \u001b[0mtest\u001b[0m \u001b[1;33m=\u001b[0m \u001b[0mTFIDF_HS_Bigram\u001b[0m\u001b[1;33m\u001b[0m\u001b[1;33m\u001b[0m\u001b[0m\n\u001b[0;32m      6\u001b[0m \u001b[0ml1\u001b[0m \u001b[1;33m=\u001b[0m \u001b[0mlen\u001b[0m\u001b[1;33m(\u001b[0m\u001b[0mtest\u001b[0m\u001b[1;33m[\u001b[0m\u001b[1;36m0\u001b[0m\u001b[1;33m]\u001b[0m\u001b[1;33m)\u001b[0m\u001b[1;33m\u001b[0m\u001b[1;33m\u001b[0m\u001b[0m\n",
      "\u001b[1;31mNameError\u001b[0m: name 'TFIDF_CLG_Bigram' is not defined"
     ]
    }
   ],
   "source": [
    "\"\"\" Verifying the Result \"\"\"\n",
    "\"\"\" CLG Vs Hs \"\"\"\n",
    "\n",
    "train = TFIDF_CLG_Bigram\n",
    "test = TFIDF_HS_Bigram\n",
    "l1 = len(test[0])\n",
    "l2 = len(train[0])\n",
    "l = min(l1,l2)\n",
    "\n",
    "manhattan = []\n",
    "for i in range(0,5):\n",
    "    print('Test IDF Vector is :'+str(test[i]) )\n",
    "    distance = []\n",
    "    for j in range (0,5):\n",
    "        s=0\n",
    "        # difference till common length\n",
    "        for k in range(0,l):\n",
    "           s+=(abs(test[i][k]-train[j][k]))\n",
    "        # the remaining elements\n",
    "        if(l1>l2):\n",
    "            for k in range(l,l2):\n",
    "                s+=test[i][k]\n",
    "        elif(l2>l1):\n",
    "             for k in range(l,l1):\n",
    "                s+=train[j][k]\n",
    "            \n",
    "                   \n",
    "        distance.append(s)\n",
    "            \n",
    "        print('Manhattan Distance of High_School_Chat_{} with College_Chat_{} is '.format(i+1,j+1)+str(s))\n",
    "        \n",
    "    manhattan.append(distance)\n",
    "    \n",
    "    \n",
    "maxval = 0\n",
    "hs=0\n",
    "clg=0\n",
    "for i in range (0,5):\n",
    "    row = manhattan[i]\n",
    "    print('High School Chat {} :'.format(i+1))\n",
    "    for j in range (0,5):\n",
    "        print(row[j],end=' ')\n",
    "        if row[j]>maxval:\n",
    "            maxval = row[j]\n",
    "            hs = i\n",
    "            clg = j\n",
    "    print()\n",
    "\n",
    "print('The High School Chat Document - {} is farthest to the College Chat Document - {} with a manhattan distance of {}'.\n",
    "      format(hs+1,clg+1,maxval))"
   ]
  },
  {
   "cell_type": "code",
   "execution_count": 82,
   "metadata": {},
   "outputs": [],
   "source": [
    "## Trigrams"
   ]
  },
  {
   "cell_type": "code",
   "execution_count": 83,
   "metadata": {},
   "outputs": [
    {
     "ename": "FileNotFoundError",
     "evalue": "[Errno 2] No such file or directory: 'high_school_chat_1.txt'",
     "output_type": "error",
     "traceback": [
      "\u001b[1;31m---------------------------------------------------------------------------\u001b[0m",
      "\u001b[1;31mFileNotFoundError\u001b[0m                         Traceback (most recent call last)",
      "\u001b[1;32m<ipython-input-83-ce9b996bd4ad>\u001b[0m in \u001b[0;36m<module>\u001b[1;34m\u001b[0m\n\u001b[0;32m      1\u001b[0m \u001b[1;34m\"\"\" Pre-processing high school messages \"\"\"\u001b[0m\u001b[1;33m\u001b[0m\u001b[1;33m\u001b[0m\u001b[0m\n\u001b[0;32m      2\u001b[0m \u001b[1;33m\u001b[0m\u001b[0m\n\u001b[1;32m----> 3\u001b[1;33m \u001b[0mhsdf1\u001b[0m \u001b[1;33m=\u001b[0m \u001b[0mimport_data\u001b[0m\u001b[1;33m(\u001b[0m\u001b[1;34m'high_school_chat_1.txt'\u001b[0m\u001b[1;33m)\u001b[0m\u001b[1;33m\u001b[0m\u001b[1;33m\u001b[0m\u001b[0m\n\u001b[0m\u001b[0;32m      4\u001b[0m \u001b[0mhsdf1\u001b[0m \u001b[1;33m=\u001b[0m \u001b[0mpreprocess_data_ngram\u001b[0m\u001b[1;33m(\u001b[0m\u001b[0mhsdf1\u001b[0m\u001b[1;33m)\u001b[0m\u001b[1;33m\u001b[0m\u001b[1;33m\u001b[0m\u001b[0m\n\u001b[0;32m      5\u001b[0m \u001b[1;33m\u001b[0m\u001b[0m\n",
      "\u001b[1;32m<ipython-input-3-c13e74809a13>\u001b[0m in \u001b[0;36mimport_data\u001b[1;34m(file, path)\u001b[0m\n\u001b[0;32m      3\u001b[0m     \u001b[1;34m\"\"\" Import whatsapp data and transform it to a dataframe \"\"\"\u001b[0m\u001b[1;33m\u001b[0m\u001b[1;33m\u001b[0m\u001b[0m\n\u001b[0;32m      4\u001b[0m \u001b[1;33m\u001b[0m\u001b[0m\n\u001b[1;32m----> 5\u001b[1;33m     \u001b[1;32mwith\u001b[0m \u001b[0mopen\u001b[0m\u001b[1;33m(\u001b[0m\u001b[0mpath\u001b[0m \u001b[1;33m+\u001b[0m \u001b[0mfile\u001b[0m\u001b[1;33m,\u001b[0m \u001b[0mencoding\u001b[0m \u001b[1;33m=\u001b[0m \u001b[1;34m'utf-8'\u001b[0m\u001b[1;33m)\u001b[0m \u001b[1;32mas\u001b[0m \u001b[0moutfile\u001b[0m\u001b[1;33m:\u001b[0m\u001b[1;33m\u001b[0m\u001b[1;33m\u001b[0m\u001b[0m\n\u001b[0m\u001b[0;32m      6\u001b[0m         \u001b[0mraw_text\u001b[0m \u001b[1;33m=\u001b[0m \u001b[0moutfile\u001b[0m\u001b[1;33m.\u001b[0m\u001b[0mreadlines\u001b[0m\u001b[1;33m(\u001b[0m\u001b[1;33m)\u001b[0m\u001b[1;33m\u001b[0m\u001b[1;33m\u001b[0m\u001b[0m\n\u001b[0;32m      7\u001b[0m         \u001b[0mmessages\u001b[0m \u001b[1;33m=\u001b[0m \u001b[1;33m{\u001b[0m\u001b[1;33m}\u001b[0m\u001b[1;33m\u001b[0m\u001b[1;33m\u001b[0m\u001b[0m\n",
      "\u001b[1;31mFileNotFoundError\u001b[0m: [Errno 2] No such file or directory: 'high_school_chat_1.txt'"
     ]
    }
   ],
   "source": [
    "\"\"\" Pre-processing high school messages \"\"\"\n",
    "\n",
    "hsdf1 = import_data('high_school_chat_1.txt')\n",
    "hsdf1 = preprocess_data_ngram(hsdf1)\n",
    "\n",
    "hsdf2 = import_data('high_school_chat_2.txt')\n",
    "hsdf2 = preprocess_data_ngram(hsdf2)\n",
    "\n",
    "hsdf3 = import_data('high_school_chat_3.txt')\n",
    "hsdf3 = preprocess_data_ngram(hsdf3)\n",
    "\n",
    "hsdf4 = import_data('high_school_chat_4.txt')\n",
    "hsdf4 = preprocess_data_ngram(hsdf4)\n",
    "\n",
    "hsdf5 = import_data('high_school_chat_5.txt')\n",
    "hsdf5 = preprocess_data_ngram(hsdf5)\n"
   ]
  },
  {
   "cell_type": "code",
   "execution_count": 84,
   "metadata": {},
   "outputs": [
    {
     "ename": "FileNotFoundError",
     "evalue": "[Errno 2] No such file or directory: 'college_chat_1.txt'",
     "output_type": "error",
     "traceback": [
      "\u001b[1;31m---------------------------------------------------------------------------\u001b[0m",
      "\u001b[1;31mFileNotFoundError\u001b[0m                         Traceback (most recent call last)",
      "\u001b[1;32m<ipython-input-84-a5356edd454b>\u001b[0m in \u001b[0;36m<module>\u001b[1;34m\u001b[0m\n\u001b[0;32m      1\u001b[0m \u001b[1;34m\"\"\" Pre-processing college messages \"\"\"\u001b[0m\u001b[1;33m\u001b[0m\u001b[1;33m\u001b[0m\u001b[0m\n\u001b[0;32m      2\u001b[0m \u001b[1;33m\u001b[0m\u001b[0m\n\u001b[1;32m----> 3\u001b[1;33m \u001b[0mclgdf1\u001b[0m \u001b[1;33m=\u001b[0m \u001b[0mimport_data\u001b[0m\u001b[1;33m(\u001b[0m\u001b[1;34m'college_chat_1.txt'\u001b[0m\u001b[1;33m)\u001b[0m\u001b[1;33m\u001b[0m\u001b[1;33m\u001b[0m\u001b[0m\n\u001b[0m\u001b[0;32m      4\u001b[0m \u001b[0mclgdf1\u001b[0m \u001b[1;33m=\u001b[0m \u001b[0mpreprocess_data_ngram\u001b[0m\u001b[1;33m(\u001b[0m\u001b[0mclgdf1\u001b[0m\u001b[1;33m)\u001b[0m\u001b[1;33m\u001b[0m\u001b[1;33m\u001b[0m\u001b[0m\n\u001b[0;32m      5\u001b[0m \u001b[1;33m\u001b[0m\u001b[0m\n",
      "\u001b[1;32m<ipython-input-3-c13e74809a13>\u001b[0m in \u001b[0;36mimport_data\u001b[1;34m(file, path)\u001b[0m\n\u001b[0;32m      3\u001b[0m     \u001b[1;34m\"\"\" Import whatsapp data and transform it to a dataframe \"\"\"\u001b[0m\u001b[1;33m\u001b[0m\u001b[1;33m\u001b[0m\u001b[0m\n\u001b[0;32m      4\u001b[0m \u001b[1;33m\u001b[0m\u001b[0m\n\u001b[1;32m----> 5\u001b[1;33m     \u001b[1;32mwith\u001b[0m \u001b[0mopen\u001b[0m\u001b[1;33m(\u001b[0m\u001b[0mpath\u001b[0m \u001b[1;33m+\u001b[0m \u001b[0mfile\u001b[0m\u001b[1;33m,\u001b[0m \u001b[0mencoding\u001b[0m \u001b[1;33m=\u001b[0m \u001b[1;34m'utf-8'\u001b[0m\u001b[1;33m)\u001b[0m \u001b[1;32mas\u001b[0m \u001b[0moutfile\u001b[0m\u001b[1;33m:\u001b[0m\u001b[1;33m\u001b[0m\u001b[1;33m\u001b[0m\u001b[0m\n\u001b[0m\u001b[0;32m      6\u001b[0m         \u001b[0mraw_text\u001b[0m \u001b[1;33m=\u001b[0m \u001b[0moutfile\u001b[0m\u001b[1;33m.\u001b[0m\u001b[0mreadlines\u001b[0m\u001b[1;33m(\u001b[0m\u001b[1;33m)\u001b[0m\u001b[1;33m\u001b[0m\u001b[1;33m\u001b[0m\u001b[0m\n\u001b[0;32m      7\u001b[0m         \u001b[0mmessages\u001b[0m \u001b[1;33m=\u001b[0m \u001b[1;33m{\u001b[0m\u001b[1;33m}\u001b[0m\u001b[1;33m\u001b[0m\u001b[1;33m\u001b[0m\u001b[0m\n",
      "\u001b[1;31mFileNotFoundError\u001b[0m: [Errno 2] No such file or directory: 'college_chat_1.txt'"
     ]
    }
   ],
   "source": [
    "\n",
    "\"\"\" Pre-processing college messages \"\"\"\n",
    "\n",
    "clgdf1 = import_data('college_chat_1.txt')\n",
    "clgdf1 = preprocess_data_ngram(clgdf1)\n",
    "\n",
    "clgdf2 = import_data('college_chat_2.txt')\n",
    "clgdf2 = preprocess_data_ngram(clgdf2)\n",
    "\n",
    "clgdf3 = import_data('college_chat_3.txt')\n",
    "clgdf3 = preprocess_data_ngram(clgdf3)\n",
    "\n",
    "clgdf4 = import_data('college_chat_4.txt')\n",
    "clgdf4 = preprocess_data_ngram(clgdf4)\n",
    "\n",
    "clgdf5 = import_data('college_chat_5.txt')\n",
    "clgdf5 = preprocess_data_ngram(clgdf5)"
   ]
  },
  {
   "cell_type": "code",
   "execution_count": 85,
   "metadata": {},
   "outputs": [
    {
     "ename": "NameError",
     "evalue": "name 'hsdf1' is not defined",
     "output_type": "error",
     "traceback": [
      "\u001b[1;31m---------------------------------------------------------------------------\u001b[0m",
      "\u001b[1;31mNameError\u001b[0m                                 Traceback (most recent call last)",
      "\u001b[1;32m<ipython-input-85-3fc8a98bfb8c>\u001b[0m in \u001b[0;36m<module>\u001b[1;34m\u001b[0m\n\u001b[0;32m      2\u001b[0m \u001b[1;33m\u001b[0m\u001b[0m\n\u001b[0;32m      3\u001b[0m \u001b[1;33m\u001b[0m\u001b[0m\n\u001b[1;32m----> 4\u001b[1;33m \u001b[0mtrigramsHs1\u001b[0m \u001b[1;33m=\u001b[0m \u001b[0mprepare\u001b[0m\u001b[1;33m(\u001b[0m\u001b[0mhsdf1\u001b[0m\u001b[1;33m)\u001b[0m\u001b[1;33m\u001b[0m\u001b[1;33m\u001b[0m\u001b[0m\n\u001b[0m\u001b[0;32m      5\u001b[0m \u001b[0mtrigramsHs2\u001b[0m \u001b[1;33m=\u001b[0m \u001b[0mprepare\u001b[0m\u001b[1;33m(\u001b[0m\u001b[0mhsdf2\u001b[0m\u001b[1;33m)\u001b[0m\u001b[1;33m\u001b[0m\u001b[1;33m\u001b[0m\u001b[0m\n\u001b[0;32m      6\u001b[0m \u001b[0mtrigramsHs3\u001b[0m \u001b[1;33m=\u001b[0m \u001b[0mprepare\u001b[0m\u001b[1;33m(\u001b[0m\u001b[0mhsdf3\u001b[0m\u001b[1;33m)\u001b[0m\u001b[1;33m\u001b[0m\u001b[1;33m\u001b[0m\u001b[0m\n",
      "\u001b[1;31mNameError\u001b[0m: name 'hsdf1' is not defined"
     ]
    }
   ],
   "source": [
    "\"\"\" High School \"\"\"\n",
    "\n",
    "\n",
    "trigramsHs1 = prepare(hsdf1)\n",
    "trigramsHs2 = prepare(hsdf2)\n",
    "trigramsHs3 = prepare(hsdf3)\n",
    "trigramsHs4 = prepare(hsdf4)\n",
    "trigramsHs5 = prepare(hsdf5)\n",
    "\n",
    "trigramsHs1=countTrigrams(trigramsHs1)\n",
    "trigramsHs2=countTrigrams(trigramsHs2)\n",
    "trigramsHs3=countTrigrams(trigramsHs3)\n",
    "trigramsHs4=countTrigrams(trigramsHs4)\n",
    "trigramsHs5=countTrigrams(trigramsHs5)\n",
    "\n",
    "topTHs1=[]\n",
    "topTHs2=[]\n",
    "topTHs3=[]\n",
    "topTHs4=[]\n",
    "topTHs5=[]\n",
    "\n",
    "\n",
    "for key in trigramsHs1.keys():\n",
    "    topTHs1.append((key,trigramsHs1[key]))    \n",
    "for key in trigramsHs2.keys():\n",
    "    topTHs2.append((key,trigramsHs2[key]))\n",
    "for key in trigramsHs3.keys():\n",
    "    topTHs3.append((key,trigramsHs3[key]))\n",
    "for key in trigramsHs4.keys():\n",
    "    topTHs4.append((key,trigramsHs4[key]))\n",
    "for key in trigramsHs5.keys():\n",
    "    topTHs5.append((key,trigramsHs5[key]))\n",
    "\n",
    "\n",
    "# finding top 10 keywords with preferance to larger length keywords in case of a tie\n",
    "\n",
    "topTHs1 = sorted(topTHs1,key=lambda x: (x[1], len(x[0])),reverse=True)    \n",
    "topTHs1= topTHs1[0:10]\n",
    "\n",
    "topTHs2 = sorted(topTHs2,key=lambda x: (x[1], len(x[0])),reverse=True)    \n",
    "topTHs2 = topTHs2[0:10]\n",
    "\n",
    "topTHs3 = sorted(topTHs3,key=lambda x: (x[1], len(x[0])),reverse=True)    \n",
    "topTHs3= topTHs3[0:10]\n",
    "\n",
    "topTHs4 = sorted(topTHs4,key=lambda x: (x[1], len(x[0])),reverse=True)    \n",
    "topTHs4 = topTHs4[0:10]\n",
    "\n",
    "topTHs5 = sorted(topTHs5,key=lambda x: (x[1], len(x[0])),reverse=True)    \n",
    "topTHs5 = topTHs5[0:10]"
   ]
  },
  {
   "cell_type": "code",
   "execution_count": 87,
   "metadata": {},
   "outputs": [
    {
     "name": "stdout",
     "output_type": "stream",
     "text": [
      "Top 10 Trigrams in High School Chat 1 with frequency: []\n",
      "Top 10 Trigrams in High School Chat 2 with frequency: []\n",
      "Top 10 Trigrams in High School Chat 3 with frequency: []\n",
      "Top 10 Trigrams in High School Chat 4 with frequency: []\n",
      "Top 10 Trigrams in High School Chat 5 with frequency: []\n"
     ]
    }
   ],
   "source": [
    "print('Top 10 Trigrams in High School Chat 1 with frequency: '+str(topTHs1))\n",
    "print('Top 10 Trigrams in High School Chat 2 with frequency: '+str(topTHs2))\n",
    "print('Top 10 Trigrams in High School Chat 3 with frequency: '+str(topTHs3))\n",
    "print('Top 10 Trigrams in High School Chat 4 with frequency: '+str(topTHs4))\n",
    "print('Top 10 Trigrams in High School Chat 5 with frequency: '+str(topTHs5))"
   ]
  },
  {
   "cell_type": "code",
   "execution_count": 88,
   "metadata": {},
   "outputs": [
    {
     "data": {
      "image/png": "[encoded data removed]",
      "text/plain": [
       "<Figure size 432x288 with 1 Axes>"
      ]
     },
     "metadata": {
      "needs_background": "light"
     },
     "output_type": "display_data"
    },
    {
     "data": {
      "image/png": "[encoded data removed]",
      "text/plain": [
       "<Figure size 432x288 with 1 Axes>"
      ]
     },
     "metadata": {
      "needs_background": "light"
     },
     "output_type": "display_data"
    },
    {
     "data": {
      "image/png": "[encoded data removed]",
      "text/plain": [
       "<Figure size 432x288 with 1 Axes>"
      ]
     },
     "metadata": {
      "needs_background": "light"
     },
     "output_type": "display_data"
    },
    {
     "data": {
      "image/png": "[encoded data removed]",
      "text/plain": [
       "<Figure size 432x288 with 1 Axes>"
      ]
     },
     "metadata": {
      "needs_background": "light"
     },
     "output_type": "display_data"
    },
    {
     "data": {
      "image/png": "[encoded data removed]",
      "text/plain": [
       "<Figure size 432x288 with 1 Axes>"
      ]
     },
     "metadata": {
      "needs_background": "light"
     },
     "output_type": "display_data"
    }
   ],
   "source": [
    "plot([val[0] for val in topTHs1],[val[1] for val in topTHs1],'High School Chat 1 Trigrams','Frequency',True,color='red',width = 0.5)\n",
    "plot([val[0] for val in topTHs2],[val[1] for val in topTHs2],'High School Chat 2 Trigrams','Frequency',True,color='blue',width = 0.5)\n",
    "plot([val[0] for val in topTHs3],[val[1] for val in topTHs3],'High School Chat 3 Trigrams','Frequency',True,color='orange',width = 0.5)\n",
    "plot([val[0] for val in topTHs4],[val[1] for val in topTHs4],'High School Chat 4 Trigrams','Frequency',True,color='green',width = 0.5)\n",
    "plot([val[0] for val in topTHs5],[val[1] for val in topTHs5],'High School Chat 5 Trigrams','Frequency',True,color='purple',width = 0.5)"
   ]
  },
  {
   "cell_type": "code",
   "execution_count": 89,
   "metadata": {},
   "outputs": [],
   "source": [
    "## As we can see max frequency is just 2, which makes trigram unsuitable for this project\n",
    "## Lets verify it here "
   ]
  },
  {
   "cell_type": "code",
   "execution_count": 90,
   "metadata": {},
   "outputs": [
    {
     "ename": "NameError",
     "evalue": "name 'trigramsHs1' is not defined",
     "output_type": "error",
     "traceback": [
      "\u001b[1;31m---------------------------------------------------------------------------\u001b[0m",
      "\u001b[1;31mNameError\u001b[0m                                 Traceback (most recent call last)",
      "\u001b[1;32m<ipython-input-90-6be9fe232a32>\u001b[0m in \u001b[0;36m<module>\u001b[1;34m\u001b[0m\n\u001b[0;32m      4\u001b[0m \u001b[1;33m\u001b[0m\u001b[0m\n\u001b[0;32m      5\u001b[0m \u001b[1;31m# calculating IDF for each bigram\u001b[0m\u001b[1;33m\u001b[0m\u001b[1;33m\u001b[0m\u001b[1;33m\u001b[0m\u001b[0m\n\u001b[1;32m----> 6\u001b[1;33m \u001b[0mIDF_HS_Trigram\u001b[0m \u001b[1;33m=\u001b[0m \u001b[0mcalcIDF\u001b[0m\u001b[1;33m(\u001b[0m\u001b[0mtrigramsHs\u001b[0m\u001b[1;33m,\u001b[0m\u001b[0mtrigramsHs1\u001b[0m\u001b[1;33m,\u001b[0m\u001b[0mtrigramsHs2\u001b[0m\u001b[1;33m,\u001b[0m\u001b[0mtrigramsHs3\u001b[0m\u001b[1;33m,\u001b[0m\u001b[0mtrigramsHs4\u001b[0m\u001b[1;33m,\u001b[0m\u001b[0mtrigramsHs5\u001b[0m\u001b[1;33m)\u001b[0m\u001b[1;33m\u001b[0m\u001b[1;33m\u001b[0m\u001b[0m\n\u001b[0m\u001b[0;32m      7\u001b[0m \u001b[1;31m# one hot encoding\u001b[0m\u001b[1;33m\u001b[0m\u001b[1;33m\u001b[0m\u001b[1;33m\u001b[0m\u001b[0m\n\u001b[0;32m      8\u001b[0m \u001b[0mOHE_HS_Trigram\u001b[0m \u001b[1;33m=\u001b[0m \u001b[0mohe\u001b[0m\u001b[1;33m(\u001b[0m\u001b[0mtrigramsHs\u001b[0m\u001b[1;33m,\u001b[0m\u001b[0mtrigramsHs1\u001b[0m\u001b[1;33m,\u001b[0m\u001b[0mtrigramsHs2\u001b[0m\u001b[1;33m,\u001b[0m\u001b[0mtrigramsHs3\u001b[0m\u001b[1;33m,\u001b[0m\u001b[0mtrigramsHs4\u001b[0m\u001b[1;33m,\u001b[0m\u001b[0mtrigramsHs5\u001b[0m\u001b[1;33m)\u001b[0m\u001b[1;33m\u001b[0m\u001b[1;33m\u001b[0m\u001b[0m\n",
      "\u001b[1;31mNameError\u001b[0m: name 'trigramsHs1' is not defined"
     ]
    }
   ],
   "source": [
    "# assigning an index to all keywords\n",
    "trigramsHs = assignIndex(topTHs1,topTHs2,topTHs3,topTHs4,topTHs5)\n",
    "\n",
    "\n",
    "# calculating IDF for each bigram\n",
    "IDF_HS_Trigram = calcIDF(trigramsHs,trigramsHs1,trigramsHs2,trigramsHs3,trigramsHs4,trigramsHs5)\n",
    "# one hot encoding\n",
    "OHE_HS_Trigram = ohe(trigramsHs,trigramsHs1,trigramsHs2,trigramsHs3,trigramsHs4,trigramsHs5)\n",
    "# term frequency\n",
    "TF_HS_Trigram = tf(trigramsHs,trigramsHs1,trigramsHs2,trigramsHs3,trigramsHs4,trigramsHs5)\n",
    "# term frequency, inverse dense frequency\n",
    "TFIDF_HS_Trigram = tfidf(trigramsHs,trigramsHs1,trigramsHs2,trigramsHs3,trigramsHs4,trigramsHs5,IDF_HS_Trigram)\n"
   ]
  },
  {
   "cell_type": "code",
   "execution_count": 91,
   "metadata": {},
   "outputs": [
    {
     "ename": "NameError",
     "evalue": "name 'OHE_HS_Trigram' is not defined",
     "output_type": "error",
     "traceback": [
      "\u001b[1;31m---------------------------------------------------------------------------\u001b[0m",
      "\u001b[1;31mNameError\u001b[0m                                 Traceback (most recent call last)",
      "\u001b[1;32m<ipython-input-91-4a1607b185aa>\u001b[0m in \u001b[0;36m<module>\u001b[1;34m\u001b[0m\n\u001b[0;32m      2\u001b[0m \u001b[0msorted_keys_HS_trigram\u001b[0m\u001b[1;33m=\u001b[0m\u001b[0mlist\u001b[0m\u001b[1;33m(\u001b[0m\u001b[0mtrigramsHs\u001b[0m\u001b[1;33m)\u001b[0m\u001b[1;33m\u001b[0m\u001b[1;33m\u001b[0m\u001b[0m\n\u001b[0;32m      3\u001b[0m \u001b[1;33m\u001b[0m\u001b[0m\n\u001b[1;32m----> 4\u001b[1;33m \u001b[0mstoreOHE\u001b[0m\u001b[1;33m(\u001b[0m\u001b[0mOHE_HS_Trigram\u001b[0m\u001b[1;33m,\u001b[0m\u001b[0mtrigramsHs\u001b[0m\u001b[1;33m,\u001b[0m\u001b[1;34m'High_School_OHE_Trigram.txt'\u001b[0m\u001b[1;33m,\u001b[0m\u001b[0msorted_keys_HS_trigram\u001b[0m\u001b[1;33m)\u001b[0m\u001b[1;33m\u001b[0m\u001b[1;33m\u001b[0m\u001b[0m\n\u001b[0m\u001b[0;32m      5\u001b[0m \u001b[0mstoreTF\u001b[0m\u001b[1;33m(\u001b[0m\u001b[0mTF_HS_Trigram\u001b[0m\u001b[1;33m,\u001b[0m\u001b[0mtrigramsHs\u001b[0m\u001b[1;33m,\u001b[0m\u001b[1;34m'High_School_TF_Trigram.txt'\u001b[0m\u001b[1;33m,\u001b[0m\u001b[0msorted_keys_HS_trigram\u001b[0m\u001b[1;33m)\u001b[0m\u001b[1;33m\u001b[0m\u001b[1;33m\u001b[0m\u001b[0m\n\u001b[0;32m      6\u001b[0m \u001b[0mstoreTFIDF\u001b[0m\u001b[1;33m(\u001b[0m\u001b[0mTFIDF_HS_Trigram\u001b[0m\u001b[1;33m,\u001b[0m\u001b[0mtrigramsHs\u001b[0m\u001b[1;33m,\u001b[0m\u001b[1;34m'High_School_TFIDF_Trigram.txt'\u001b[0m\u001b[1;33m,\u001b[0m\u001b[0msorted_keys_HS_trigram\u001b[0m\u001b[1;33m)\u001b[0m\u001b[1;33m\u001b[0m\u001b[1;33m\u001b[0m\u001b[0m\n",
      "\u001b[1;31mNameError\u001b[0m: name 'OHE_HS_Trigram' is not defined"
     ]
    }
   ],
   "source": [
    "# making a list of keys sorted by index\n",
    "sorted_keys_HS_trigram=list(trigramsHs)\n",
    "\n",
    "storeOHE(OHE_HS_Trigram,trigramsHs,'High_School_OHE_Trigram.txt',sorted_keys_HS_trigram)\n",
    "storeTF(TF_HS_Trigram,trigramsHs,'High_School_TF_Trigram.txt',sorted_keys_HS_trigram)\n",
    "storeTFIDF(TFIDF_HS_Trigram,trigramsHs,'High_School_TFIDF_Trigram.txt',sorted_keys_HS_trigram)"
   ]
  },
  {
   "cell_type": "code",
   "execution_count": 92,
   "metadata": {},
   "outputs": [
    {
     "name": "stdout",
     "output_type": "stream",
     "text": [
      "\n",
      "OHE_HS Trigram Matrix\n"
     ]
    },
    {
     "ename": "NameError",
     "evalue": "name 'OHE_HS_Trigram' is not defined",
     "output_type": "error",
     "traceback": [
      "\u001b[1;31m---------------------------------------------------------------------------\u001b[0m",
      "\u001b[1;31mNameError\u001b[0m                                 Traceback (most recent call last)",
      "\u001b[1;32m<ipython-input-92-6be20926998f>\u001b[0m in \u001b[0;36m<module>\u001b[1;34m\u001b[0m\n\u001b[0;32m      2\u001b[0m \u001b[1;33m\u001b[0m\u001b[0m\n\u001b[0;32m      3\u001b[0m \u001b[1;31m# printing all 3 matrices\u001b[0m\u001b[1;33m\u001b[0m\u001b[1;33m\u001b[0m\u001b[1;33m\u001b[0m\u001b[0m\n\u001b[1;32m----> 4\u001b[1;33m \u001b[1;32mfor\u001b[0m \u001b[0mrow\u001b[0m \u001b[1;32min\u001b[0m \u001b[0mOHE_HS_Trigram\u001b[0m\u001b[1;33m:\u001b[0m\u001b[1;33m\u001b[0m\u001b[1;33m\u001b[0m\u001b[0m\n\u001b[0m\u001b[0;32m      5\u001b[0m     \u001b[0mprint\u001b[0m\u001b[1;33m(\u001b[0m\u001b[0mrow\u001b[0m\u001b[1;33m)\u001b[0m\u001b[1;33m\u001b[0m\u001b[1;33m\u001b[0m\u001b[0m\n",
      "\u001b[1;31mNameError\u001b[0m: name 'OHE_HS_Trigram' is not defined"
     ]
    }
   ],
   "source": [
    "print('\\nOHE_HS Trigram Matrix')\n",
    "\n",
    "# printing all 3 matrices\n",
    "for row in OHE_HS_Trigram:\n",
    "    print(row)"
   ]
  },
  {
   "cell_type": "code",
   "execution_count": 93,
   "metadata": {},
   "outputs": [
    {
     "name": "stdout",
     "output_type": "stream",
     "text": [
      "\n",
      "TF_HS Trigram Matrix\n"
     ]
    },
    {
     "ename": "NameError",
     "evalue": "name 'TF_HS_Trigram' is not defined",
     "output_type": "error",
     "traceback": [
      "\u001b[1;31m---------------------------------------------------------------------------\u001b[0m",
      "\u001b[1;31mNameError\u001b[0m                                 Traceback (most recent call last)",
      "\u001b[1;32m<ipython-input-93-b8047f557a53>\u001b[0m in \u001b[0;36m<module>\u001b[1;34m\u001b[0m\n\u001b[0;32m      1\u001b[0m \u001b[0mprint\u001b[0m\u001b[1;33m(\u001b[0m\u001b[1;34m'\\nTF_HS Trigram Matrix'\u001b[0m\u001b[1;33m)\u001b[0m\u001b[1;33m\u001b[0m\u001b[1;33m\u001b[0m\u001b[0m\n\u001b[0;32m      2\u001b[0m \u001b[1;33m\u001b[0m\u001b[0m\n\u001b[1;32m----> 3\u001b[1;33m \u001b[1;32mfor\u001b[0m \u001b[0mrow\u001b[0m \u001b[1;32min\u001b[0m \u001b[0mTF_HS_Trigram\u001b[0m\u001b[1;33m:\u001b[0m\u001b[1;33m\u001b[0m\u001b[1;33m\u001b[0m\u001b[0m\n\u001b[0m\u001b[0;32m      4\u001b[0m     \u001b[0mprint\u001b[0m\u001b[1;33m(\u001b[0m\u001b[0mrow\u001b[0m\u001b[1;33m)\u001b[0m\u001b[1;33m\u001b[0m\u001b[1;33m\u001b[0m\u001b[0m\n",
      "\u001b[1;31mNameError\u001b[0m: name 'TF_HS_Trigram' is not defined"
     ]
    }
   ],
   "source": [
    "print('\\nTF_HS Trigram Matrix')\n",
    "    \n",
    "for row in TF_HS_Trigram:\n",
    "    print(row)"
   ]
  },
  {
   "cell_type": "code",
   "execution_count": 94,
   "metadata": {},
   "outputs": [
    {
     "name": "stdout",
     "output_type": "stream",
     "text": [
      "\n",
      "TF-IDF_HS Trigram Matrix\n"
     ]
    },
    {
     "ename": "NameError",
     "evalue": "name 'TFIDF_HS_Trigram' is not defined",
     "output_type": "error",
     "traceback": [
      "\u001b[1;31m---------------------------------------------------------------------------\u001b[0m",
      "\u001b[1;31mNameError\u001b[0m                                 Traceback (most recent call last)",
      "\u001b[1;32m<ipython-input-94-342eee025e02>\u001b[0m in \u001b[0;36m<module>\u001b[1;34m\u001b[0m\n\u001b[0;32m      1\u001b[0m \u001b[0mprint\u001b[0m\u001b[1;33m(\u001b[0m\u001b[1;34m'\\nTF-IDF_HS Trigram Matrix'\u001b[0m\u001b[1;33m)\u001b[0m\u001b[1;33m\u001b[0m\u001b[1;33m\u001b[0m\u001b[0m\n\u001b[0;32m      2\u001b[0m \u001b[1;33m\u001b[0m\u001b[0m\n\u001b[1;32m----> 3\u001b[1;33m \u001b[1;32mfor\u001b[0m \u001b[0mrow\u001b[0m \u001b[1;32min\u001b[0m \u001b[0mTFIDF_HS_Trigram\u001b[0m\u001b[1;33m:\u001b[0m\u001b[1;33m\u001b[0m\u001b[1;33m\u001b[0m\u001b[0m\n\u001b[0m\u001b[0;32m      4\u001b[0m     \u001b[0mprint\u001b[0m\u001b[1;33m(\u001b[0m\u001b[1;34m'['\u001b[0m\u001b[1;33m,\u001b[0m\u001b[0mend\u001b[0m\u001b[1;33m=\u001b[0m\u001b[1;34m''\u001b[0m\u001b[1;33m)\u001b[0m\u001b[1;33m\u001b[0m\u001b[1;33m\u001b[0m\u001b[0m\n\u001b[0;32m      5\u001b[0m     \u001b[1;32mfor\u001b[0m \u001b[0mele\u001b[0m \u001b[1;32min\u001b[0m \u001b[0mrow\u001b[0m\u001b[1;33m:\u001b[0m\u001b[1;33m\u001b[0m\u001b[1;33m\u001b[0m\u001b[0m\n",
      "\u001b[1;31mNameError\u001b[0m: name 'TFIDF_HS_Trigram' is not defined"
     ]
    }
   ],
   "source": [
    "print('\\nTF-IDF_HS Trigram Matrix')\n",
    "\n",
    "for row in TFIDF_HS_Trigram:\n",
    "    print('[',end='')\n",
    "    for ele in row:\n",
    "        print(round(ele,3),end=', ')\n",
    "    print(']')"
   ]
  },
  {
   "cell_type": "code",
   "execution_count": 95,
   "metadata": {},
   "outputs": [
    {
     "ename": "NameError",
     "evalue": "name 'clgdf1' is not defined",
     "output_type": "error",
     "traceback": [
      "\u001b[1;31m---------------------------------------------------------------------------\u001b[0m",
      "\u001b[1;31mNameError\u001b[0m                                 Traceback (most recent call last)",
      "\u001b[1;32m<ipython-input-95-aa800bd212a7>\u001b[0m in \u001b[0;36m<module>\u001b[1;34m\u001b[0m\n\u001b[0;32m      2\u001b[0m \u001b[1;33m\u001b[0m\u001b[0m\n\u001b[0;32m      3\u001b[0m \u001b[1;33m\u001b[0m\u001b[0m\n\u001b[1;32m----> 4\u001b[1;33m \u001b[0mtrigramsClg1\u001b[0m \u001b[1;33m=\u001b[0m \u001b[0mprepare\u001b[0m\u001b[1;33m(\u001b[0m\u001b[0mclgdf1\u001b[0m\u001b[1;33m)\u001b[0m\u001b[1;33m\u001b[0m\u001b[1;33m\u001b[0m\u001b[0m\n\u001b[0m\u001b[0;32m      5\u001b[0m \u001b[0mtrigramsClg2\u001b[0m \u001b[1;33m=\u001b[0m \u001b[0mprepare\u001b[0m\u001b[1;33m(\u001b[0m\u001b[0mclgdf2\u001b[0m\u001b[1;33m)\u001b[0m\u001b[1;33m\u001b[0m\u001b[1;33m\u001b[0m\u001b[0m\n\u001b[0;32m      6\u001b[0m \u001b[0mtrigramsClg3\u001b[0m \u001b[1;33m=\u001b[0m \u001b[0mprepare\u001b[0m\u001b[1;33m(\u001b[0m\u001b[0mclgdf3\u001b[0m\u001b[1;33m)\u001b[0m\u001b[1;33m\u001b[0m\u001b[1;33m\u001b[0m\u001b[0m\n",
      "\u001b[1;31mNameError\u001b[0m: name 'clgdf1' is not defined"
     ]
    }
   ],
   "source": [
    "\"\"\" College \"\"\"\n",
    "\n",
    "\n",
    "trigramsClg1 = prepare(clgdf1)\n",
    "trigramsClg2 = prepare(clgdf2)\n",
    "trigramsClg3 = prepare(clgdf3)\n",
    "trigramsClg4 = prepare(clgdf4)\n",
    "trigramsClg5 = prepare(clgdf5)\n",
    "\n",
    "trigramsClg1=countTrigrams(trigramsClg1)\n",
    "trigramsClg2=countTrigrams(trigramsClg2)\n",
    "trigramsClg3=countTrigrams(trigramsClg3)\n",
    "trigramsClg4=countTrigrams(trigramsClg4)\n",
    "trigramsClg5=countTrigrams(trigramsClg5)\n",
    "\n",
    "topTClg1=[]\n",
    "topTClg2=[]\n",
    "topTClg3=[]\n",
    "topTClg4=[]\n",
    "topTClg5=[]\n",
    "topTClg6=[]\n",
    "\n",
    "\n",
    "for key in trigramsClg1.keys():\n",
    "    topTClg1.append((key,trigramsClg1[key]))    \n",
    "for key in trigramsClg2.keys():\n",
    "    topTClg2.append((key,trigramsClg2[key]))\n",
    "for key in trigramsClg3.keys():\n",
    "    topTClg3.append((key,trigramsClg3[key]))\n",
    "for key in trigramsClg4.keys():\n",
    "    topTClg4.append((key,trigramsClg4[key]))\n",
    "for key in trigramsClg5.keys():\n",
    "    topTClg5.append((key,trigramsClg5[key]))\n",
    "\n",
    "\n",
    "# finding top 10 keywords with preferance to larger length keywords in case of a tie\n",
    "\n",
    "topTClg1 = sorted(topTClg1,key=lambda x: (x[1], len(x[0])),reverse=True)    \n",
    "topTClg1= topTClg1[0:10]\n",
    "\n",
    "topTClg2 = sorted(topTClg2,key=lambda x: (x[1], len(x[0])),reverse=True)    \n",
    "topTClg2 = topTClg2[0:10]\n",
    "\n",
    "topTClg3 = sorted(topTClg3,key=lambda x: (x[1], len(x[0])),reverse=True)    \n",
    "topTClg3= topTClg3[0:10]\n",
    "\n",
    "topTClg4 = sorted(topTClg4,key=lambda x: (x[1], len(x[0])),reverse=True)    \n",
    "topTClg4 = topTClg4[0:10]\n",
    "\n",
    "topTClg5 = sorted(topTClg5,key=lambda x: (x[1], len(x[0])),reverse=True)    \n",
    "topTClg5 = topTClg5[0:10]"
   ]
  },
  {
   "cell_type": "code",
   "execution_count": 97,
   "metadata": {},
   "outputs": [
    {
     "name": "stdout",
     "output_type": "stream",
     "text": [
      "Top 10 Trigrams in College Chat 1 with frequency: []\n",
      "Top 10 Trigrams in College Chat 2 with frequency: []\n",
      "Top 10 Trigrams in College Chat 3 with frequency: []\n",
      "Top 10 Trigrams in College Chat 4 with frequency: []\n",
      "Top 10 Trigrams in College Chat 5 with frequency: []\n"
     ]
    }
   ],
   "source": [
    "print('Top 10 Trigrams in College Chat 1 with frequency: '+str(topTClg1))\n",
    "print('Top 10 Trigrams in College Chat 2 with frequency: '+str(topTClg2))\n",
    "print('Top 10 Trigrams in College Chat 3 with frequency: '+str(topTClg3))\n",
    "print('Top 10 Trigrams in College Chat 4 with frequency: '+str(topTClg4))\n",
    "print('Top 10 Trigrams in College Chat 5 with frequency: '+str(topTClg5))"
   ]
  },
  {
   "cell_type": "code",
   "execution_count": 98,
   "metadata": {},
   "outputs": [
    {
     "data": {
      "image/png": "[encoded data removed]",
      "text/plain": [
       "<Figure size 432x288 with 1 Axes>"
      ]
     },
     "metadata": {
      "needs_background": "light"
     },
     "output_type": "display_data"
    },
    {
     "data": {
      "image/png": "[encoded data removed]",
      "text/plain": [
       "<Figure size 432x288 with 1 Axes>"
      ]
     },
     "metadata": {
      "needs_background": "light"
     },
     "output_type": "display_data"
    },
    {
     "data": {
      "image/png": "[encoded data removed]",
      "text/plain": [
       "<Figure size 432x288 with 1 Axes>"
      ]
     },
     "metadata": {
      "needs_background": "light"
     },
     "output_type": "display_data"
    },
    {
     "data": {
      "image/png": "[encoded data removed]",
      "text/plain": [
       "<Figure size 432x288 with 1 Axes>"
      ]
     },
     "metadata": {
      "needs_background": "light"
     },
     "output_type": "display_data"
    },
    {
     "data": {
      "image/png": "[encoded data removed]",
      "text/plain": [
       "<Figure size 432x288 with 1 Axes>"
      ]
     },
     "metadata": {
      "needs_background": "light"
     },
     "output_type": "display_data"
    }
   ],
   "source": [
    "plot([val[0] for val in topTClg1],[val[1] for val in topTClg1],'College Chat 1 Trigrams','Frequency',True,color='red',width = 0.5)\n",
    "plot([val[0] for val in topTClg2],[val[1] for val in topTClg2],'College Chat 2 Trigrams','Frequency',True,color='blue',width = 0.5)\n",
    "plot([val[0] for val in topTClg3],[val[1] for val in topTClg3],'College Chat 3 Trigrams','Frequency',True,color='orange',width = 0.5)\n",
    "plot([val[0] for val in topTClg4],[val[1] for val in topTClg4],'College Chat 4 Trigrams','Frequency',True,color='green',width = 0.5)\n",
    "plot([val[0] for val in topTClg5],[val[1] for val in topTClg5],'College Chat 5 Trigrams','Frequency',True,color='purple',width = 0.5)"
   ]
  },
  {
   "cell_type": "code",
   "execution_count": 99,
   "metadata": {},
   "outputs": [
    {
     "ename": "NameError",
     "evalue": "name 'trigramsClg1' is not defined",
     "output_type": "error",
     "traceback": [
      "\u001b[1;31m---------------------------------------------------------------------------\u001b[0m",
      "\u001b[1;31mNameError\u001b[0m                                 Traceback (most recent call last)",
      "\u001b[1;32m<ipython-input-99-412836f9f1cc>\u001b[0m in \u001b[0;36m<module>\u001b[1;34m\u001b[0m\n\u001b[0;32m      7\u001b[0m \u001b[1;31m# calculating IDF for each trigram\u001b[0m\u001b[1;33m\u001b[0m\u001b[1;33m\u001b[0m\u001b[1;33m\u001b[0m\u001b[0m\n\u001b[0;32m      8\u001b[0m \u001b[1;33m\u001b[0m\u001b[0m\n\u001b[1;32m----> 9\u001b[1;33m \u001b[0mIDF_CLG_Trigram\u001b[0m \u001b[1;33m=\u001b[0m \u001b[0mcalcIDF\u001b[0m\u001b[1;33m(\u001b[0m\u001b[0mtrigramsClg\u001b[0m\u001b[1;33m,\u001b[0m\u001b[0mtrigramsClg1\u001b[0m\u001b[1;33m,\u001b[0m\u001b[0mtrigramsClg2\u001b[0m\u001b[1;33m,\u001b[0m\u001b[0mtrigramsClg3\u001b[0m\u001b[1;33m,\u001b[0m\u001b[0mtrigramsClg4\u001b[0m\u001b[1;33m,\u001b[0m\u001b[0mtrigramsClg5\u001b[0m\u001b[1;33m)\u001b[0m\u001b[1;33m\u001b[0m\u001b[1;33m\u001b[0m\u001b[0m\n\u001b[0m\u001b[0;32m     10\u001b[0m \u001b[1;33m\u001b[0m\u001b[0m\n\u001b[0;32m     11\u001b[0m \u001b[1;31m# one hot encoding\u001b[0m\u001b[1;33m\u001b[0m\u001b[1;33m\u001b[0m\u001b[1;33m\u001b[0m\u001b[0m\n",
      "\u001b[1;31mNameError\u001b[0m: name 'trigramsClg1' is not defined"
     ]
    }
   ],
   "source": [
    "# assigning an index to all keywords\n",
    "\n",
    "trigramsClg = assignIndex(topTClg1,topTClg2,topTClg3,topTClg4,topTClg5)\n",
    "        \n",
    "\n",
    "        \n",
    "# calculating IDF for each trigram\n",
    "\n",
    "IDF_CLG_Trigram = calcIDF(trigramsClg,trigramsClg1,trigramsClg2,trigramsClg3,trigramsClg4,trigramsClg5)\n",
    "\n",
    "# one hot encoding\n",
    "OHE_CLG_Trigram = ohe(trigramsClg,trigramsClg1,trigramsClg2,trigramsClg3,trigramsClg4,trigramsClg5)\n",
    "# term frequency\n",
    "TF_CLG_Trigram = tf(trigramsClg,trigramsClg1,trigramsClg2,trigramsClg3,trigramsClg4,trigramsClg5)\n",
    "# term frequency, inverse dense frequency\n",
    "TFIDF_CLG_Trigram = tfidf(trigramsClg,trigramsClg1,trigramsClg2,trigramsClg3,trigramsClg4,trigramsClg5,IDF_CLG_Trigram)"
   ]
  },
  {
   "cell_type": "code",
   "execution_count": 100,
   "metadata": {},
   "outputs": [
    {
     "ename": "NameError",
     "evalue": "name 'OHE_CLG_Trigram' is not defined",
     "output_type": "error",
     "traceback": [
      "\u001b[1;31m---------------------------------------------------------------------------\u001b[0m",
      "\u001b[1;31mNameError\u001b[0m                                 Traceback (most recent call last)",
      "\u001b[1;32m<ipython-input-100-40b0a21b917a>\u001b[0m in \u001b[0;36m<module>\u001b[1;34m\u001b[0m\n\u001b[0;32m      2\u001b[0m \u001b[0msorted_keys_CLG_trigram\u001b[0m\u001b[1;33m=\u001b[0m\u001b[0mlist\u001b[0m\u001b[1;33m(\u001b[0m\u001b[0mtrigramsClg\u001b[0m\u001b[1;33m)\u001b[0m\u001b[1;33m\u001b[0m\u001b[1;33m\u001b[0m\u001b[0m\n\u001b[0;32m      3\u001b[0m \u001b[1;33m\u001b[0m\u001b[0m\n\u001b[1;32m----> 4\u001b[1;33m \u001b[0mstoreOHE\u001b[0m\u001b[1;33m(\u001b[0m\u001b[0mOHE_CLG_Trigram\u001b[0m\u001b[1;33m,\u001b[0m\u001b[0mtrigramsClg\u001b[0m\u001b[1;33m,\u001b[0m\u001b[1;34m'College_OHE_Trigram.txt'\u001b[0m\u001b[1;33m,\u001b[0m\u001b[0msorted_keys_CLG_trigram\u001b[0m\u001b[1;33m)\u001b[0m\u001b[1;33m\u001b[0m\u001b[1;33m\u001b[0m\u001b[0m\n\u001b[0m\u001b[0;32m      5\u001b[0m \u001b[0mstoreTF\u001b[0m\u001b[1;33m(\u001b[0m\u001b[0mTF_CLG_Trigram\u001b[0m\u001b[1;33m,\u001b[0m\u001b[0mtrigramsClg\u001b[0m\u001b[1;33m,\u001b[0m\u001b[1;34m'College_TF_Trigram.txt'\u001b[0m\u001b[1;33m,\u001b[0m\u001b[0msorted_keys_CLG_trigram\u001b[0m\u001b[1;33m)\u001b[0m\u001b[1;33m\u001b[0m\u001b[1;33m\u001b[0m\u001b[0m\n\u001b[0;32m      6\u001b[0m \u001b[0mstoreTFIDF\u001b[0m\u001b[1;33m(\u001b[0m\u001b[0mTFIDF_CLG_Trigram\u001b[0m\u001b[1;33m,\u001b[0m\u001b[0mtrigramsClg\u001b[0m\u001b[1;33m,\u001b[0m\u001b[1;34m'College_TFIDF_Trigram.txt'\u001b[0m\u001b[1;33m,\u001b[0m\u001b[0msorted_keys_CLG_trigram\u001b[0m\u001b[1;33m)\u001b[0m\u001b[1;33m\u001b[0m\u001b[1;33m\u001b[0m\u001b[0m\n",
      "\u001b[1;31mNameError\u001b[0m: name 'OHE_CLG_Trigram' is not defined"
     ]
    }
   ],
   "source": [
    "# making a list of keys sorted by index\n",
    "sorted_keys_CLG_trigram=list(trigramsClg)\n",
    "\n",
    "storeOHE(OHE_CLG_Trigram,trigramsClg,'College_OHE_Trigram.txt',sorted_keys_CLG_trigram)\n",
    "storeTF(TF_CLG_Trigram,trigramsClg,'College_TF_Trigram.txt',sorted_keys_CLG_trigram)\n",
    "storeTFIDF(TFIDF_CLG_Trigram,trigramsClg,'College_TFIDF_Trigram.txt',sorted_keys_CLG_trigram)"
   ]
  },
  {
   "cell_type": "code",
   "execution_count": 101,
   "metadata": {},
   "outputs": [
    {
     "name": "stdout",
     "output_type": "stream",
     "text": [
      "\n",
      "OHE_CLG Trigram Matrix\n"
     ]
    },
    {
     "ename": "NameError",
     "evalue": "name 'OHE_CLG_Trigram' is not defined",
     "output_type": "error",
     "traceback": [
      "\u001b[1;31m---------------------------------------------------------------------------\u001b[0m",
      "\u001b[1;31mNameError\u001b[0m                                 Traceback (most recent call last)",
      "\u001b[1;32m<ipython-input-101-9b255e928ea7>\u001b[0m in \u001b[0;36m<module>\u001b[1;34m\u001b[0m\n\u001b[0;32m      2\u001b[0m \u001b[1;33m\u001b[0m\u001b[0m\n\u001b[0;32m      3\u001b[0m \u001b[1;31m# printing all 3 matrices\u001b[0m\u001b[1;33m\u001b[0m\u001b[1;33m\u001b[0m\u001b[1;33m\u001b[0m\u001b[0m\n\u001b[1;32m----> 4\u001b[1;33m \u001b[1;32mfor\u001b[0m \u001b[0mrow\u001b[0m \u001b[1;32min\u001b[0m \u001b[0mOHE_CLG_Trigram\u001b[0m\u001b[1;33m:\u001b[0m\u001b[1;33m\u001b[0m\u001b[1;33m\u001b[0m\u001b[0m\n\u001b[0m\u001b[0;32m      5\u001b[0m     \u001b[0mprint\u001b[0m\u001b[1;33m(\u001b[0m\u001b[0mrow\u001b[0m\u001b[1;33m)\u001b[0m\u001b[1;33m\u001b[0m\u001b[1;33m\u001b[0m\u001b[0m\n",
      "\u001b[1;31mNameError\u001b[0m: name 'OHE_CLG_Trigram' is not defined"
     ]
    }
   ],
   "source": [
    "print('\\nOHE_CLG Trigram Matrix')\n",
    "\n",
    "# printing all 3 matrices\n",
    "for row in OHE_CLG_Trigram:\n",
    "    print(row)"
   ]
  },
  {
   "cell_type": "code",
   "execution_count": 102,
   "metadata": {},
   "outputs": [
    {
     "name": "stdout",
     "output_type": "stream",
     "text": [
      "\n",
      "TF_CLG Trigram Matrix\n"
     ]
    },
    {
     "ename": "NameError",
     "evalue": "name 'TF_CLG_Trigram' is not defined",
     "output_type": "error",
     "traceback": [
      "\u001b[1;31m---------------------------------------------------------------------------\u001b[0m",
      "\u001b[1;31mNameError\u001b[0m                                 Traceback (most recent call last)",
      "\u001b[1;32m<ipython-input-102-f9fafb70db7e>\u001b[0m in \u001b[0;36m<module>\u001b[1;34m\u001b[0m\n\u001b[0;32m      1\u001b[0m \u001b[0mprint\u001b[0m\u001b[1;33m(\u001b[0m\u001b[1;34m'\\nTF_CLG Trigram Matrix'\u001b[0m\u001b[1;33m)\u001b[0m\u001b[1;33m\u001b[0m\u001b[1;33m\u001b[0m\u001b[0m\n\u001b[0;32m      2\u001b[0m \u001b[1;33m\u001b[0m\u001b[0m\n\u001b[1;32m----> 3\u001b[1;33m \u001b[1;32mfor\u001b[0m \u001b[0mrow\u001b[0m \u001b[1;32min\u001b[0m \u001b[0mTF_CLG_Trigram\u001b[0m\u001b[1;33m:\u001b[0m\u001b[1;33m\u001b[0m\u001b[1;33m\u001b[0m\u001b[0m\n\u001b[0m\u001b[0;32m      4\u001b[0m     \u001b[0mprint\u001b[0m\u001b[1;33m(\u001b[0m\u001b[0mrow\u001b[0m\u001b[1;33m)\u001b[0m\u001b[1;33m\u001b[0m\u001b[1;33m\u001b[0m\u001b[0m\n",
      "\u001b[1;31mNameError\u001b[0m: name 'TF_CLG_Trigram' is not defined"
     ]
    }
   ],
   "source": [
    "    \n",
    "print('\\nTF_CLG Trigram Matrix')\n",
    "    \n",
    "for row in TF_CLG_Trigram:\n",
    "    print(row)"
   ]
  },
  {
   "cell_type": "code",
   "execution_count": 103,
   "metadata": {},
   "outputs": [
    {
     "name": "stdout",
     "output_type": "stream",
     "text": [
      "\n",
      "TF-IDF_CLG Trigram Matrix\n"
     ]
    },
    {
     "ename": "NameError",
     "evalue": "name 'TFIDF_CLG_Trigram' is not defined",
     "output_type": "error",
     "traceback": [
      "\u001b[1;31m---------------------------------------------------------------------------\u001b[0m",
      "\u001b[1;31mNameError\u001b[0m                                 Traceback (most recent call last)",
      "\u001b[1;32m<ipython-input-103-61a3ea4b4094>\u001b[0m in \u001b[0;36m<module>\u001b[1;34m\u001b[0m\n\u001b[0;32m      1\u001b[0m \u001b[0mprint\u001b[0m\u001b[1;33m(\u001b[0m\u001b[1;34m'\\nTF-IDF_CLG Trigram Matrix'\u001b[0m\u001b[1;33m)\u001b[0m\u001b[1;33m\u001b[0m\u001b[1;33m\u001b[0m\u001b[0m\n\u001b[0;32m      2\u001b[0m \u001b[1;33m\u001b[0m\u001b[0m\n\u001b[1;32m----> 3\u001b[1;33m \u001b[1;32mfor\u001b[0m \u001b[0mrow\u001b[0m \u001b[1;32min\u001b[0m \u001b[0mTFIDF_CLG_Trigram\u001b[0m\u001b[1;33m:\u001b[0m\u001b[1;33m\u001b[0m\u001b[1;33m\u001b[0m\u001b[0m\n\u001b[0m\u001b[0;32m      4\u001b[0m     \u001b[0mprint\u001b[0m\u001b[1;33m(\u001b[0m\u001b[1;34m'['\u001b[0m\u001b[1;33m,\u001b[0m\u001b[0mend\u001b[0m\u001b[1;33m=\u001b[0m\u001b[1;34m''\u001b[0m\u001b[1;33m)\u001b[0m\u001b[1;33m\u001b[0m\u001b[1;33m\u001b[0m\u001b[0m\n\u001b[0;32m      5\u001b[0m     \u001b[1;32mfor\u001b[0m \u001b[0mele\u001b[0m \u001b[1;32min\u001b[0m \u001b[0mrow\u001b[0m\u001b[1;33m:\u001b[0m\u001b[1;33m\u001b[0m\u001b[1;33m\u001b[0m\u001b[0m\n",
      "\u001b[1;31mNameError\u001b[0m: name 'TFIDF_CLG_Trigram' is not defined"
     ]
    }
   ],
   "source": [
    "print('\\nTF-IDF_CLG Trigram Matrix')\n",
    "\n",
    "for row in TFIDF_CLG_Trigram:\n",
    "    print('[',end='')\n",
    "    for ele in row:\n",
    "        print(round(ele,3),end=', ')\n",
    "    print(']')"
   ]
  },
  {
   "cell_type": "code",
   "execution_count": 104,
   "metadata": {},
   "outputs": [
    {
     "ename": "NameError",
     "evalue": "name 'TFIDF_HS_Trigram' is not defined",
     "output_type": "error",
     "traceback": [
      "\u001b[1;31m---------------------------------------------------------------------------\u001b[0m",
      "\u001b[1;31mNameError\u001b[0m                                 Traceback (most recent call last)",
      "\u001b[1;32m<ipython-input-104-5e3edd4ec793>\u001b[0m in \u001b[0;36m<module>\u001b[1;34m\u001b[0m\n\u001b[0;32m      4\u001b[0m \u001b[1;33m\u001b[0m\u001b[0m\n\u001b[0;32m      5\u001b[0m \u001b[1;33m\u001b[0m\u001b[0m\n\u001b[1;32m----> 6\u001b[1;33m \u001b[0mtrain\u001b[0m \u001b[1;33m=\u001b[0m \u001b[0mTFIDF_HS_Trigram\u001b[0m\u001b[1;33m\u001b[0m\u001b[1;33m\u001b[0m\u001b[0m\n\u001b[0m\u001b[0;32m      7\u001b[0m \u001b[0mtest\u001b[0m \u001b[1;33m=\u001b[0m \u001b[0mTFIDF_CLG_Trigram\u001b[0m\u001b[1;33m\u001b[0m\u001b[1;33m\u001b[0m\u001b[0m\n\u001b[0;32m      8\u001b[0m \u001b[0ml1\u001b[0m \u001b[1;33m=\u001b[0m \u001b[0mlen\u001b[0m\u001b[1;33m(\u001b[0m\u001b[0mtest\u001b[0m\u001b[1;33m[\u001b[0m\u001b[1;36m0\u001b[0m\u001b[1;33m]\u001b[0m\u001b[1;33m)\u001b[0m\u001b[1;33m\u001b[0m\u001b[1;33m\u001b[0m\u001b[0m\n",
      "\u001b[1;31mNameError\u001b[0m: name 'TFIDF_HS_Trigram' is not defined"
     ]
    }
   ],
   "source": [
    "\"\"\" Cosine Similarity in High School and College Keywords in BOP \"\"\"\n",
    "\n",
    "\"\"\" Hs vs CLG \"\"\"\n",
    "\n",
    "\n",
    "train = TFIDF_HS_Trigram\n",
    "test = TFIDF_CLG_Trigram\n",
    "l1 = len(test[0])\n",
    "l2 = len(train[0])\n",
    "# managed different lenghts according to this article\n",
    "# https://stackoverflow.com/questions/3121217/cosine-similarity-of-vectors-of-different-lengths\n",
    "l = min(l1,l2)\n",
    "\n",
    "similarity = []\n",
    "for i in range(0,5):\n",
    "    print('Test IDF Vector is :'+str(test[i]) )\n",
    "    testmag = magnitude(test[i])\n",
    "    cosines = []\n",
    "    for j in range (0,5):\n",
    "        trainmag = magnitude(train[j])\n",
    "        s=0\n",
    "        for k in range(0,l):\n",
    "           s+=(test[i][k]*train[j][k])\n",
    "           \n",
    "        cosine = s/(trainmag*testmag)\n",
    "        \n",
    "        cosines.append(cosine)\n",
    "            \n",
    "        print('Cosine similarity of College_Chat_{} with High_School_Chat_{} is '.format(i+1,j+1)+str(cosine))\n",
    "        \n",
    "    similarity.append(cosines)\n",
    "    "
   ]
  },
  {
   "cell_type": "code",
   "execution_count": 105,
   "metadata": {},
   "outputs": [
    {
     "ename": "NameError",
     "evalue": "name 'similarity' is not defined",
     "output_type": "error",
     "traceback": [
      "\u001b[1;31m---------------------------------------------------------------------------\u001b[0m",
      "\u001b[1;31mNameError\u001b[0m                                 Traceback (most recent call last)",
      "\u001b[1;32m<ipython-input-105-c66a577b516a>\u001b[0m in \u001b[0;36m<module>\u001b[1;34m\u001b[0m\n\u001b[1;32m----> 1\u001b[1;33m \u001b[0msaveMetric\u001b[0m\u001b[1;33m(\u001b[0m\u001b[0msimilarity\u001b[0m\u001b[1;33m,\u001b[0m \u001b[1;34m'Cosine_Similarity_Trigram_Matrix.txt'\u001b[0m \u001b[1;33m,\u001b[0m\u001b[1;34m'Collge Chat '\u001b[0m\u001b[1;33m,\u001b[0m\u001b[1;34m'High School Chat '\u001b[0m\u001b[1;33m)\u001b[0m\u001b[1;33m\u001b[0m\u001b[1;33m\u001b[0m\u001b[0m\n\u001b[0m\u001b[0;32m      2\u001b[0m \u001b[1;33m\u001b[0m\u001b[0m\n\u001b[0;32m      3\u001b[0m \u001b[1;31m# plotting cosine similarities\u001b[0m\u001b[1;33m\u001b[0m\u001b[1;33m\u001b[0m\u001b[1;33m\u001b[0m\u001b[0m\n\u001b[0;32m      4\u001b[0m \u001b[1;33m\u001b[0m\u001b[0m\n\u001b[0;32m      5\u001b[0m \u001b[0mplot\u001b[0m\u001b[1;33m(\u001b[0m\u001b[1;33m[\u001b[0m\u001b[1;36m1\u001b[0m\u001b[1;33m,\u001b[0m\u001b[1;36m2\u001b[0m\u001b[1;33m,\u001b[0m\u001b[1;36m3\u001b[0m\u001b[1;33m,\u001b[0m\u001b[1;36m4\u001b[0m\u001b[1;33m,\u001b[0m\u001b[1;36m5\u001b[0m\u001b[1;33m]\u001b[0m\u001b[1;33m,\u001b[0m\u001b[0msimilarity\u001b[0m\u001b[1;33m[\u001b[0m\u001b[1;36m0\u001b[0m\u001b[1;33m]\u001b[0m\u001b[1;33m,\u001b[0m\u001b[1;34m'High School Chats'\u001b[0m\u001b[1;33m,\u001b[0m\u001b[1;34m'Trigram Cosine Similarity with College Chat Document 1'\u001b[0m\u001b[1;33m,\u001b[0m\u001b[1;32mFalse\u001b[0m\u001b[1;33m,\u001b[0m\u001b[1;34m'blue'\u001b[0m\u001b[1;33m,\u001b[0m\u001b[1;36m0.5\u001b[0m\u001b[1;33m)\u001b[0m\u001b[1;33m\u001b[0m\u001b[1;33m\u001b[0m\u001b[0m\n",
      "\u001b[1;31mNameError\u001b[0m: name 'similarity' is not defined"
     ]
    }
   ],
   "source": [
    "saveMetric(similarity, 'Cosine_Similarity_Trigram_Matrix.txt' ,'Collge Chat ','High School Chat ')\n",
    "\n",
    "# plotting cosine similarities\n",
    "\n",
    "plot([1,2,3,4,5],similarity[0],'High School Chats','Trigram Cosine Similarity with College Chat Document 1',False,'blue',0.5)\n",
    "plot([1,2,3,4,5],similarity[1],'High School Chats','Trigram Cosine Similarity with College Chat Document 2',False,'blue',0.5)\n",
    "plot([1,2,3,4,5],similarity[2],'High School Chats','Trigram Cosine Similarity with College Chat Document 3',False,'blue',0.5)\n",
    "plot([1,2,3,4,5],similarity[3],'High School Chats','Trigram Cosine Similarity with College Chat Document 4',False,'blue',0.5)\n",
    "plot([1,2,3,4,5],similarity[4],'High School Chats','Trigram Cosine Similarity with College Chat Document 5',False,'blue',0.5)"
   ]
  },
  {
   "cell_type": "code",
   "execution_count": 106,
   "metadata": {},
   "outputs": [
    {
     "ename": "NameError",
     "evalue": "name 'similarity' is not defined",
     "output_type": "error",
     "traceback": [
      "\u001b[1;31m---------------------------------------------------------------------------\u001b[0m",
      "\u001b[1;31mNameError\u001b[0m                                 Traceback (most recent call last)",
      "\u001b[1;32m<ipython-input-106-115545a5fb6a>\u001b[0m in \u001b[0;36m<module>\u001b[1;34m\u001b[0m\n\u001b[0;32m      3\u001b[0m \u001b[0mclg\u001b[0m\u001b[1;33m=\u001b[0m\u001b[1;36m0\u001b[0m\u001b[1;33m\u001b[0m\u001b[1;33m\u001b[0m\u001b[0m\n\u001b[0;32m      4\u001b[0m \u001b[1;32mfor\u001b[0m \u001b[0mi\u001b[0m \u001b[1;32min\u001b[0m \u001b[0mrange\u001b[0m \u001b[1;33m(\u001b[0m\u001b[1;36m0\u001b[0m\u001b[1;33m,\u001b[0m\u001b[1;36m5\u001b[0m\u001b[1;33m)\u001b[0m\u001b[1;33m:\u001b[0m\u001b[1;33m\u001b[0m\u001b[1;33m\u001b[0m\u001b[0m\n\u001b[1;32m----> 5\u001b[1;33m     \u001b[0mrow\u001b[0m \u001b[1;33m=\u001b[0m \u001b[0msimilarity\u001b[0m\u001b[1;33m[\u001b[0m\u001b[0mi\u001b[0m\u001b[1;33m]\u001b[0m\u001b[1;33m\u001b[0m\u001b[1;33m\u001b[0m\u001b[0m\n\u001b[0m\u001b[0;32m      6\u001b[0m     \u001b[0mprint\u001b[0m\u001b[1;33m(\u001b[0m\u001b[1;34m'College Chat {} :'\u001b[0m\u001b[1;33m.\u001b[0m\u001b[0mformat\u001b[0m\u001b[1;33m(\u001b[0m\u001b[0mi\u001b[0m\u001b[1;33m+\u001b[0m\u001b[1;36m1\u001b[0m\u001b[1;33m)\u001b[0m\u001b[1;33m)\u001b[0m\u001b[1;33m\u001b[0m\u001b[1;33m\u001b[0m\u001b[0m\n\u001b[0;32m      7\u001b[0m     \u001b[1;32mfor\u001b[0m \u001b[0mj\u001b[0m \u001b[1;32min\u001b[0m \u001b[0mrange\u001b[0m \u001b[1;33m(\u001b[0m\u001b[1;36m0\u001b[0m\u001b[1;33m,\u001b[0m\u001b[1;36m5\u001b[0m\u001b[1;33m)\u001b[0m\u001b[1;33m:\u001b[0m\u001b[1;33m\u001b[0m\u001b[1;33m\u001b[0m\u001b[0m\n",
      "\u001b[1;31mNameError\u001b[0m: name 'similarity' is not defined"
     ]
    }
   ],
   "source": [
    "maxval = 0\n",
    "hs=0\n",
    "clg=0\n",
    "for i in range (0,5):\n",
    "    row = similarity[i]\n",
    "    print('College Chat {} :'.format(i+1))\n",
    "    for j in range (0,5):\n",
    "        print(row[j],end=' ')\n",
    "        if row[j]>maxval:\n",
    "            maxval = row[j]\n",
    "            hs = j\n",
    "            clg = i\n",
    "    print()\n",
    "\n",
    "f = open('Cosine_Similarity_Trigram_Matrix.txt','a')\n",
    "f.write('\\n\\n')\n",
    "\n",
    "print('The College Chat Document - {} is closest to the High School Chat Document - {} with a cosine similarity of {}'.\n",
    "      format(clg+1,hs+1,maxval),file=f)\n",
    "f.close()"
   ]
  },
  {
   "cell_type": "code",
   "execution_count": 107,
   "metadata": {},
   "outputs": [
    {
     "ename": "NameError",
     "evalue": "name 'TFIDF_CLG_Trigram' is not defined",
     "output_type": "error",
     "traceback": [
      "\u001b[1;31m---------------------------------------------------------------------------\u001b[0m",
      "\u001b[1;31mNameError\u001b[0m                                 Traceback (most recent call last)",
      "\u001b[1;32m<ipython-input-107-de530715acc4>\u001b[0m in \u001b[0;36m<module>\u001b[1;34m\u001b[0m\n\u001b[0;32m      1\u001b[0m \u001b[1;34m\"\"\" Verifying our result by doing reverse \"\"\"\u001b[0m\u001b[1;33m\u001b[0m\u001b[1;33m\u001b[0m\u001b[0m\n\u001b[0;32m      2\u001b[0m \u001b[1;34m\"\"\" CLG vs HS \"\"\"\u001b[0m\u001b[1;33m\u001b[0m\u001b[1;33m\u001b[0m\u001b[0m\n\u001b[1;32m----> 3\u001b[1;33m \u001b[0mtrain\u001b[0m \u001b[1;33m=\u001b[0m \u001b[0mTFIDF_CLG_Trigram\u001b[0m\u001b[1;33m\u001b[0m\u001b[1;33m\u001b[0m\u001b[0m\n\u001b[0m\u001b[0;32m      4\u001b[0m \u001b[0mtest\u001b[0m \u001b[1;33m=\u001b[0m \u001b[0mTFIDF_HS_Trigram\u001b[0m\u001b[1;33m\u001b[0m\u001b[1;33m\u001b[0m\u001b[0m\n\u001b[0;32m      5\u001b[0m \u001b[0ml1\u001b[0m \u001b[1;33m=\u001b[0m \u001b[0mlen\u001b[0m\u001b[1;33m(\u001b[0m\u001b[0mtest\u001b[0m\u001b[1;33m[\u001b[0m\u001b[1;36m0\u001b[0m\u001b[1;33m]\u001b[0m\u001b[1;33m)\u001b[0m\u001b[1;33m\u001b[0m\u001b[1;33m\u001b[0m\u001b[0m\n",
      "\u001b[1;31mNameError\u001b[0m: name 'TFIDF_CLG_Trigram' is not defined"
     ]
    }
   ],
   "source": [
    "\"\"\" Verifying our result by doing reverse \"\"\"\n",
    "\"\"\" CLG vs HS \"\"\"\n",
    "train = TFIDF_CLG_Trigram\n",
    "test = TFIDF_HS_Trigram\n",
    "l1 = len(test[0])\n",
    "l2 = len(train[0])\n",
    "l = min(l1,l2)\n",
    "\n",
    "similarity = []\n",
    "for i in range(0,5):\n",
    "    print('Test IDF Vector is :'+str(test[i]) )\n",
    "    testmag = magnitude(test[i])\n",
    "    cosines = []\n",
    "    for j in range (0,5):\n",
    "        trainmag = magnitude(train[j])\n",
    "        s=0\n",
    "        for k in range(0,l):\n",
    "           s+=(test[i][k]*train[j][k])\n",
    "           \n",
    "        cosine = s/(trainmag*testmag)\n",
    "        cosines.append(cosine)\n",
    "        print('Cosine similarity of High_School_Chat{} with College_Chat_{} is '.format(i+1,j+1)+str(cosine))\n",
    "    similarity.append(cosines)\n",
    "    \n",
    "\n",
    "maxval = 0\n",
    "hs=0\n",
    "clg=0\n",
    "    \n",
    "for i in range (0,5):\n",
    "    row = similarity[i]\n",
    "    print('High School Chat {} :'.format(i+1))\n",
    "    for j in range (0,5):\n",
    "        print(row[j],end=' ')\n",
    "        if row[j]>maxval:\n",
    "            maxval = row[j]\n",
    "            hs = i\n",
    "            clg = j\n",
    "    print()\n",
    "    \n",
    "\n",
    "print('The High School Chat Document - {} is closest to the College Chat Document- {} with a cosine similarity of {}'.\n",
    "      format(hs+1,clg+1,maxval))"
   ]
  },
  {
   "cell_type": "code",
   "execution_count": 108,
   "metadata": {},
   "outputs": [
    {
     "ename": "NameError",
     "evalue": "name 'TFIDF_HS_Trigram' is not defined",
     "output_type": "error",
     "traceback": [
      "\u001b[1;31m---------------------------------------------------------------------------\u001b[0m",
      "\u001b[1;31mNameError\u001b[0m                                 Traceback (most recent call last)",
      "\u001b[1;32m<ipython-input-108-17ceb1ab5972>\u001b[0m in \u001b[0;36m<module>\u001b[1;34m\u001b[0m\n\u001b[0;32m      2\u001b[0m \u001b[1;34m\"\"\" HS Vs CLG \"\"\"\u001b[0m\u001b[1;33m\u001b[0m\u001b[1;33m\u001b[0m\u001b[0m\n\u001b[0;32m      3\u001b[0m \u001b[1;33m\u001b[0m\u001b[0m\n\u001b[1;32m----> 4\u001b[1;33m \u001b[0mtrain\u001b[0m \u001b[1;33m=\u001b[0m \u001b[0mTFIDF_HS_Trigram\u001b[0m\u001b[1;33m\u001b[0m\u001b[1;33m\u001b[0m\u001b[0m\n\u001b[0m\u001b[0;32m      5\u001b[0m \u001b[0mtest\u001b[0m \u001b[1;33m=\u001b[0m \u001b[0mTFIDF_CLG_Trigram\u001b[0m\u001b[1;33m\u001b[0m\u001b[1;33m\u001b[0m\u001b[0m\n\u001b[0;32m      6\u001b[0m \u001b[0ml1\u001b[0m \u001b[1;33m=\u001b[0m \u001b[0mlen\u001b[0m\u001b[1;33m(\u001b[0m\u001b[0mtest\u001b[0m\u001b[1;33m[\u001b[0m\u001b[1;36m0\u001b[0m\u001b[1;33m]\u001b[0m\u001b[1;33m)\u001b[0m\u001b[1;33m\u001b[0m\u001b[1;33m\u001b[0m\u001b[0m\n",
      "\u001b[1;31mNameError\u001b[0m: name 'TFIDF_HS_Trigram' is not defined"
     ]
    }
   ],
   "source": [
    "\"\"\" Manhattan Distance \"\"\"\n",
    "\"\"\" HS Vs CLG \"\"\"\n",
    "\n",
    "train = TFIDF_HS_Trigram\n",
    "test = TFIDF_CLG_Trigram\n",
    "l1 = len(test[0])\n",
    "l2 = len(train[0])\n",
    "l = min(l1,l2)\n",
    "\n",
    "manhattan = []\n",
    "for i in range(0,5):\n",
    "    print('Test IDF Vector is :'+str(test[i]) )\n",
    "    distance = []\n",
    "    for j in range (0,5):\n",
    "        s=0\n",
    "        # difference till common length\n",
    "        for k in range(0,l):\n",
    "           s+=(abs(test[i][k]-train[j][k]))\n",
    "        # the remaining elements\n",
    "        if(l1>l2):\n",
    "            for k in range(l,l2):\n",
    "                s+=test[i][k]\n",
    "        elif(l2>l1):\n",
    "             for k in range(l,l1):\n",
    "                s+=train[j][k]\n",
    "            \n",
    "                   \n",
    "        distance.append(s)\n",
    "            \n",
    "        print('Manhattan Distance of College_Chat_{} with High_School_Chat_{} is '.format(i+1,j+1)+str(s))\n",
    "        \n",
    "    manhattan.append(distance)"
   ]
  },
  {
   "cell_type": "code",
   "execution_count": 109,
   "metadata": {},
   "outputs": [
    {
     "ename": "NameError",
     "evalue": "name 'manhattan' is not defined",
     "output_type": "error",
     "traceback": [
      "\u001b[1;31m---------------------------------------------------------------------------\u001b[0m",
      "\u001b[1;31mNameError\u001b[0m                                 Traceback (most recent call last)",
      "\u001b[1;32m<ipython-input-109-86e14c061a92>\u001b[0m in \u001b[0;36m<module>\u001b[1;34m\u001b[0m\n\u001b[1;32m----> 1\u001b[1;33m \u001b[0msaveMetric\u001b[0m\u001b[1;33m(\u001b[0m\u001b[0mmanhattan\u001b[0m\u001b[1;33m,\u001b[0m \u001b[1;34m'Manhattan_Distance_Trigram_Matrix.txt'\u001b[0m \u001b[1;33m,\u001b[0m\u001b[1;34m'Collge Chat '\u001b[0m\u001b[1;33m,\u001b[0m\u001b[1;34m'High School Chat '\u001b[0m\u001b[1;33m)\u001b[0m\u001b[1;33m\u001b[0m\u001b[1;33m\u001b[0m\u001b[0m\n\u001b[0m\u001b[0;32m      2\u001b[0m \u001b[1;33m\u001b[0m\u001b[0m\n\u001b[0;32m      3\u001b[0m \u001b[1;31m# plotting manhattan distance\u001b[0m\u001b[1;33m\u001b[0m\u001b[1;33m\u001b[0m\u001b[1;33m\u001b[0m\u001b[0m\n\u001b[0;32m      4\u001b[0m \u001b[0mplot\u001b[0m\u001b[1;33m(\u001b[0m\u001b[1;33m[\u001b[0m\u001b[1;36m1\u001b[0m\u001b[1;33m,\u001b[0m\u001b[1;36m2\u001b[0m\u001b[1;33m,\u001b[0m\u001b[1;36m3\u001b[0m\u001b[1;33m,\u001b[0m\u001b[1;36m4\u001b[0m\u001b[1;33m,\u001b[0m\u001b[1;36m5\u001b[0m\u001b[1;33m]\u001b[0m\u001b[1;33m,\u001b[0m\u001b[0mmanhattan\u001b[0m\u001b[1;33m[\u001b[0m\u001b[1;36m0\u001b[0m\u001b[1;33m]\u001b[0m\u001b[1;33m,\u001b[0m\u001b[1;34m'High School Chats'\u001b[0m\u001b[1;33m,\u001b[0m\u001b[1;34m'Trigram Manhattan Distance from College Chat Document 1'\u001b[0m\u001b[1;33m,\u001b[0m\u001b[1;32mFalse\u001b[0m\u001b[1;33m,\u001b[0m\u001b[1;34m'blue'\u001b[0m\u001b[1;33m,\u001b[0m\u001b[1;36m0.5\u001b[0m\u001b[1;33m)\u001b[0m\u001b[1;33m\u001b[0m\u001b[1;33m\u001b[0m\u001b[0m\n\u001b[0;32m      5\u001b[0m \u001b[0mplot\u001b[0m\u001b[1;33m(\u001b[0m\u001b[1;33m[\u001b[0m\u001b[1;36m1\u001b[0m\u001b[1;33m,\u001b[0m\u001b[1;36m2\u001b[0m\u001b[1;33m,\u001b[0m\u001b[1;36m3\u001b[0m\u001b[1;33m,\u001b[0m\u001b[1;36m4\u001b[0m\u001b[1;33m,\u001b[0m\u001b[1;36m5\u001b[0m\u001b[1;33m]\u001b[0m\u001b[1;33m,\u001b[0m\u001b[0mmanhattan\u001b[0m\u001b[1;33m[\u001b[0m\u001b[1;36m1\u001b[0m\u001b[1;33m]\u001b[0m\u001b[1;33m,\u001b[0m\u001b[1;34m'High School Chats'\u001b[0m\u001b[1;33m,\u001b[0m\u001b[1;34m'Trigram Manhattan Distance from College Chat Document 2'\u001b[0m\u001b[1;33m,\u001b[0m\u001b[1;32mFalse\u001b[0m\u001b[1;33m,\u001b[0m\u001b[1;34m'blue'\u001b[0m\u001b[1;33m,\u001b[0m\u001b[1;36m0.5\u001b[0m\u001b[1;33m)\u001b[0m\u001b[1;33m\u001b[0m\u001b[1;33m\u001b[0m\u001b[0m\n",
      "\u001b[1;31mNameError\u001b[0m: name 'manhattan' is not defined"
     ]
    }
   ],
   "source": [
    "saveMetric(manhattan, 'Manhattan_Distance_Trigram_Matrix.txt' ,'Collge Chat ','High School Chat ')\n",
    "\n",
    "# plotting manhattan distance\n",
    "plot([1,2,3,4,5],manhattan[0],'High School Chats','Trigram Manhattan Distance from College Chat Document 1',False,'blue',0.5)\n",
    "plot([1,2,3,4,5],manhattan[1],'High School Chats','Trigram Manhattan Distance from College Chat Document 2',False,'blue',0.5)\n",
    "plot([1,2,3,4,5],manhattan[2],'High School Chats','Trigram Manhattan Distance from College Chat Document 3',False,'blue',0.5)\n",
    "plot([1,2,3,4,5],manhattan[3],'High School Chats','Trigram Manhattan Distance from College Chat Document 4',False,'blue',0.5)\n",
    "plot([1,2,3,4,5],manhattan[4],'High School Chats','Trigram Manhattan Distance from College Chat Document 5',False,'blue',0.5)"
   ]
  },
  {
   "cell_type": "code",
   "execution_count": 110,
   "metadata": {},
   "outputs": [
    {
     "ename": "NameError",
     "evalue": "name 'manhattan' is not defined",
     "output_type": "error",
     "traceback": [
      "\u001b[1;31m---------------------------------------------------------------------------\u001b[0m",
      "\u001b[1;31mNameError\u001b[0m                                 Traceback (most recent call last)",
      "\u001b[1;32m<ipython-input-110-679f16e67af3>\u001b[0m in \u001b[0;36m<module>\u001b[1;34m\u001b[0m\n\u001b[0;32m      3\u001b[0m \u001b[0mclg\u001b[0m\u001b[1;33m=\u001b[0m\u001b[1;36m0\u001b[0m\u001b[1;33m\u001b[0m\u001b[1;33m\u001b[0m\u001b[0m\n\u001b[0;32m      4\u001b[0m \u001b[1;32mfor\u001b[0m \u001b[0mi\u001b[0m \u001b[1;32min\u001b[0m \u001b[0mrange\u001b[0m \u001b[1;33m(\u001b[0m\u001b[1;36m0\u001b[0m\u001b[1;33m,\u001b[0m\u001b[1;36m5\u001b[0m\u001b[1;33m)\u001b[0m\u001b[1;33m:\u001b[0m\u001b[1;33m\u001b[0m\u001b[1;33m\u001b[0m\u001b[0m\n\u001b[1;32m----> 5\u001b[1;33m     \u001b[0mrow\u001b[0m \u001b[1;33m=\u001b[0m \u001b[0mmanhattan\u001b[0m\u001b[1;33m[\u001b[0m\u001b[0mi\u001b[0m\u001b[1;33m]\u001b[0m\u001b[1;33m\u001b[0m\u001b[1;33m\u001b[0m\u001b[0m\n\u001b[0m\u001b[0;32m      6\u001b[0m     \u001b[0mprint\u001b[0m\u001b[1;33m(\u001b[0m\u001b[1;34m'College Chat {} :'\u001b[0m\u001b[1;33m.\u001b[0m\u001b[0mformat\u001b[0m\u001b[1;33m(\u001b[0m\u001b[0mi\u001b[0m\u001b[1;33m+\u001b[0m\u001b[1;36m1\u001b[0m\u001b[1;33m)\u001b[0m\u001b[1;33m)\u001b[0m\u001b[1;33m\u001b[0m\u001b[1;33m\u001b[0m\u001b[0m\n\u001b[0;32m      7\u001b[0m     \u001b[1;32mfor\u001b[0m \u001b[0mj\u001b[0m \u001b[1;32min\u001b[0m \u001b[0mrange\u001b[0m \u001b[1;33m(\u001b[0m\u001b[1;36m0\u001b[0m\u001b[1;33m,\u001b[0m\u001b[1;36m5\u001b[0m\u001b[1;33m)\u001b[0m\u001b[1;33m:\u001b[0m\u001b[1;33m\u001b[0m\u001b[1;33m\u001b[0m\u001b[0m\n",
      "\u001b[1;31mNameError\u001b[0m: name 'manhattan' is not defined"
     ]
    }
   ],
   "source": [
    "maxval = 0\n",
    "hs=0\n",
    "clg=0\n",
    "for i in range (0,5):\n",
    "    row = manhattan[i]\n",
    "    print('College Chat {} :'.format(i+1))\n",
    "    for j in range (0,5):\n",
    "        print(row[j],end=' ')\n",
    "        if row[j]>maxval:\n",
    "            maxval = row[j]\n",
    "            hs = j\n",
    "            clg = i\n",
    "    print()\n",
    "f = open('Manhattan_Distance_Trigram_Matrix.txt','a')\n",
    "f.write('\\n\\n')\n",
    "\n",
    "print('The College Chat Document - {} is farthest to the High School Chat Document - {} with a manhattan distance of {}'.\n",
    "      format(clg+1,hs+1,maxval),file=f)\n",
    "\n",
    "f.close()"
   ]
  },
  {
   "cell_type": "code",
   "execution_count": 111,
   "metadata": {},
   "outputs": [
    {
     "ename": "NameError",
     "evalue": "name 'TFIDF_CLG_Trigram' is not defined",
     "output_type": "error",
     "traceback": [
      "\u001b[1;31m---------------------------------------------------------------------------\u001b[0m",
      "\u001b[1;31mNameError\u001b[0m                                 Traceback (most recent call last)",
      "\u001b[1;32m<ipython-input-111-8b99ceeedb6d>\u001b[0m in \u001b[0;36m<module>\u001b[1;34m\u001b[0m\n\u001b[0;32m      2\u001b[0m \u001b[1;34m\"\"\" CLG Vs Hs \"\"\"\u001b[0m\u001b[1;33m\u001b[0m\u001b[1;33m\u001b[0m\u001b[0m\n\u001b[0;32m      3\u001b[0m \u001b[1;33m\u001b[0m\u001b[0m\n\u001b[1;32m----> 4\u001b[1;33m \u001b[0mtrain\u001b[0m \u001b[1;33m=\u001b[0m \u001b[0mTFIDF_CLG_Trigram\u001b[0m\u001b[1;33m\u001b[0m\u001b[1;33m\u001b[0m\u001b[0m\n\u001b[0m\u001b[0;32m      5\u001b[0m \u001b[0mtest\u001b[0m \u001b[1;33m=\u001b[0m \u001b[0mTFIDF_HS_Trigram\u001b[0m\u001b[1;33m\u001b[0m\u001b[1;33m\u001b[0m\u001b[0m\n\u001b[0;32m      6\u001b[0m \u001b[0ml1\u001b[0m \u001b[1;33m=\u001b[0m \u001b[0mlen\u001b[0m\u001b[1;33m(\u001b[0m\u001b[0mtest\u001b[0m\u001b[1;33m[\u001b[0m\u001b[1;36m0\u001b[0m\u001b[1;33m]\u001b[0m\u001b[1;33m)\u001b[0m\u001b[1;33m\u001b[0m\u001b[1;33m\u001b[0m\u001b[0m\n",
      "\u001b[1;31mNameError\u001b[0m: name 'TFIDF_CLG_Trigram' is not defined"
     ]
    }
   ],
   "source": [
    "\"\"\" Verifying the Result \"\"\"\n",
    "\"\"\" CLG Vs Hs \"\"\"\n",
    "\n",
    "train = TFIDF_CLG_Trigram\n",
    "test = TFIDF_HS_Trigram\n",
    "l1 = len(test[0])\n",
    "l2 = len(train[0])\n",
    "l = min(l1,l2)\n",
    "\n",
    "manhattan = []\n",
    "for i in range(0,5):\n",
    "    print('Test IDF Vector is :'+str(test[i]) )\n",
    "    distance = []\n",
    "    for j in range (0,5):\n",
    "        s=0\n",
    "        # difference till common length\n",
    "        for k in range(0,l):\n",
    "           s+=(abs(test[i][k]-train[j][k]))\n",
    "        # the remaining elements\n",
    "        if(l1>l2):\n",
    "            for k in range(l,l2):\n",
    "                s+=test[i][k]\n",
    "        elif(l2>l1):\n",
    "             for k in range(l,l1):\n",
    "                s+=train[j][k]\n",
    "            \n",
    "                   \n",
    "        distance.append(s)\n",
    "            \n",
    "        print('Manhattan Distance of High_School_Chat_{} with College_Chat_{} is '.format(i+1,j+1)+str(s))\n",
    "        \n",
    "    manhattan.append(distance)\n",
    "    \n",
    "    \n",
    "maxval = 0\n",
    "hs=0\n",
    "clg=0\n",
    "for i in range (0,5):\n",
    "    row = manhattan[i]\n",
    "    print('High School Chat {} :'.format(i+1))\n",
    "    for j in range (0,5):\n",
    "        print(row[j],end=' ')\n",
    "        if row[j]>maxval:\n",
    "            maxval = row[j]\n",
    "            hs = i\n",
    "            clg = j\n",
    "    print()\n",
    "\n",
    "print('The High School Chat Document - {} is farthest to the College Chat Document - {} with a manhattan distance of {}'.\n",
    "      format(hs+1,clg+1,maxval))"
   ]
  },
  {
   "cell_type": "code",
   "execution_count": null,
   "metadata": {},
   "outputs": [],
   "source": []
  }
 ],
 "metadata": {
  "celltoolbar": "Edit Metadata",
  "kernelspec": {
   "display_name": "Python 3",
   "language": "python",
   "name": "python3"
  },
  "language_info": {
   "codemirror_mode": {
    "name": "ipython",
    "version": 3
   },
   "file_extension": ".py",
   "mimetype": "text/x-python",
   "name": "python",
   "nbconvert_exporter": "python",
   "pygments_lexer": "ipython3",
   "version": "3.7.6"
  }
 },
 "nbformat": 4,
 "nbformat_minor": 4
}
